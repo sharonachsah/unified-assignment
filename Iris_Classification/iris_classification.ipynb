{
  "cells": [
    {
      "cell_type": "markdown",
      "metadata": {
        "id": "Y3lxredqlCYt"
      },
      "source": [
        "### Import Libraries"
      ]
    },
    {
      "cell_type": "code",
      "execution_count": 2,
      "metadata": {
        "id": "M8Vqi-pPk-HR"
      },
      "outputs": [],
      "source": [
        "import numpy as np\n",
        "import pandas as pd\n",
        "\n",
        "import matplotlib.pyplot as plt\n",
        "import seaborn as sns\n",
        "\n",
        "from sklearn.metrics import confusion_matrix, accuracy_score, classification_report\n",
        "\n",
        "from sklearn.preprocessing import LabelEncoder\n",
        "\n",
        "from sklearn.model_selection import (\n",
        "    train_test_split,\n",
        "    GridSearchCV,\n",
        "    RandomizedSearchCV,\n",
        "    RepeatedStratifiedKFold,\n",
        ")\n",
        "\n",
        "from sklearn.linear_model import LogisticRegression\n",
        "from sklearn.tree import DecisionTreeClassifier\n",
        "from sklearn.ensemble import RandomForestClassifier\n",
        "from sklearn.svm import SVC\n",
        "from sklearn.neural_network import MLPClassifier\n",
        "from sklearn.naive_bayes import GaussianNB\n",
        "import xgboost as xgb\n",
        "\n",
        "import warnings\n",
        "\n",
        "warnings.filterwarnings(\"ignore\")"
      ]
    },
    {
      "cell_type": "markdown",
      "metadata": {
        "id": "3RnN4peoiCZX"
      },
      "source": [
        "### Dataset Loading"
      ]
    },
    {
      "cell_type": "code",
      "execution_count": 3,
      "metadata": {},
      "outputs": [],
      "source": [
        "df = pd.read_csv(\"Iris.csv\")"
      ]
    },
    {
      "cell_type": "markdown",
      "metadata": {
        "id": "x71ZqKXriCWQ"
      },
      "source": [
        "### Dataset First View"
      ]
    },
    {
      "cell_type": "code",
      "execution_count": 4,
      "metadata": {
        "colab": {
          "base_uri": "https://localhost:8080/",
          "height": 206
        },
        "id": "LWNFOSvLl09H",
        "outputId": "c96556b1-2d37-417f-d5e9-5982c0d45fa2"
      },
      "outputs": [
        {
          "data": {
            "text/html": [
              "<div>\n",
              "<style scoped>\n",
              "    .dataframe tbody tr th:only-of-type {\n",
              "        vertical-align: middle;\n",
              "    }\n",
              "\n",
              "    .dataframe tbody tr th {\n",
              "        vertical-align: top;\n",
              "    }\n",
              "\n",
              "    .dataframe thead th {\n",
              "        text-align: right;\n",
              "    }\n",
              "</style>\n",
              "<table border=\"1\" class=\"dataframe\">\n",
              "  <thead>\n",
              "    <tr style=\"text-align: right;\">\n",
              "      <th></th>\n",
              "      <th>Id</th>\n",
              "      <th>SepalLengthCm</th>\n",
              "      <th>SepalWidthCm</th>\n",
              "      <th>PetalLengthCm</th>\n",
              "      <th>PetalWidthCm</th>\n",
              "      <th>Species</th>\n",
              "    </tr>\n",
              "  </thead>\n",
              "  <tbody>\n",
              "    <tr>\n",
              "      <th>0</th>\n",
              "      <td>1</td>\n",
              "      <td>5.1</td>\n",
              "      <td>3.5</td>\n",
              "      <td>1.4</td>\n",
              "      <td>0.2</td>\n",
              "      <td>Iris-setosa</td>\n",
              "    </tr>\n",
              "    <tr>\n",
              "      <th>1</th>\n",
              "      <td>2</td>\n",
              "      <td>4.9</td>\n",
              "      <td>3.0</td>\n",
              "      <td>1.4</td>\n",
              "      <td>0.2</td>\n",
              "      <td>Iris-setosa</td>\n",
              "    </tr>\n",
              "    <tr>\n",
              "      <th>2</th>\n",
              "      <td>3</td>\n",
              "      <td>4.7</td>\n",
              "      <td>3.2</td>\n",
              "      <td>1.3</td>\n",
              "      <td>0.2</td>\n",
              "      <td>Iris-setosa</td>\n",
              "    </tr>\n",
              "    <tr>\n",
              "      <th>3</th>\n",
              "      <td>4</td>\n",
              "      <td>4.6</td>\n",
              "      <td>3.1</td>\n",
              "      <td>1.5</td>\n",
              "      <td>0.2</td>\n",
              "      <td>Iris-setosa</td>\n",
              "    </tr>\n",
              "    <tr>\n",
              "      <th>4</th>\n",
              "      <td>5</td>\n",
              "      <td>5.0</td>\n",
              "      <td>3.6</td>\n",
              "      <td>1.4</td>\n",
              "      <td>0.2</td>\n",
              "      <td>Iris-setosa</td>\n",
              "    </tr>\n",
              "  </tbody>\n",
              "</table>\n",
              "</div>"
            ],
            "text/plain": [
              "   Id  SepalLengthCm  SepalWidthCm  PetalLengthCm  PetalWidthCm      Species\n",
              "0   1            5.1           3.5            1.4           0.2  Iris-setosa\n",
              "1   2            4.9           3.0            1.4           0.2  Iris-setosa\n",
              "2   3            4.7           3.2            1.3           0.2  Iris-setosa\n",
              "3   4            4.6           3.1            1.5           0.2  Iris-setosa\n",
              "4   5            5.0           3.6            1.4           0.2  Iris-setosa"
            ]
          },
          "execution_count": 4,
          "metadata": {},
          "output_type": "execute_result"
        }
      ],
      "source": [
        "# Dataset First Look\n",
        "# View top 5 rows of the dataset\n",
        "df.head()"
      ]
    },
    {
      "cell_type": "markdown",
      "metadata": {
        "id": "7hBIi_osiCS2"
      },
      "source": [
        "### Dataset Rows & Columns count"
      ]
    },
    {
      "cell_type": "code",
      "execution_count": 5,
      "metadata": {
        "colab": {
          "base_uri": "https://localhost:8080/"
        },
        "id": "Kllu7SJgmLij",
        "outputId": "1be7a474-ce9a-48ca-a787-43343220fd82"
      },
      "outputs": [
        {
          "name": "stdout",
          "output_type": "stream",
          "text": [
            "Number of rows are:  150\n",
            "Number of columns are:  6\n"
          ]
        }
      ],
      "source": [
        "# Dataset Rows & Columns count\n",
        "# Checking number of rows and columns of the dataset using shape\n",
        "print(\"Number of rows are: \", df.shape[0])\n",
        "print(\"Number of columns are: \", df.shape[1])"
      ]
    },
    {
      "cell_type": "markdown",
      "metadata": {
        "id": "JlHwYmJAmNHm"
      },
      "source": [
        "### Dataset Information"
      ]
    },
    {
      "cell_type": "code",
      "execution_count": 6,
      "metadata": {
        "colab": {
          "base_uri": "https://localhost:8080/"
        },
        "id": "e9hRXRi6meOf",
        "outputId": "7e5f73c0-f112-4315-e752-c7ddc0b91a55"
      },
      "outputs": [
        {
          "name": "stdout",
          "output_type": "stream",
          "text": [
            "<class 'pandas.core.frame.DataFrame'>\n",
            "RangeIndex: 150 entries, 0 to 149\n",
            "Data columns (total 6 columns):\n",
            " #   Column         Non-Null Count  Dtype  \n",
            "---  ------         --------------  -----  \n",
            " 0   Id             150 non-null    int64  \n",
            " 1   SepalLengthCm  150 non-null    float64\n",
            " 2   SepalWidthCm   150 non-null    float64\n",
            " 3   PetalLengthCm  150 non-null    float64\n",
            " 4   PetalWidthCm   150 non-null    float64\n",
            " 5   Species        150 non-null    object \n",
            "dtypes: float64(4), int64(1), object(1)\n",
            "memory usage: 7.2+ KB\n"
          ]
        }
      ],
      "source": [
        "# Dataset Info\n",
        "# Checking information about the dataset using info\n",
        "df.info()"
      ]
    },
    {
      "cell_type": "markdown",
      "metadata": {
        "id": "35m5QtbWiB9F"
      },
      "source": [
        "#### Duplicate Values"
      ]
    },
    {
      "cell_type": "code",
      "execution_count": 7,
      "metadata": {
        "colab": {
          "base_uri": "https://localhost:8080/"
        },
        "id": "1sLdpKYkmox0",
        "outputId": "25ef7cbf-7fe7-4d39-9318-026e4c52a93c"
      },
      "outputs": [
        {
          "name": "stdout",
          "output_type": "stream",
          "text": [
            "number of duplicated rows are 0\n"
          ]
        }
      ],
      "source": [
        "# Dataset Duplicate Value Count\n",
        "dup = df.duplicated().sum()\n",
        "print(f\"number of duplicated rows are {dup}\")"
      ]
    },
    {
      "cell_type": "markdown",
      "metadata": {
        "id": "PoPl-ycgm1ru"
      },
      "source": [
        "#### Missing Values/Null Values"
      ]
    },
    {
      "cell_type": "code",
      "execution_count": 8,
      "metadata": {
        "colab": {
          "base_uri": "https://localhost:8080/"
        },
        "id": "GgHWkxvamxVg",
        "outputId": "4cd9a833-8259-4aa0-aa04-6e053162fe76"
      },
      "outputs": [
        {
          "data": {
            "text/plain": [
              "Id               0\n",
              "SepalLengthCm    0\n",
              "SepalWidthCm     0\n",
              "PetalLengthCm    0\n",
              "PetalWidthCm     0\n",
              "Species          0\n",
              "dtype: int64"
            ]
          },
          "execution_count": 8,
          "metadata": {},
          "output_type": "execute_result"
        }
      ],
      "source": [
        "# Missing Values/Null Values Count\n",
        "df.isnull().sum()"
      ]
    },
    {
      "cell_type": "markdown",
      "metadata": {
        "id": "nA9Y7ga8ng1Z"
      },
      "source": [
        "## 2. Understanding The Column"
      ]
    },
    {
      "cell_type": "code",
      "execution_count": 9,
      "metadata": {
        "colab": {
          "base_uri": "https://localhost:8080/"
        },
        "id": "DnOaZdaE5Q5t",
        "outputId": "821fc6eb-734d-436f-fbe2-64424a02dbe1"
      },
      "outputs": [
        {
          "data": {
            "text/html": [
              "<div>\n",
              "<style scoped>\n",
              "    .dataframe tbody tr th:only-of-type {\n",
              "        vertical-align: middle;\n",
              "    }\n",
              "\n",
              "    .dataframe tbody tr th {\n",
              "        vertical-align: top;\n",
              "    }\n",
              "\n",
              "    .dataframe thead th {\n",
              "        text-align: right;\n",
              "    }\n",
              "</style>\n",
              "<table border=\"1\" class=\"dataframe\">\n",
              "  <thead>\n",
              "    <tr style=\"text-align: right;\">\n",
              "      <th></th>\n",
              "      <th>Id</th>\n",
              "      <th>SepalLengthCm</th>\n",
              "      <th>SepalWidthCm</th>\n",
              "      <th>PetalLengthCm</th>\n",
              "      <th>PetalWidthCm</th>\n",
              "      <th>Species</th>\n",
              "    </tr>\n",
              "  </thead>\n",
              "  <tbody>\n",
              "    <tr>\n",
              "      <th>count</th>\n",
              "      <td>150.00</td>\n",
              "      <td>150.00</td>\n",
              "      <td>150.00</td>\n",
              "      <td>150.00</td>\n",
              "      <td>150.00</td>\n",
              "      <td>150</td>\n",
              "    </tr>\n",
              "    <tr>\n",
              "      <th>unique</th>\n",
              "      <td>NaN</td>\n",
              "      <td>NaN</td>\n",
              "      <td>NaN</td>\n",
              "      <td>NaN</td>\n",
              "      <td>NaN</td>\n",
              "      <td>3</td>\n",
              "    </tr>\n",
              "    <tr>\n",
              "      <th>top</th>\n",
              "      <td>NaN</td>\n",
              "      <td>NaN</td>\n",
              "      <td>NaN</td>\n",
              "      <td>NaN</td>\n",
              "      <td>NaN</td>\n",
              "      <td>Iris-setosa</td>\n",
              "    </tr>\n",
              "    <tr>\n",
              "      <th>freq</th>\n",
              "      <td>NaN</td>\n",
              "      <td>NaN</td>\n",
              "      <td>NaN</td>\n",
              "      <td>NaN</td>\n",
              "      <td>NaN</td>\n",
              "      <td>50</td>\n",
              "    </tr>\n",
              "    <tr>\n",
              "      <th>mean</th>\n",
              "      <td>75.50</td>\n",
              "      <td>5.84</td>\n",
              "      <td>3.05</td>\n",
              "      <td>3.76</td>\n",
              "      <td>1.20</td>\n",
              "      <td>NaN</td>\n",
              "    </tr>\n",
              "    <tr>\n",
              "      <th>std</th>\n",
              "      <td>43.45</td>\n",
              "      <td>0.83</td>\n",
              "      <td>0.43</td>\n",
              "      <td>1.76</td>\n",
              "      <td>0.76</td>\n",
              "      <td>NaN</td>\n",
              "    </tr>\n",
              "    <tr>\n",
              "      <th>min</th>\n",
              "      <td>1.00</td>\n",
              "      <td>4.30</td>\n",
              "      <td>2.00</td>\n",
              "      <td>1.00</td>\n",
              "      <td>0.10</td>\n",
              "      <td>NaN</td>\n",
              "    </tr>\n",
              "    <tr>\n",
              "      <th>25%</th>\n",
              "      <td>38.25</td>\n",
              "      <td>5.10</td>\n",
              "      <td>2.80</td>\n",
              "      <td>1.60</td>\n",
              "      <td>0.30</td>\n",
              "      <td>NaN</td>\n",
              "    </tr>\n",
              "    <tr>\n",
              "      <th>50%</th>\n",
              "      <td>75.50</td>\n",
              "      <td>5.80</td>\n",
              "      <td>3.00</td>\n",
              "      <td>4.35</td>\n",
              "      <td>1.30</td>\n",
              "      <td>NaN</td>\n",
              "    </tr>\n",
              "    <tr>\n",
              "      <th>75%</th>\n",
              "      <td>112.75</td>\n",
              "      <td>6.40</td>\n",
              "      <td>3.30</td>\n",
              "      <td>5.10</td>\n",
              "      <td>1.80</td>\n",
              "      <td>NaN</td>\n",
              "    </tr>\n",
              "    <tr>\n",
              "      <th>max</th>\n",
              "      <td>150.00</td>\n",
              "      <td>7.90</td>\n",
              "      <td>4.40</td>\n",
              "      <td>6.90</td>\n",
              "      <td>2.50</td>\n",
              "      <td>NaN</td>\n",
              "    </tr>\n",
              "  </tbody>\n",
              "</table>\n",
              "</div>"
            ],
            "text/plain": [
              "            Id  SepalLengthCm  SepalWidthCm  PetalLengthCm  PetalWidthCm  \\\n",
              "count   150.00         150.00        150.00         150.00        150.00   \n",
              "unique     NaN            NaN           NaN            NaN           NaN   \n",
              "top        NaN            NaN           NaN            NaN           NaN   \n",
              "freq       NaN            NaN           NaN            NaN           NaN   \n",
              "mean     75.50           5.84          3.05           3.76          1.20   \n",
              "std      43.45           0.83          0.43           1.76          0.76   \n",
              "min       1.00           4.30          2.00           1.00          0.10   \n",
              "25%      38.25           5.10          2.80           1.60          0.30   \n",
              "50%      75.50           5.80          3.00           4.35          1.30   \n",
              "75%     112.75           6.40          3.30           5.10          1.80   \n",
              "max     150.00           7.90          4.40           6.90          2.50   \n",
              "\n",
              "            Species  \n",
              "count           150  \n",
              "unique            3  \n",
              "top     Iris-setosa  \n",
              "freq             50  \n",
              "mean            NaN  \n",
              "std             NaN  \n",
              "min             NaN  \n",
              "25%             NaN  \n",
              "50%             NaN  \n",
              "75%             NaN  \n",
              "max             NaN  "
            ]
          },
          "execution_count": 9,
          "metadata": {},
          "output_type": "execute_result"
        }
      ],
      "source": [
        "# Dataset Describe (all columns included)\n",
        "df.describe(include=\"all\").round(2)"
      ]
    },
    {
      "cell_type": "markdown",
      "metadata": {
        "id": "u3PMJOP6ngxN"
      },
      "source": [
        "### Check Unique Values for each column."
      ]
    },
    {
      "cell_type": "code",
      "execution_count": 10,
      "metadata": {
        "colab": {
          "base_uri": "https://localhost:8080/"
        },
        "id": "zms12Yq5n-jE",
        "outputId": "22463351-3e7c-48fb-d572-40a98cb14a78"
      },
      "outputs": [
        {
          "name": "stdout",
          "output_type": "stream",
          "text": [
            "No. of unique values in Id is 150\n",
            "No. of unique values in SepalLengthCm is 35\n",
            "No. of unique values in SepalWidthCm is 23\n",
            "No. of unique values in PetalLengthCm is 43\n",
            "No. of unique values in PetalWidthCm is 22\n",
            "No. of unique values in Species is 3\n"
          ]
        }
      ],
      "source": [
        "# Check Unique Values for each variable.\n",
        "for i in df.columns.tolist():\n",
        "    print(\"No. of unique values in\", i, \"is\", df[i].nunique())"
      ]
    },
    {
      "cell_type": "markdown",
      "metadata": {
        "id": "dauF4eBmngu3"
      },
      "source": [
        "## 3. Data Wrangling"
      ]
    },
    {
      "cell_type": "markdown",
      "metadata": {
        "id": "bKJF3rekwFvQ"
      },
      "source": [
        "### Data Wrangling Code"
      ]
    },
    {
      "cell_type": "code",
      "execution_count": 11,
      "metadata": {
        "id": "wk-9a2fpoLcV"
      },
      "outputs": [],
      "source": [
        "data = df.iloc[:, 1:]"
      ]
    },
    {
      "cell_type": "code",
      "execution_count": 12,
      "metadata": {
        "colab": {
          "base_uri": "https://localhost:8080/"
        },
        "id": "LLjNXM30tBZT",
        "outputId": "05f4e197-bcff-4859-8469-21b7ebe06742"
      },
      "outputs": [
        {
          "data": {
            "text/html": [
              "<div>\n",
              "<style scoped>\n",
              "    .dataframe tbody tr th:only-of-type {\n",
              "        vertical-align: middle;\n",
              "    }\n",
              "\n",
              "    .dataframe tbody tr th {\n",
              "        vertical-align: top;\n",
              "    }\n",
              "\n",
              "    .dataframe thead th {\n",
              "        text-align: right;\n",
              "    }\n",
              "</style>\n",
              "<table border=\"1\" class=\"dataframe\">\n",
              "  <thead>\n",
              "    <tr style=\"text-align: right;\">\n",
              "      <th></th>\n",
              "      <th>SepalLengthCm</th>\n",
              "      <th>SepalWidthCm</th>\n",
              "      <th>PetalLengthCm</th>\n",
              "      <th>PetalWidthCm</th>\n",
              "      <th>Species</th>\n",
              "    </tr>\n",
              "  </thead>\n",
              "  <tbody>\n",
              "    <tr>\n",
              "      <th>0</th>\n",
              "      <td>5.1</td>\n",
              "      <td>3.5</td>\n",
              "      <td>1.4</td>\n",
              "      <td>0.2</td>\n",
              "      <td>Iris-setosa</td>\n",
              "    </tr>\n",
              "    <tr>\n",
              "      <th>1</th>\n",
              "      <td>4.9</td>\n",
              "      <td>3.0</td>\n",
              "      <td>1.4</td>\n",
              "      <td>0.2</td>\n",
              "      <td>Iris-setosa</td>\n",
              "    </tr>\n",
              "    <tr>\n",
              "      <th>2</th>\n",
              "      <td>4.7</td>\n",
              "      <td>3.2</td>\n",
              "      <td>1.3</td>\n",
              "      <td>0.2</td>\n",
              "      <td>Iris-setosa</td>\n",
              "    </tr>\n",
              "    <tr>\n",
              "      <th>3</th>\n",
              "      <td>4.6</td>\n",
              "      <td>3.1</td>\n",
              "      <td>1.5</td>\n",
              "      <td>0.2</td>\n",
              "      <td>Iris-setosa</td>\n",
              "    </tr>\n",
              "    <tr>\n",
              "      <th>4</th>\n",
              "      <td>5.0</td>\n",
              "      <td>3.6</td>\n",
              "      <td>1.4</td>\n",
              "      <td>0.2</td>\n",
              "      <td>Iris-setosa</td>\n",
              "    </tr>\n",
              "  </tbody>\n",
              "</table>\n",
              "</div>"
            ],
            "text/plain": [
              "   SepalLengthCm  SepalWidthCm  PetalLengthCm  PetalWidthCm      Species\n",
              "0            5.1           3.5            1.4           0.2  Iris-setosa\n",
              "1            4.9           3.0            1.4           0.2  Iris-setosa\n",
              "2            4.7           3.2            1.3           0.2  Iris-setosa\n",
              "3            4.6           3.1            1.5           0.2  Iris-setosa\n",
              "4            5.0           3.6            1.4           0.2  Iris-setosa"
            ]
          },
          "execution_count": 12,
          "metadata": {},
          "output_type": "execute_result"
        }
      ],
      "source": [
        "# New updated dataset\n",
        "data.head()"
      ]
    },
    {
      "cell_type": "markdown",
      "metadata": {
        "id": "GF8Ens_Soomf"
      },
      "source": [
        "## 4. Data Vizualization"
      ]
    },
    {
      "cell_type": "markdown",
      "metadata": {
        "id": "0wOQAZs5pc--"
      },
      "source": [
        "#### Chart - 1 : Distribution of Numerical Variables"
      ]
    },
    {
      "cell_type": "code",
      "execution_count": 13,
      "metadata": {
        "colab": {
          "base_uri": "https://localhost:8080/"
        },
        "id": "7v_ESjsspbW7",
        "outputId": "5cd7e3f7-8be9-4be5-ed7d-e3d8ef4d8593"
      },
      "outputs": [
        {
          "data": {
            "image/png": "[encoded data removed]",
            "text/plain": [
              "<Figure size 800x600 with 4 Axes>"
            ]
          },
          "metadata": {},
          "output_type": "display_data"
        }
      ],
      "source": [
        "# Chart - 1 Histogram visualization code for distribution of numerical variables\n",
        "# Create a figure with subplots\n",
        "plt.figure(figsize=(8, 6))\n",
        "plt.suptitle(\"Distribution of Iris Flower Measurements\", fontsize=14)\n",
        "\n",
        "# Create a 2x2 grid of subplots\n",
        "plt.subplot(2, 2, 1)  # Subplot 1 (Top-Left)\n",
        "plt.hist(data[\"SepalLengthCm\"])\n",
        "plt.title(\"Sepal Length Distribution\")\n",
        "\n",
        "plt.subplot(2, 2, 2)  # Subplot 2 (Top-Right)\n",
        "plt.hist(data[\"SepalWidthCm\"])\n",
        "plt.title(\"Sepal Width Distribution\")\n",
        "\n",
        "plt.subplot(2, 2, 3)  # Subplot 3 (Bottom-Left)\n",
        "plt.hist(data[\"PetalLengthCm\"])\n",
        "plt.title(\"Petal Length Distribution\")\n",
        "\n",
        "plt.subplot(2, 2, 4)  # Subplot 4 (Bottom-Right)\n",
        "plt.hist(data[\"PetalWidthCm\"])\n",
        "plt.title(\"Petal Width Distribution\")\n",
        "\n",
        "# Display the subplots\n",
        "plt.tight_layout()  # Helps in adjusting the layout\n",
        "plt.show()"
      ]
    },
    {
      "cell_type": "markdown",
      "metadata": {
        "id": "KSlN3yHqYklG"
      },
      "source": [
        "#### Chart - 2 : Sepal Length vs Sepal Width"
      ]
    },
    {
      "cell_type": "code",
      "execution_count": 14,
      "metadata": {
        "id": "pmeReNPIwpsS"
      },
      "outputs": [],
      "source": [
        "# Define colors for each species and the corresponding species labels.\n",
        "colors = [\"red\", \"yellow\", \"green\"]\n",
        "species = [\"Iris-setosa\", \"Iris-versicolor\", \"Iris-virginica\"]"
      ]
    },
    {
      "cell_type": "code",
      "execution_count": 15,
      "metadata": {
        "colab": {
          "base_uri": "https://localhost:8080/"
        },
        "id": "R4YgtaqtYklH",
        "outputId": "7c06f759-62bf-41da-cd55-11094d6d1eef"
      },
      "outputs": [
        {
          "data": {
            "image/png": "[encoded data removed]",
            "text/plain": [
              "<Figure size 640x480 with 1 Axes>"
            ]
          },
          "metadata": {},
          "output_type": "display_data"
        }
      ],
      "source": [
        "# Chart - 2 Scatter plot visualization code for Sepal Length vs Sepal Width.\n",
        "# Create a scatter plot for Sepal Length vs Sepal Width for each species.\n",
        "for i in range(3):\n",
        "    # Select data for the current species.\n",
        "    x = data[data[\"Species\"] == species[i]]\n",
        "\n",
        "    # Create a scatter plot with the specified color and label for the current species.\n",
        "    plt.scatter(x[\"SepalLengthCm\"], x[\"SepalWidthCm\"], c=colors[i], label=species[i])\n",
        "\n",
        "# Add labels to the x and y axes.\n",
        "plt.xlabel(\"Sepal Length\")\n",
        "plt.ylabel(\"Sepal Width\")\n",
        "\n",
        "# Add a legend to identify species based on colors.\n",
        "plt.legend()\n",
        "\n",
        "# Display the scatter plot.\n",
        "plt.show()"
      ]
    },
    {
      "cell_type": "markdown",
      "metadata": {
        "id": "EM7whBJCYoAo"
      },
      "source": [
        "#### Chart - 3 : Petal Length vs Petal Width"
      ]
    },
    {
      "cell_type": "code",
      "execution_count": 16,
      "metadata": {
        "colab": {
          "base_uri": "https://localhost:8080/"
        },
        "id": "t6GMdE67YoAp",
        "outputId": "014af07b-c83d-4dad-b240-56ec30a608fa"
      },
      "outputs": [
        {
          "data": {
            "image/png": "[encoded data removed]",
            "text/plain": [
              "<Figure size 640x480 with 1 Axes>"
            ]
          },
          "metadata": {},
          "output_type": "display_data"
        }
      ],
      "source": [
        "# Chart - 3 Scatter plot visualization code for Petal Length vs Petal Width.\n",
        "# Create a scatter plot for Petal Length vs Petal Width for each species.\n",
        "for i in range(3):\n",
        "    # Select data for the current species.\n",
        "    x = data[data[\"Species\"] == species[i]]\n",
        "\n",
        "    # Create a scatter plot with the specified color and label for the current species.\n",
        "    plt.scatter(x[\"PetalLengthCm\"], x[\"PetalWidthCm\"], c=colors[i], label=species[i])\n",
        "\n",
        "# Add labels to the x and y axes.\n",
        "plt.xlabel(\"Petal Length\")\n",
        "plt.ylabel(\"Petal Width\")\n",
        "\n",
        "# Add a legend to identify species based on colors.\n",
        "plt.legend()\n",
        "\n",
        "# Display the scatter plot.\n",
        "plt.show()"
      ]
    },
    {
      "cell_type": "markdown",
      "metadata": {
        "id": "4Of9eVA-YrdM"
      },
      "source": [
        "#### Chart - 4 : Sepal Length vs Petal Length"
      ]
    },
    {
      "cell_type": "code",
      "execution_count": 17,
      "metadata": {
        "colab": {
          "base_uri": "https://localhost:8080/"
        },
        "id": "irlUoxc8YrdO",
        "outputId": "2b034111-aa94-4539-aab7-24871e39de18"
      },
      "outputs": [
        {
          "data": {
            "image/png": "[encoded data removed]",
            "text/plain": [
              "<Figure size 640x480 with 1 Axes>"
            ]
          },
          "metadata": {},
          "output_type": "display_data"
        }
      ],
      "source": [
        "# Chart - 4 Scatter plot visualization code for Sepal Length vs Petal Length.\n",
        "# Create a scatter plot for Sepal Length vs Petal Length for each species.\n",
        "for i in range(3):\n",
        "    # Select data for the current species.\n",
        "    x = data[data[\"Species\"] == species[i]]\n",
        "\n",
        "    # Create a scatter plot with the specified color and label for the current species.\n",
        "    plt.scatter(x[\"SepalLengthCm\"], x[\"PetalLengthCm\"], c=colors[i], label=species[i])\n",
        "\n",
        "# Add labels to the x and y axes.\n",
        "plt.xlabel(\"Sepal Length\")\n",
        "plt.ylabel(\"Petal Length\")\n",
        "\n",
        "# Add a legend to identify species based on colors.\n",
        "plt.legend()\n",
        "\n",
        "# Display the scatter plot.\n",
        "plt.show()"
      ]
    },
    {
      "cell_type": "markdown",
      "metadata": {
        "id": "bamQiAODYuh1"
      },
      "source": [
        "#### Chart - 5 : Sepal Width vs Petal Width"
      ]
    },
    {
      "cell_type": "code",
      "execution_count": 18,
      "metadata": {
        "colab": {
          "base_uri": "https://localhost:8080/"
        },
        "id": "TIJwrbroYuh3",
        "outputId": "73c2d3ad-4b6f-48ab-dbc6-14db330cbb69"
      },
      "outputs": [
        {
          "data": {
            "image/png": "[encoded data removed]",
            "text/plain": [
              "<Figure size 640x480 with 1 Axes>"
            ]
          },
          "metadata": {},
          "output_type": "display_data"
        }
      ],
      "source": [
        "# Chart - 5 Scatter plot visualization code for Sepal Width vs Petal Width.\n",
        "# Create a scatter plot for Sepal Width vs Petal Width for each species.\n",
        "for i in range(3):\n",
        "    # Select data for the current species.\n",
        "    x = data[data[\"Species\"] == species[i]]\n",
        "\n",
        "    # Create a scatter plot with the specified color and label for the current species.\n",
        "    plt.scatter(x[\"SepalWidthCm\"], x[\"PetalWidthCm\"], c=colors[i], label=species[i])\n",
        "\n",
        "# Add labels to the x and y axes.\n",
        "plt.xlabel(\"Sepal Width\")\n",
        "plt.ylabel(\"Petal Width\")\n",
        "\n",
        "# Add a legend to identify species based on colors.\n",
        "plt.legend()\n",
        "\n",
        "# Display the scatter plot.\n",
        "plt.show()"
      ]
    },
    {
      "cell_type": "markdown",
      "metadata": {
        "id": "OH-pJp9IphqM"
      },
      "source": [
        "#### Chart - 6 : Correlation Heatmap"
      ]
    },
    {
      "cell_type": "code",
      "execution_count": 19,
      "metadata": {
        "colab": {
          "base_uri": "https://localhost:8080/"
        },
        "id": "kuRf4wtuphqN",
        "outputId": "8864cbac-cf76-448a-be25-93465368eec8"
      },
      "outputs": [
        {
          "data": {
            "image/png": "[encoded data removed]",
            "text/plain": [
              "<Figure size 800x400 with 2 Axes>"
            ]
          },
          "metadata": {},
          "output_type": "display_data"
        }
      ],
      "source": [
        "numeric_data = data.select_dtypes(include=[float, int])\n",
        "# Correlation Heatmap Visualization Code\n",
        "corr_matrix = numeric_data.corr()\n",
        "\n",
        "# Plot Heatmap\n",
        "plt.figure(figsize=(8, 4))\n",
        "sns.heatmap(corr_matrix, annot=True, cmap=\"Reds_r\")\n",
        "\n",
        "# Setting Labels\n",
        "plt.title(\"Correlation Matrix heatmap\")\n",
        "\n",
        "# Display Chart\n",
        "plt.show()"
      ]
    },
    {
      "cell_type": "markdown",
      "metadata": {
        "id": "yLjJCtPM0KBk"
      },
      "source": [
        "## 5. Feature Engineering & Data Pre-processing"
      ]
    },
    {
      "cell_type": "markdown",
      "metadata": {
        "id": "89xtkJwZ18nB"
      },
      "source": [
        "### 1. Categorical Encoding"
      ]
    },
    {
      "cell_type": "code",
      "execution_count": 20,
      "metadata": {
        "colab": {
          "base_uri": "https://localhost:8080/"
        },
        "id": "21JmIYMG2hEo",
        "outputId": "ec7dd55b-f93a-4294-f1a9-428e8d2338a3"
      },
      "outputs": [
        {
          "name": "stdout",
          "output_type": "stream",
          "text": [
            "Encoded Species Values:\n",
            "[0 1 2]\n"
          ]
        }
      ],
      "source": [
        "# Encode the categorical columns\n",
        "# Create a LabelEncoder object\n",
        "le = LabelEncoder()\n",
        "\n",
        "# Encode the 'Species' column to convert the species names to numerical labels\n",
        "data[\"Species\"] = le.fit_transform(data[\"Species\"])\n",
        "\n",
        "# Check the unique values in the 'Species' column after encoding\n",
        "unique_species = data[\"Species\"].unique()\n",
        "\n",
        "# Display the unique encoded values\n",
        "print(\"Encoded Species Values:\")\n",
        "print(\n",
        "    unique_species\n",
        ")  # 'Iris-setosa' == 0, 'Iris-versicolor' == 1, 'Iris-virginica' == 2"
      ]
    },
    {
      "cell_type": "markdown",
      "metadata": {
        "id": "rMDnDkt2B6du"
      },
      "source": [
        "### 2. Defining the dependent and independent variables"
      ]
    },
    {
      "cell_type": "code",
      "execution_count": 21,
      "metadata": {
        "id": "dL9LWpySC6x_"
      },
      "outputs": [],
      "source": [
        "# Defining the X and y\n",
        "x = data.drop(columns=[\"Species\"], axis=1)\n",
        "y = data[\"Species\"]"
      ]
    },
    {
      "cell_type": "markdown",
      "metadata": {
        "id": "BhH2vgX9EjGr"
      },
      "source": [
        "### 3. Data Splitting"
      ]
    },
    {
      "cell_type": "code",
      "execution_count": 22,
      "metadata": {
        "id": "0CTyd2UwEyNM"
      },
      "outputs": [],
      "source": [
        "# Splitting the data to train and test\n",
        "x_train, x_test, y_train, y_test = train_test_split(x, y, test_size=0.3)"
      ]
    },
    {
      "cell_type": "code",
      "execution_count": 23,
      "metadata": {
        "colab": {
          "base_uri": "https://localhost:8080/"
        },
        "id": "-fRxg3Xr9g_R",
        "outputId": "97c67228-3a22-48fe-f5a0-ecc1d4e024a4"
      },
      "outputs": [
        {
          "data": {
            "text/plain": [
              "Species\n",
              "2    36\n",
              "1    36\n",
              "0    33\n",
              "Name: count, dtype: int64"
            ]
          },
          "execution_count": 23,
          "metadata": {},
          "output_type": "execute_result"
        }
      ],
      "source": [
        "# Checking the train distribution of dependent variable\n",
        "y_train.value_counts()"
      ]
    },
    {
      "cell_type": "markdown",
      "metadata": {
        "id": "VfCC591jGiD4"
      },
      "source": [
        "## ML Model Implementation"
      ]
    },
    {
      "cell_type": "code",
      "execution_count": 24,
      "metadata": {
        "id": "PPTAGKKZkMyV"
      },
      "outputs": [],
      "source": [
        "def evaluate_model(model, x_train, x_test, y_train, y_test):\n",
        "    \"\"\"Function to evaluate the model using the training and testing data.\"\"\"\n",
        "    # Fit the model to the training data.\n",
        "    model.fit(x_train, y_train)\n",
        "\n",
        "    # make predictions on the test data\n",
        "    y_pred_train = model.predict(x_train)\n",
        "    y_pred_test = model.predict(x_test)\n",
        "\n",
        "    # calculate confusion matrix\n",
        "    cm_train = confusion_matrix(y_train, y_pred_train)\n",
        "    cm_test = confusion_matrix(y_test, y_pred_test)\n",
        "\n",
        "    fig, ax = plt.subplots(1, 2, figsize=(11, 4))\n",
        "\n",
        "    print(\"\\nConfusion Matrix:\")\n",
        "    sns.heatmap(\n",
        "        cm_train,\n",
        "        annot=True,\n",
        "        xticklabels=[\"Negative\", \"Positive\"],\n",
        "        yticklabels=[\"Negative\", \"Positive\"],\n",
        "        cmap=\"Oranges\",\n",
        "        fmt=\".4g\",\n",
        "        ax=ax[0],\n",
        "    )\n",
        "    ax[0].set_xlabel(\"Predicted Label\")\n",
        "    ax[0].set_ylabel(\"True Label\")\n",
        "    ax[0].set_title(\"Train Confusion Matrix\")\n",
        "\n",
        "    sns.heatmap(\n",
        "        cm_test,\n",
        "        annot=True,\n",
        "        xticklabels=[\"Negative\", \"Positive\"],\n",
        "        yticklabels=[\"Negative\", \"Positive\"],\n",
        "        cmap=\"Oranges\",\n",
        "        fmt=\".4g\",\n",
        "        ax=ax[1],\n",
        "    )\n",
        "    ax[1].set_xlabel(\"Predicted Label\")\n",
        "    ax[1].set_ylabel(\"True Label\")\n",
        "    ax[1].set_title(\"Test Confusion Matrix\")\n",
        "\n",
        "    plt.tight_layout()\n",
        "    plt.show()\n",
        "\n",
        "    cr_train = classification_report(y_train, y_pred_train, output_dict=True)\n",
        "    cr_test = classification_report(y_test, y_pred_test, output_dict=True)\n",
        "    print(\"\\nTrain Classification Report:\")\n",
        "    crt = pd.DataFrame(cr_train).T\n",
        "    print(crt.to_markdown())\n",
        "    print(\"\\nTest Classification Report:\")\n",
        "    crt2 = pd.DataFrame(cr_test).T\n",
        "    print(crt2.to_markdown())\n",
        "\n",
        "    precision_train = cr_train[\"weighted avg\"][\"precision\"]\n",
        "    precision_test = cr_test[\"weighted avg\"][\"precision\"]\n",
        "\n",
        "    recall_train = cr_train[\"weighted avg\"][\"recall\"]\n",
        "    recall_test = cr_test[\"weighted avg\"][\"recall\"]\n",
        "\n",
        "    acc_train = accuracy_score(y_true=y_train, y_pred=y_pred_train)\n",
        "    acc_test = accuracy_score(y_true=y_test, y_pred=y_pred_test)\n",
        "\n",
        "    F1_train = cr_train[\"weighted avg\"][\"f1-score\"]\n",
        "    F1_test = cr_test[\"weighted avg\"][\"f1-score\"]\n",
        "\n",
        "    model_score = [\n",
        "        precision_train,\n",
        "        precision_test,\n",
        "        recall_train,\n",
        "        recall_test,\n",
        "        acc_train,\n",
        "        acc_test,\n",
        "        F1_train,\n",
        "        F1_test,\n",
        "    ]\n",
        "    return model_score"
      ]
    },
    {
      "cell_type": "code",
      "execution_count": 25,
      "metadata": {
        "id": "SisvUGuimFkW"
      },
      "outputs": [],
      "source": [
        "# Create a score dataframe\n",
        "score = pd.DataFrame(\n",
        "    index=[\n",
        "        \"Precision Train\",\n",
        "        \"Precision Test\",\n",
        "        \"Recall Train\",\n",
        "        \"Recall Test\",\n",
        "        \"Accuracy Train\",\n",
        "        \"Accuracy Test\",\n",
        "        \"F1 macro Train\",\n",
        "        \"F1 macro Test\",\n",
        "    ]\n",
        ")"
      ]
    },
    {
      "cell_type": "markdown",
      "metadata": {
        "id": "mWppNeqWwA-M"
      },
      "source": [
        "### ML Model - 1 : Logistic regression"
      ]
    },
    {
      "cell_type": "code",
      "execution_count": 26,
      "metadata": {
        "id": "pjY8lKMfwA-V"
      },
      "outputs": [],
      "source": [
        "# ML Model - 1 Implementation\n",
        "lr_model = LogisticRegression(fit_intercept=True, max_iter=10000)\n",
        "\n",
        "# Model is trained (fit) and predicted in the evaluate model"
      ]
    },
    {
      "cell_type": "markdown",
      "metadata": {
        "id": "pTi0g55fwA-W"
      },
      "source": [
        "#### 1. Explain the ML Model used and it's performance using Evaluation metric Score Chart."
      ]
    },
    {
      "cell_type": "code",
      "execution_count": 27,
      "metadata": {
        "colab": {
          "base_uri": "https://localhost:8080/"
        },
        "id": "e7haAzk4wA-W",
        "outputId": "837c550d-7810-4bd2-d8e3-5ce66e860e6c"
      },
      "outputs": [
        {
          "name": "stdout",
          "output_type": "stream",
          "text": [
            "\n",
            "Confusion Matrix:\n"
          ]
        },
        {
          "data": {
            "image/png": "[encoded data removed]",
            "text/plain": [
              "<Figure size 1100x400 with 4 Axes>"
            ]
          },
          "metadata": {},
          "output_type": "display_data"
        },
        {
          "name": "stdout",
          "output_type": "stream",
          "text": [
            "\n",
            "Train Classification Report:\n",
            "|              |   precision |   recall |   f1-score |    support |\n",
            "|:-------------|------------:|---------:|-----------:|-----------:|\n",
            "| 0            |    1        | 1        |   1        |  33        |\n",
            "| 1            |    1        | 0.944444 |   0.971429 |  36        |\n",
            "| 2            |    0.947368 | 1        |   0.972973 |  36        |\n",
            "| accuracy     |    0.980952 | 0.980952 |   0.980952 |   0.980952 |\n",
            "| macro avg    |    0.982456 | 0.981481 |   0.981467 | 105        |\n",
            "| weighted avg |    0.981955 | 0.980952 |   0.980938 | 105        |\n",
            "\n",
            "Test Classification Report:\n",
            "|              |   precision |   recall |   f1-score |   support |\n",
            "|:-------------|------------:|---------:|-----------:|----------:|\n",
            "| 0            |    1        | 1        |   1        | 17        |\n",
            "| 1            |    0.866667 | 0.928571 |   0.896552 | 14        |\n",
            "| 2            |    0.923077 | 0.857143 |   0.888889 | 14        |\n",
            "| accuracy     |    0.933333 | 0.933333 |   0.933333 |  0.933333 |\n",
            "| macro avg    |    0.929915 | 0.928571 |   0.92848  | 45        |\n",
            "| weighted avg |    0.934587 | 0.933333 |   0.933248 | 45        |\n"
          ]
        }
      ],
      "source": [
        "# Visualizing evaluation Metric Score chart\n",
        "lr_score = evaluate_model(lr_model, x_train, x_test, y_train, y_test)"
      ]
    },
    {
      "cell_type": "code",
      "execution_count": 28,
      "metadata": {
        "colab": {
          "base_uri": "https://localhost:8080/"
        },
        "id": "uBbjg5rNUzlz",
        "outputId": "e613b4ec-0acc-4abc-d32c-7221fa0dfc51"
      },
      "outputs": [
        {
          "data": {
            "text/html": [
              "<div>\n",
              "<style scoped>\n",
              "    .dataframe tbody tr th:only-of-type {\n",
              "        vertical-align: middle;\n",
              "    }\n",
              "\n",
              "    .dataframe tbody tr th {\n",
              "        vertical-align: top;\n",
              "    }\n",
              "\n",
              "    .dataframe thead th {\n",
              "        text-align: right;\n",
              "    }\n",
              "</style>\n",
              "<table border=\"1\" class=\"dataframe\">\n",
              "  <thead>\n",
              "    <tr style=\"text-align: right;\">\n",
              "      <th></th>\n",
              "      <th>Logistic regression</th>\n",
              "    </tr>\n",
              "  </thead>\n",
              "  <tbody>\n",
              "    <tr>\n",
              "      <th>Precision Train</th>\n",
              "      <td>0.981955</td>\n",
              "    </tr>\n",
              "    <tr>\n",
              "      <th>Precision Test</th>\n",
              "      <td>0.934587</td>\n",
              "    </tr>\n",
              "    <tr>\n",
              "      <th>Recall Train</th>\n",
              "      <td>0.980952</td>\n",
              "    </tr>\n",
              "    <tr>\n",
              "      <th>Recall Test</th>\n",
              "      <td>0.933333</td>\n",
              "    </tr>\n",
              "    <tr>\n",
              "      <th>Accuracy Train</th>\n",
              "      <td>0.980952</td>\n",
              "    </tr>\n",
              "    <tr>\n",
              "      <th>Accuracy Test</th>\n",
              "      <td>0.933333</td>\n",
              "    </tr>\n",
              "    <tr>\n",
              "      <th>F1 macro Train</th>\n",
              "      <td>0.980938</td>\n",
              "    </tr>\n",
              "    <tr>\n",
              "      <th>F1 macro Test</th>\n",
              "      <td>0.933248</td>\n",
              "    </tr>\n",
              "  </tbody>\n",
              "</table>\n",
              "</div>"
            ],
            "text/plain": [
              "                 Logistic regression\n",
              "Precision Train             0.981955\n",
              "Precision Test              0.934587\n",
              "Recall Train                0.980952\n",
              "Recall Test                 0.933333\n",
              "Accuracy Train              0.980952\n",
              "Accuracy Test               0.933333\n",
              "F1 macro Train              0.980938\n",
              "F1 macro Test               0.933248"
            ]
          },
          "execution_count": 28,
          "metadata": {},
          "output_type": "execute_result"
        }
      ],
      "source": [
        "# Updated Evaluation metric Score Chart\n",
        "score[\"Logistic regression\"] = lr_score\n",
        "score"
      ]
    },
    {
      "cell_type": "markdown",
      "metadata": {
        "id": "iv0m-lDQwA-W"
      },
      "source": [
        "#### 2. Cross- Validation & Hyperparameter Tuning"
      ]
    },
    {
      "cell_type": "code",
      "execution_count": 29,
      "metadata": {
        "colab": {
          "base_uri": "https://localhost:8080/"
        },
        "id": "jqkHZjt7wA-X",
        "outputId": "dc5754f9-4774-442e-df45-776f0470b4e8"
      },
      "outputs": [
        {
          "name": "stdout",
          "output_type": "stream",
          "text": [
            "Best hyperparameters:  {'C': 10, 'penalty': 'l2', 'solver': 'newton-cg'}\n"
          ]
        }
      ],
      "source": [
        "# ML Model - 1 Implementation with hyperparameter optimization techniques (i.e., GridSearch CV, RandomSearch CV, Bayesian Optimization etc.)\n",
        "# Define the hyperparameter grid\n",
        "param_grid = {\n",
        "    \"C\": [100, 10, 1, 0.1, 0.01, 0.001, 0.0001],\n",
        "    \"penalty\": [\"l1\", \"l2\"],\n",
        "    \"solver\": [\"newton-cg\", \"lbfgs\", \"liblinear\", \"sag\", \"saga\"],\n",
        "}\n",
        "\n",
        "# Initializing the logistic regression model\n",
        "logreg = LogisticRegression(fit_intercept=True, max_iter=10000, random_state=0)\n",
        "\n",
        "# Repeated stratified kfold\n",
        "rskf = RepeatedStratifiedKFold(n_splits=3, n_repeats=4, random_state=0)\n",
        "\n",
        "# Using GridSearchCV to tune the hyperparameters using cross-validation\n",
        "grid = GridSearchCV(logreg, param_grid, cv=rskf)\n",
        "grid.fit(x_train, y_train)\n",
        "\n",
        "# Select the best hyperparameters found by GridSearchCV\n",
        "best_params = grid.best_params_\n",
        "print(\"Best hyperparameters: \", best_params)"
      ]
    },
    {
      "cell_type": "code",
      "execution_count": 30,
      "metadata": {
        "id": "bfWwIMtCVUf-"
      },
      "outputs": [],
      "source": [
        "# Initiate model with best parameters\n",
        "lr_model2 = LogisticRegression(\n",
        "    C=best_params[\"C\"],\n",
        "    penalty=best_params[\"penalty\"],\n",
        "    solver=best_params[\"solver\"],\n",
        "    max_iter=10000,\n",
        "    random_state=0,\n",
        ")"
      ]
    },
    {
      "cell_type": "code",
      "execution_count": 31,
      "metadata": {
        "colab": {
          "base_uri": "https://localhost:8080/",
          "height": 789
        },
        "id": "b9VFl9UaVWMy",
        "outputId": "40d6b5b4-6db4-4b5b-8bd2-653f934c4261"
      },
      "outputs": [
        {
          "name": "stdout",
          "output_type": "stream",
          "text": [
            "\n",
            "Confusion Matrix:\n"
          ]
        },
        {
          "data": {
            "image/png": "[encoded data removed]",
            "text/plain": [
              "<Figure size 1100x400 with 4 Axes>"
            ]
          },
          "metadata": {},
          "output_type": "display_data"
        },
        {
          "name": "stdout",
          "output_type": "stream",
          "text": [
            "\n",
            "Train Classification Report:\n",
            "|              |   precision |   recall |   f1-score |    support |\n",
            "|:-------------|------------:|---------:|-----------:|-----------:|\n",
            "| 0            |    1        | 1        |   1        |  33        |\n",
            "| 1            |    0.972222 | 0.972222 |   0.972222 |  36        |\n",
            "| 2            |    0.972222 | 0.972222 |   0.972222 |  36        |\n",
            "| accuracy     |    0.980952 | 0.980952 |   0.980952 |   0.980952 |\n",
            "| macro avg    |    0.981481 | 0.981481 |   0.981481 | 105        |\n",
            "| weighted avg |    0.980952 | 0.980952 |   0.980952 | 105        |\n",
            "\n",
            "Test Classification Report:\n",
            "|              |   precision |   recall |   f1-score |   support |\n",
            "|:-------------|------------:|---------:|-----------:|----------:|\n",
            "| 0            |    1        | 1        |   1        | 17        |\n",
            "| 1            |    0.928571 | 0.928571 |   0.928571 | 14        |\n",
            "| 2            |    0.928571 | 0.928571 |   0.928571 | 14        |\n",
            "| accuracy     |    0.955556 | 0.955556 |   0.955556 |  0.955556 |\n",
            "| macro avg    |    0.952381 | 0.952381 |   0.952381 | 45        |\n",
            "| weighted avg |    0.955556 | 0.955556 |   0.955556 | 45        |\n"
          ]
        }
      ],
      "source": [
        "# Visualizing evaluation Metric Score chart\n",
        "lr_score2 = evaluate_model(lr_model2, x_train, x_test, y_train, y_test)"
      ]
    },
    {
      "cell_type": "code",
      "execution_count": 32,
      "metadata": {
        "id": "TsqnpQW4Vnxx"
      },
      "outputs": [],
      "source": [
        "score[\"Logistic regression tuned\"] = lr_score2"
      ]
    },
    {
      "cell_type": "code",
      "execution_count": 33,
      "metadata": {
        "colab": {
          "base_uri": "https://localhost:8080/",
          "height": 300
        },
        "id": "haB7fCvRWIdx",
        "outputId": "5405cc19-4a06-4151-8ddf-a7364fe8a268"
      },
      "outputs": [
        {
          "data": {
            "text/html": [
              "<div>\n",
              "<style scoped>\n",
              "    .dataframe tbody tr th:only-of-type {\n",
              "        vertical-align: middle;\n",
              "    }\n",
              "\n",
              "    .dataframe tbody tr th {\n",
              "        vertical-align: top;\n",
              "    }\n",
              "\n",
              "    .dataframe thead th {\n",
              "        text-align: right;\n",
              "    }\n",
              "</style>\n",
              "<table border=\"1\" class=\"dataframe\">\n",
              "  <thead>\n",
              "    <tr style=\"text-align: right;\">\n",
              "      <th></th>\n",
              "      <th>Logistic regression</th>\n",
              "      <th>Logistic regression tuned</th>\n",
              "    </tr>\n",
              "  </thead>\n",
              "  <tbody>\n",
              "    <tr>\n",
              "      <th>Precision Train</th>\n",
              "      <td>0.981955</td>\n",
              "      <td>0.980952</td>\n",
              "    </tr>\n",
              "    <tr>\n",
              "      <th>Precision Test</th>\n",
              "      <td>0.934587</td>\n",
              "      <td>0.955556</td>\n",
              "    </tr>\n",
              "    <tr>\n",
              "      <th>Recall Train</th>\n",
              "      <td>0.980952</td>\n",
              "      <td>0.980952</td>\n",
              "    </tr>\n",
              "    <tr>\n",
              "      <th>Recall Test</th>\n",
              "      <td>0.933333</td>\n",
              "      <td>0.955556</td>\n",
              "    </tr>\n",
              "    <tr>\n",
              "      <th>Accuracy Train</th>\n",
              "      <td>0.980952</td>\n",
              "      <td>0.980952</td>\n",
              "    </tr>\n",
              "    <tr>\n",
              "      <th>Accuracy Test</th>\n",
              "      <td>0.933333</td>\n",
              "      <td>0.955556</td>\n",
              "    </tr>\n",
              "    <tr>\n",
              "      <th>F1 macro Train</th>\n",
              "      <td>0.980938</td>\n",
              "      <td>0.980952</td>\n",
              "    </tr>\n",
              "    <tr>\n",
              "      <th>F1 macro Test</th>\n",
              "      <td>0.933248</td>\n",
              "      <td>0.955556</td>\n",
              "    </tr>\n",
              "  </tbody>\n",
              "</table>\n",
              "</div>"
            ],
            "text/plain": [
              "                 Logistic regression  Logistic regression tuned\n",
              "Precision Train             0.981955                   0.980952\n",
              "Precision Test              0.934587                   0.955556\n",
              "Recall Train                0.980952                   0.980952\n",
              "Recall Test                 0.933333                   0.955556\n",
              "Accuracy Train              0.980952                   0.980952\n",
              "Accuracy Test               0.933333                   0.955556\n",
              "F1 macro Train              0.980938                   0.980952\n",
              "F1 macro Test               0.933248                   0.955556"
            ]
          },
          "execution_count": 33,
          "metadata": {},
          "output_type": "execute_result"
        }
      ],
      "source": [
        "# Updated Evaluation metric Score Chart\n",
        "score"
      ]
    },
    {
      "cell_type": "markdown",
      "metadata": {
        "id": "VzKNBLqiwA-Y"
      },
      "source": [
        "### ML Model - 2 : Decision Tree"
      ]
    },
    {
      "cell_type": "code",
      "execution_count": 34,
      "metadata": {
        "id": "EOs5hr_k8M5L"
      },
      "outputs": [],
      "source": [
        "# ML Model - 2 Implementation\n",
        "dt_model = DecisionTreeClassifier(random_state=20)\n",
        "\n",
        "# Model is trained (fit) and predicted in the evaluate model"
      ]
    },
    {
      "cell_type": "markdown",
      "metadata": {
        "id": "1GL-36pywA-Y"
      },
      "source": [
        "#### 1. Explain the ML Model used and it's performance using Evaluation metric Score Chart."
      ]
    },
    {
      "cell_type": "code",
      "execution_count": 35,
      "metadata": {
        "colab": {
          "base_uri": "https://localhost:8080/"
        },
        "id": "fz_4QHj2wA-Y",
        "outputId": "6ee6eea3-1527-4200-a730-9bf4fc0842bf"
      },
      "outputs": [
        {
          "name": "stdout",
          "output_type": "stream",
          "text": [
            "\n",
            "Confusion Matrix:\n"
          ]
        },
        {
          "data": {
            "image/png": "[encoded data removed]",
            "text/plain": [
              "<Figure size 1100x400 with 4 Axes>"
            ]
          },
          "metadata": {},
          "output_type": "display_data"
        },
        {
          "name": "stdout",
          "output_type": "stream",
          "text": [
            "\n",
            "Train Classification Report:\n",
            "|              |   precision |   recall |   f1-score |   support |\n",
            "|:-------------|------------:|---------:|-----------:|----------:|\n",
            "| 0            |           1 |        1 |          1 |        33 |\n",
            "| 1            |           1 |        1 |          1 |        36 |\n",
            "| 2            |           1 |        1 |          1 |        36 |\n",
            "| accuracy     |           1 |        1 |          1 |         1 |\n",
            "| macro avg    |           1 |        1 |          1 |       105 |\n",
            "| weighted avg |           1 |        1 |          1 |       105 |\n",
            "\n",
            "Test Classification Report:\n",
            "|              |   precision |   recall |   f1-score |   support |\n",
            "|:-------------|------------:|---------:|-----------:|----------:|\n",
            "| 0            |    1        | 1        |   1        | 17        |\n",
            "| 1            |    0.866667 | 0.928571 |   0.896552 | 14        |\n",
            "| 2            |    0.923077 | 0.857143 |   0.888889 | 14        |\n",
            "| accuracy     |    0.933333 | 0.933333 |   0.933333 |  0.933333 |\n",
            "| macro avg    |    0.929915 | 0.928571 |   0.92848  | 45        |\n",
            "| weighted avg |    0.934587 | 0.933333 |   0.933248 | 45        |\n"
          ]
        }
      ],
      "source": [
        "# Visualizing evaluation Metric Score chart\n",
        "dt_score = evaluate_model(dt_model, x_train, x_test, y_train, y_test)"
      ]
    },
    {
      "cell_type": "code",
      "execution_count": 36,
      "metadata": {
        "colab": {
          "base_uri": "https://localhost:8080/"
        },
        "id": "tlG_TPuZB9vc",
        "outputId": "21d62567-e74e-44ed-a0d8-385771dfb37f"
      },
      "outputs": [
        {
          "data": {
            "text/html": [
              "<div>\n",
              "<style scoped>\n",
              "    .dataframe tbody tr th:only-of-type {\n",
              "        vertical-align: middle;\n",
              "    }\n",
              "\n",
              "    .dataframe tbody tr th {\n",
              "        vertical-align: top;\n",
              "    }\n",
              "\n",
              "    .dataframe thead th {\n",
              "        text-align: right;\n",
              "    }\n",
              "</style>\n",
              "<table border=\"1\" class=\"dataframe\">\n",
              "  <thead>\n",
              "    <tr style=\"text-align: right;\">\n",
              "      <th></th>\n",
              "      <th>Logistic regression</th>\n",
              "      <th>Logistic regression tuned</th>\n",
              "      <th>Decision Tree</th>\n",
              "    </tr>\n",
              "  </thead>\n",
              "  <tbody>\n",
              "    <tr>\n",
              "      <th>Precision Train</th>\n",
              "      <td>0.981955</td>\n",
              "      <td>0.980952</td>\n",
              "      <td>1.000000</td>\n",
              "    </tr>\n",
              "    <tr>\n",
              "      <th>Precision Test</th>\n",
              "      <td>0.934587</td>\n",
              "      <td>0.955556</td>\n",
              "      <td>0.934587</td>\n",
              "    </tr>\n",
              "    <tr>\n",
              "      <th>Recall Train</th>\n",
              "      <td>0.980952</td>\n",
              "      <td>0.980952</td>\n",
              "      <td>1.000000</td>\n",
              "    </tr>\n",
              "    <tr>\n",
              "      <th>Recall Test</th>\n",
              "      <td>0.933333</td>\n",
              "      <td>0.955556</td>\n",
              "      <td>0.933333</td>\n",
              "    </tr>\n",
              "    <tr>\n",
              "      <th>Accuracy Train</th>\n",
              "      <td>0.980952</td>\n",
              "      <td>0.980952</td>\n",
              "      <td>1.000000</td>\n",
              "    </tr>\n",
              "    <tr>\n",
              "      <th>Accuracy Test</th>\n",
              "      <td>0.933333</td>\n",
              "      <td>0.955556</td>\n",
              "      <td>0.933333</td>\n",
              "    </tr>\n",
              "    <tr>\n",
              "      <th>F1 macro Train</th>\n",
              "      <td>0.980938</td>\n",
              "      <td>0.980952</td>\n",
              "      <td>1.000000</td>\n",
              "    </tr>\n",
              "    <tr>\n",
              "      <th>F1 macro Test</th>\n",
              "      <td>0.933248</td>\n",
              "      <td>0.955556</td>\n",
              "      <td>0.933248</td>\n",
              "    </tr>\n",
              "  </tbody>\n",
              "</table>\n",
              "</div>"
            ],
            "text/plain": [
              "                 Logistic regression  Logistic regression tuned  Decision Tree\n",
              "Precision Train             0.981955                   0.980952       1.000000\n",
              "Precision Test              0.934587                   0.955556       0.934587\n",
              "Recall Train                0.980952                   0.980952       1.000000\n",
              "Recall Test                 0.933333                   0.955556       0.933333\n",
              "Accuracy Train              0.980952                   0.980952       1.000000\n",
              "Accuracy Test               0.933333                   0.955556       0.933333\n",
              "F1 macro Train              0.980938                   0.980952       1.000000\n",
              "F1 macro Test               0.933248                   0.955556       0.933248"
            ]
          },
          "execution_count": 36,
          "metadata": {},
          "output_type": "execute_result"
        }
      ],
      "source": [
        "# Updated Evaluation metric Score Chart\n",
        "score[\"Decision Tree\"] = dt_score\n",
        "score"
      ]
    },
    {
      "cell_type": "markdown",
      "metadata": {
        "id": "nWFgbYYVwA-Z"
      },
      "source": [
        "#### 2. Cross- Validation & Hyperparameter Tuning"
      ]
    },
    {
      "cell_type": "code",
      "execution_count": 37,
      "metadata": {
        "colab": {
          "base_uri": "https://localhost:8080/"
        },
        "id": "FPAxyd04wA-Z",
        "outputId": "481fec13-aec1-40f8-fe87-946a56106711"
      },
      "outputs": [
        {
          "name": "stdout",
          "output_type": "stream",
          "text": [
            "Best hyperparameters:  {'max_depth': 3, 'min_samples_leaf': np.int64(10), 'min_samples_split': np.int64(3)}\n"
          ]
        }
      ],
      "source": [
        "# ML Model - 2 Implementation with hyperparameter optimization techniques (i.e., GridSearch CV, RandomSearch CV, Bayesian Optimization etc.)\n",
        "# Define the hyperparameter grid\n",
        "grid = {\n",
        "    \"max_depth\": [3, 4, 5, 6, 7, 8],\n",
        "    \"min_samples_split\": np.arange(2, 8),\n",
        "    \"min_samples_leaf\": np.arange(10, 20),\n",
        "}\n",
        "\n",
        "# Initialize the model\n",
        "model = DecisionTreeClassifier()\n",
        "\n",
        "# repeated stratified kfold\n",
        "rskf = RepeatedStratifiedKFold(n_splits=3, n_repeats=3, random_state=0)\n",
        "\n",
        "# Initialize GridSearchCV\n",
        "grid_search = GridSearchCV(model, grid, cv=rskf)\n",
        "\n",
        "# Fit the GridSearchCV to the training data\n",
        "grid_search.fit(x_train, y_train)\n",
        "\n",
        "# Select the best hyperparameters\n",
        "best_params = grid_search.best_params_\n",
        "print(\"Best hyperparameters: \", best_params)"
      ]
    },
    {
      "cell_type": "code",
      "execution_count": 38,
      "metadata": {
        "id": "lFPV0F66Doc_"
      },
      "outputs": [],
      "source": [
        "# Train a new model with the best hyperparameters\n",
        "dt_model2 = DecisionTreeClassifier(\n",
        "    max_depth=best_params[\"max_depth\"],\n",
        "    min_samples_leaf=best_params[\"min_samples_leaf\"],\n",
        "    min_samples_split=best_params[\"min_samples_split\"],\n",
        "    random_state=20,\n",
        ")"
      ]
    },
    {
      "cell_type": "code",
      "execution_count": 39,
      "metadata": {
        "colab": {
          "base_uri": "https://localhost:8080/",
          "height": 789
        },
        "id": "M4htWLUADvI8",
        "outputId": "6e08bf2b-f9d9-4710-db6b-68ccb912715a"
      },
      "outputs": [
        {
          "name": "stdout",
          "output_type": "stream",
          "text": [
            "\n",
            "Confusion Matrix:\n"
          ]
        },
        {
          "data": {
            "image/png": "[encoded data removed]",
            "text/plain": [
              "<Figure size 1100x400 with 4 Axes>"
            ]
          },
          "metadata": {},
          "output_type": "display_data"
        },
        {
          "name": "stdout",
          "output_type": "stream",
          "text": [
            "\n",
            "Train Classification Report:\n",
            "|              |   precision |   recall |   f1-score |    support |\n",
            "|:-------------|------------:|---------:|-----------:|-----------:|\n",
            "| 0            |    1        | 1        |   1        |  33        |\n",
            "| 1            |    0.923077 | 1        |   0.96     |  36        |\n",
            "| 2            |    1        | 0.916667 |   0.956522 |  36        |\n",
            "| accuracy     |    0.971429 | 0.971429 |   0.971429 |   0.971429 |\n",
            "| macro avg    |    0.974359 | 0.972222 |   0.972174 | 105        |\n",
            "| weighted avg |    0.973626 | 0.971429 |   0.971379 | 105        |\n",
            "\n",
            "Test Classification Report:\n",
            "|              |   precision |   recall |   f1-score |   support |\n",
            "|:-------------|------------:|---------:|-----------:|----------:|\n",
            "| 0            |    1        | 1        |   1        | 17        |\n",
            "| 1            |    0.866667 | 0.928571 |   0.896552 | 14        |\n",
            "| 2            |    0.923077 | 0.857143 |   0.888889 | 14        |\n",
            "| accuracy     |    0.933333 | 0.933333 |   0.933333 |  0.933333 |\n",
            "| macro avg    |    0.929915 | 0.928571 |   0.92848  | 45        |\n",
            "| weighted avg |    0.934587 | 0.933333 |   0.933248 | 45        |\n"
          ]
        }
      ],
      "source": [
        "# Visualizing evaluation Metric Score chart\n",
        "dt2_score = evaluate_model(dt_model2, x_train, x_test, y_train, y_test)"
      ]
    },
    {
      "cell_type": "code",
      "execution_count": 40,
      "metadata": {
        "id": "MPa2P97oEFVh"
      },
      "outputs": [],
      "source": [
        "score[\"Decision Tree tuned\"] = dt2_score"
      ]
    },
    {
      "cell_type": "code",
      "execution_count": 41,
      "metadata": {
        "colab": {
          "base_uri": "https://localhost:8080/",
          "height": 300
        },
        "id": "VknJyN6FEdc6",
        "outputId": "19629310-6899-4755-f81e-2c8b7de46fcd"
      },
      "outputs": [
        {
          "data": {
            "text/html": [
              "<div>\n",
              "<style scoped>\n",
              "    .dataframe tbody tr th:only-of-type {\n",
              "        vertical-align: middle;\n",
              "    }\n",
              "\n",
              "    .dataframe tbody tr th {\n",
              "        vertical-align: top;\n",
              "    }\n",
              "\n",
              "    .dataframe thead th {\n",
              "        text-align: right;\n",
              "    }\n",
              "</style>\n",
              "<table border=\"1\" class=\"dataframe\">\n",
              "  <thead>\n",
              "    <tr style=\"text-align: right;\">\n",
              "      <th></th>\n",
              "      <th>Logistic regression</th>\n",
              "      <th>Logistic regression tuned</th>\n",
              "      <th>Decision Tree</th>\n",
              "      <th>Decision Tree tuned</th>\n",
              "    </tr>\n",
              "  </thead>\n",
              "  <tbody>\n",
              "    <tr>\n",
              "      <th>Precision Train</th>\n",
              "      <td>0.981955</td>\n",
              "      <td>0.980952</td>\n",
              "      <td>1.000000</td>\n",
              "      <td>0.973626</td>\n",
              "    </tr>\n",
              "    <tr>\n",
              "      <th>Precision Test</th>\n",
              "      <td>0.934587</td>\n",
              "      <td>0.955556</td>\n",
              "      <td>0.934587</td>\n",
              "      <td>0.934587</td>\n",
              "    </tr>\n",
              "    <tr>\n",
              "      <th>Recall Train</th>\n",
              "      <td>0.980952</td>\n",
              "      <td>0.980952</td>\n",
              "      <td>1.000000</td>\n",
              "      <td>0.971429</td>\n",
              "    </tr>\n",
              "    <tr>\n",
              "      <th>Recall Test</th>\n",
              "      <td>0.933333</td>\n",
              "      <td>0.955556</td>\n",
              "      <td>0.933333</td>\n",
              "      <td>0.933333</td>\n",
              "    </tr>\n",
              "    <tr>\n",
              "      <th>Accuracy Train</th>\n",
              "      <td>0.980952</td>\n",
              "      <td>0.980952</td>\n",
              "      <td>1.000000</td>\n",
              "      <td>0.971429</td>\n",
              "    </tr>\n",
              "    <tr>\n",
              "      <th>Accuracy Test</th>\n",
              "      <td>0.933333</td>\n",
              "      <td>0.955556</td>\n",
              "      <td>0.933333</td>\n",
              "      <td>0.933333</td>\n",
              "    </tr>\n",
              "    <tr>\n",
              "      <th>F1 macro Train</th>\n",
              "      <td>0.980938</td>\n",
              "      <td>0.980952</td>\n",
              "      <td>1.000000</td>\n",
              "      <td>0.971379</td>\n",
              "    </tr>\n",
              "    <tr>\n",
              "      <th>F1 macro Test</th>\n",
              "      <td>0.933248</td>\n",
              "      <td>0.955556</td>\n",
              "      <td>0.933248</td>\n",
              "      <td>0.933248</td>\n",
              "    </tr>\n",
              "  </tbody>\n",
              "</table>\n",
              "</div>"
            ],
            "text/plain": [
              "                 Logistic regression  Logistic regression tuned  \\\n",
              "Precision Train             0.981955                   0.980952   \n",
              "Precision Test              0.934587                   0.955556   \n",
              "Recall Train                0.980952                   0.980952   \n",
              "Recall Test                 0.933333                   0.955556   \n",
              "Accuracy Train              0.980952                   0.980952   \n",
              "Accuracy Test               0.933333                   0.955556   \n",
              "F1 macro Train              0.980938                   0.980952   \n",
              "F1 macro Test               0.933248                   0.955556   \n",
              "\n",
              "                 Decision Tree  Decision Tree tuned  \n",
              "Precision Train       1.000000             0.973626  \n",
              "Precision Test        0.934587             0.934587  \n",
              "Recall Train          1.000000             0.971429  \n",
              "Recall Test           0.933333             0.933333  \n",
              "Accuracy Train        1.000000             0.971429  \n",
              "Accuracy Test         0.933333             0.933333  \n",
              "F1 macro Train        1.000000             0.971379  \n",
              "F1 macro Test         0.933248             0.933248  "
            ]
          },
          "execution_count": 41,
          "metadata": {},
          "output_type": "execute_result"
        }
      ],
      "source": [
        "# Updated Evaluation metric Score Chart\n",
        "score"
      ]
    },
    {
      "cell_type": "markdown",
      "metadata": {
        "id": "Bgen1cFIwA-a"
      },
      "source": [
        "### ML Model - 3 : Random Forest"
      ]
    },
    {
      "cell_type": "code",
      "execution_count": 42,
      "metadata": {
        "id": "6ihFy_gjwA-a"
      },
      "outputs": [],
      "source": [
        "# ML Model - 3 Implementation\n",
        "rf_model = RandomForestClassifier(random_state=0)\n",
        "\n",
        "# Model is trained (fit) and predicted in the evaluate model"
      ]
    },
    {
      "cell_type": "markdown",
      "metadata": {
        "id": "JPT_4dYWwA-a"
      },
      "source": [
        "#### 1. Explain the ML Model used and it's performance using Evaluation metric Score Chart."
      ]
    },
    {
      "cell_type": "code",
      "execution_count": 43,
      "metadata": {
        "colab": {
          "base_uri": "https://localhost:8080/"
        },
        "id": "o5z7_5MxwA-a",
        "outputId": "67f25f22-733b-4119-db36-9f96bb445f0f"
      },
      "outputs": [
        {
          "name": "stdout",
          "output_type": "stream",
          "text": [
            "\n",
            "Confusion Matrix:\n"
          ]
        },
        {
          "data": {
            "image/png": "[encoded data removed]",
            "text/plain": [
              "<Figure size 1100x400 with 4 Axes>"
            ]
          },
          "metadata": {},
          "output_type": "display_data"
        },
        {
          "name": "stdout",
          "output_type": "stream",
          "text": [
            "\n",
            "Train Classification Report:\n",
            "|              |   precision |   recall |   f1-score |   support |\n",
            "|:-------------|------------:|---------:|-----------:|----------:|\n",
            "| 0            |           1 |        1 |          1 |        33 |\n",
            "| 1            |           1 |        1 |          1 |        36 |\n",
            "| 2            |           1 |        1 |          1 |        36 |\n",
            "| accuracy     |           1 |        1 |          1 |         1 |\n",
            "| macro avg    |           1 |        1 |          1 |       105 |\n",
            "| weighted avg |           1 |        1 |          1 |       105 |\n",
            "\n",
            "Test Classification Report:\n",
            "|              |   precision |   recall |   f1-score |   support |\n",
            "|:-------------|------------:|---------:|-----------:|----------:|\n",
            "| 0            |    1        | 1        |   1        | 17        |\n",
            "| 1            |    0.866667 | 0.928571 |   0.896552 | 14        |\n",
            "| 2            |    0.923077 | 0.857143 |   0.888889 | 14        |\n",
            "| accuracy     |    0.933333 | 0.933333 |   0.933333 |  0.933333 |\n",
            "| macro avg    |    0.929915 | 0.928571 |   0.92848  | 45        |\n",
            "| weighted avg |    0.934587 | 0.933333 |   0.933248 | 45        |\n"
          ]
        }
      ],
      "source": [
        "# Visualizing evaluation Metric Score chart\n",
        "rf_score = evaluate_model(rf_model, x_train, x_test, y_train, y_test)"
      ]
    },
    {
      "cell_type": "code",
      "execution_count": 44,
      "metadata": {
        "colab": {
          "base_uri": "https://localhost:8080/"
        },
        "id": "YRaqdO4jumXX",
        "outputId": "b96eed79-aeb7-433e-ea7c-8b90b2065a02"
      },
      "outputs": [
        {
          "data": {
            "text/html": [
              "<div>\n",
              "<style scoped>\n",
              "    .dataframe tbody tr th:only-of-type {\n",
              "        vertical-align: middle;\n",
              "    }\n",
              "\n",
              "    .dataframe tbody tr th {\n",
              "        vertical-align: top;\n",
              "    }\n",
              "\n",
              "    .dataframe thead th {\n",
              "        text-align: right;\n",
              "    }\n",
              "</style>\n",
              "<table border=\"1\" class=\"dataframe\">\n",
              "  <thead>\n",
              "    <tr style=\"text-align: right;\">\n",
              "      <th></th>\n",
              "      <th>Logistic regression</th>\n",
              "      <th>Logistic regression tuned</th>\n",
              "      <th>Decision Tree</th>\n",
              "      <th>Decision Tree tuned</th>\n",
              "      <th>Random Forest</th>\n",
              "    </tr>\n",
              "  </thead>\n",
              "  <tbody>\n",
              "    <tr>\n",
              "      <th>Precision Train</th>\n",
              "      <td>0.981955</td>\n",
              "      <td>0.980952</td>\n",
              "      <td>1.000000</td>\n",
              "      <td>0.973626</td>\n",
              "      <td>1.000000</td>\n",
              "    </tr>\n",
              "    <tr>\n",
              "      <th>Precision Test</th>\n",
              "      <td>0.934587</td>\n",
              "      <td>0.955556</td>\n",
              "      <td>0.934587</td>\n",
              "      <td>0.934587</td>\n",
              "      <td>0.934587</td>\n",
              "    </tr>\n",
              "    <tr>\n",
              "      <th>Recall Train</th>\n",
              "      <td>0.980952</td>\n",
              "      <td>0.980952</td>\n",
              "      <td>1.000000</td>\n",
              "      <td>0.971429</td>\n",
              "      <td>1.000000</td>\n",
              "    </tr>\n",
              "    <tr>\n",
              "      <th>Recall Test</th>\n",
              "      <td>0.933333</td>\n",
              "      <td>0.955556</td>\n",
              "      <td>0.933333</td>\n",
              "      <td>0.933333</td>\n",
              "      <td>0.933333</td>\n",
              "    </tr>\n",
              "    <tr>\n",
              "      <th>Accuracy Train</th>\n",
              "      <td>0.980952</td>\n",
              "      <td>0.980952</td>\n",
              "      <td>1.000000</td>\n",
              "      <td>0.971429</td>\n",
              "      <td>1.000000</td>\n",
              "    </tr>\n",
              "    <tr>\n",
              "      <th>Accuracy Test</th>\n",
              "      <td>0.933333</td>\n",
              "      <td>0.955556</td>\n",
              "      <td>0.933333</td>\n",
              "      <td>0.933333</td>\n",
              "      <td>0.933333</td>\n",
              "    </tr>\n",
              "    <tr>\n",
              "      <th>F1 macro Train</th>\n",
              "      <td>0.980938</td>\n",
              "      <td>0.980952</td>\n",
              "      <td>1.000000</td>\n",
              "      <td>0.971379</td>\n",
              "      <td>1.000000</td>\n",
              "    </tr>\n",
              "    <tr>\n",
              "      <th>F1 macro Test</th>\n",
              "      <td>0.933248</td>\n",
              "      <td>0.955556</td>\n",
              "      <td>0.933248</td>\n",
              "      <td>0.933248</td>\n",
              "      <td>0.933248</td>\n",
              "    </tr>\n",
              "  </tbody>\n",
              "</table>\n",
              "</div>"
            ],
            "text/plain": [
              "                 Logistic regression  Logistic regression tuned  \\\n",
              "Precision Train             0.981955                   0.980952   \n",
              "Precision Test              0.934587                   0.955556   \n",
              "Recall Train                0.980952                   0.980952   \n",
              "Recall Test                 0.933333                   0.955556   \n",
              "Accuracy Train              0.980952                   0.980952   \n",
              "Accuracy Test               0.933333                   0.955556   \n",
              "F1 macro Train              0.980938                   0.980952   \n",
              "F1 macro Test               0.933248                   0.955556   \n",
              "\n",
              "                 Decision Tree  Decision Tree tuned  Random Forest  \n",
              "Precision Train       1.000000             0.973626       1.000000  \n",
              "Precision Test        0.934587             0.934587       0.934587  \n",
              "Recall Train          1.000000             0.971429       1.000000  \n",
              "Recall Test           0.933333             0.933333       0.933333  \n",
              "Accuracy Train        1.000000             0.971429       1.000000  \n",
              "Accuracy Test         0.933333             0.933333       0.933333  \n",
              "F1 macro Train        1.000000             0.971379       1.000000  \n",
              "F1 macro Test         0.933248             0.933248       0.933248  "
            ]
          },
          "execution_count": 44,
          "metadata": {},
          "output_type": "execute_result"
        }
      ],
      "source": [
        "# Updated Evaluation metric Score Chart\n",
        "score[\"Random Forest\"] = rf_score\n",
        "score"
      ]
    },
    {
      "cell_type": "markdown",
      "metadata": {
        "id": "LRvyaI9BwA-b"
      },
      "source": [
        "#### 2. Cross- Validation & Hyperparameter Tuning"
      ]
    },
    {
      "cell_type": "code",
      "execution_count": 45,
      "metadata": {
        "colab": {
          "base_uri": "https://localhost:8080/"
        },
        "id": "dPxstoI0wA-b",
        "outputId": "225732dd-c6bb-4df6-e494-46dfdfecb0c5"
      },
      "outputs": [
        {
          "name": "stdout",
          "output_type": "stream",
          "text": [
            "Best hyperparameters:  {'n_estimators': 100, 'min_samples_split': 5, 'max_depth': 15}\n"
          ]
        }
      ],
      "source": [
        "# ML Model - 3 Implementation with hyperparameter optimization techniques (i.e., GridSearch CV, RandomSearch CV, Bayesian Optimization etc.)\n",
        "# Define the hyperparameter grid\n",
        "grid = {\n",
        "    \"n_estimators\": [10, 50, 100, 200],\n",
        "    \"max_depth\": [8, 9, 10, 11, 12, 13, 14, 15],\n",
        "    \"min_samples_split\": [2, 3, 4, 5],\n",
        "}\n",
        "\n",
        "# Initialize the model\n",
        "rf = RandomForestClassifier(random_state=0)\n",
        "\n",
        "# Repeated stratified kfold\n",
        "rskf = RepeatedStratifiedKFold(n_splits=3, n_repeats=3, random_state=0)\n",
        "\n",
        "# Initialize RandomSearchCV\n",
        "random_search = RandomizedSearchCV(rf, grid, cv=rskf, n_iter=10, n_jobs=-1)\n",
        "\n",
        "# Fit the RandomSearchCV to the training data\n",
        "random_search.fit(x_train, y_train)\n",
        "\n",
        "# Select the best hyperparameters\n",
        "best_params = random_search.best_params_\n",
        "print(\"Best hyperparameters: \", best_params)"
      ]
    },
    {
      "cell_type": "code",
      "execution_count": 46,
      "metadata": {
        "id": "_kQLZcUVwHwv"
      },
      "outputs": [],
      "source": [
        "# Initialize model with best parameters\n",
        "rf_model2 = RandomForestClassifier(\n",
        "    n_estimators=best_params[\"n_estimators\"],\n",
        "    min_samples_leaf=best_params[\"min_samples_split\"],\n",
        "    max_depth=best_params[\"max_depth\"],\n",
        "    random_state=0,\n",
        ")"
      ]
    },
    {
      "cell_type": "code",
      "execution_count": 47,
      "metadata": {
        "colab": {
          "base_uri": "https://localhost:8080/",
          "height": 789
        },
        "id": "Jl8uTrpRwPAj",
        "outputId": "5d71f140-1c6d-4ad6-f394-d0f6fc637a8b"
      },
      "outputs": [
        {
          "name": "stdout",
          "output_type": "stream",
          "text": [
            "\n",
            "Confusion Matrix:\n"
          ]
        },
        {
          "data": {
            "image/png": "[encoded data removed]",
            "text/plain": [
              "<Figure size 1100x400 with 4 Axes>"
            ]
          },
          "metadata": {},
          "output_type": "display_data"
        },
        {
          "name": "stdout",
          "output_type": "stream",
          "text": [
            "\n",
            "Train Classification Report:\n",
            "|              |   precision |   recall |   f1-score |    support |\n",
            "|:-------------|------------:|---------:|-----------:|-----------:|\n",
            "| 0            |    1        | 1        |   1        |  33        |\n",
            "| 1            |    1        | 0.944444 |   0.971429 |  36        |\n",
            "| 2            |    0.947368 | 1        |   0.972973 |  36        |\n",
            "| accuracy     |    0.980952 | 0.980952 |   0.980952 |   0.980952 |\n",
            "| macro avg    |    0.982456 | 0.981481 |   0.981467 | 105        |\n",
            "| weighted avg |    0.981955 | 0.980952 |   0.980938 | 105        |\n",
            "\n",
            "Test Classification Report:\n",
            "|              |   precision |   recall |   f1-score |   support |\n",
            "|:-------------|------------:|---------:|-----------:|----------:|\n",
            "| 0            |    1        | 1        |   1        | 17        |\n",
            "| 1            |    0.866667 | 0.928571 |   0.896552 | 14        |\n",
            "| 2            |    0.923077 | 0.857143 |   0.888889 | 14        |\n",
            "| accuracy     |    0.933333 | 0.933333 |   0.933333 |  0.933333 |\n",
            "| macro avg    |    0.929915 | 0.928571 |   0.92848  | 45        |\n",
            "| weighted avg |    0.934587 | 0.933333 |   0.933248 | 45        |\n"
          ]
        }
      ],
      "source": [
        "# Visualizing evaluation Metric Score chart\n",
        "rf2_score = evaluate_model(rf_model2, x_train, x_test, y_train, y_test)"
      ]
    },
    {
      "cell_type": "code",
      "execution_count": 48,
      "metadata": {
        "id": "AmhUFwxdwbSF"
      },
      "outputs": [],
      "source": [
        "score[\"Random Forest tuned\"] = rf2_score"
      ]
    },
    {
      "cell_type": "code",
      "execution_count": 49,
      "metadata": {
        "colab": {
          "base_uri": "https://localhost:8080/",
          "height": 300
        },
        "id": "os_VXzbzxdX7",
        "outputId": "5fbaf009-7ac0-42d2-a894-88a1ad08eee6"
      },
      "outputs": [
        {
          "data": {
            "text/html": [
              "<div>\n",
              "<style scoped>\n",
              "    .dataframe tbody tr th:only-of-type {\n",
              "        vertical-align: middle;\n",
              "    }\n",
              "\n",
              "    .dataframe tbody tr th {\n",
              "        vertical-align: top;\n",
              "    }\n",
              "\n",
              "    .dataframe thead th {\n",
              "        text-align: right;\n",
              "    }\n",
              "</style>\n",
              "<table border=\"1\" class=\"dataframe\">\n",
              "  <thead>\n",
              "    <tr style=\"text-align: right;\">\n",
              "      <th></th>\n",
              "      <th>Logistic regression</th>\n",
              "      <th>Logistic regression tuned</th>\n",
              "      <th>Decision Tree</th>\n",
              "      <th>Decision Tree tuned</th>\n",
              "      <th>Random Forest</th>\n",
              "      <th>Random Forest tuned</th>\n",
              "    </tr>\n",
              "  </thead>\n",
              "  <tbody>\n",
              "    <tr>\n",
              "      <th>Precision Train</th>\n",
              "      <td>0.981955</td>\n",
              "      <td>0.980952</td>\n",
              "      <td>1.000000</td>\n",
              "      <td>0.973626</td>\n",
              "      <td>1.000000</td>\n",
              "      <td>0.981955</td>\n",
              "    </tr>\n",
              "    <tr>\n",
              "      <th>Precision Test</th>\n",
              "      <td>0.934587</td>\n",
              "      <td>0.955556</td>\n",
              "      <td>0.934587</td>\n",
              "      <td>0.934587</td>\n",
              "      <td>0.934587</td>\n",
              "      <td>0.934587</td>\n",
              "    </tr>\n",
              "    <tr>\n",
              "      <th>Recall Train</th>\n",
              "      <td>0.980952</td>\n",
              "      <td>0.980952</td>\n",
              "      <td>1.000000</td>\n",
              "      <td>0.971429</td>\n",
              "      <td>1.000000</td>\n",
              "      <td>0.980952</td>\n",
              "    </tr>\n",
              "    <tr>\n",
              "      <th>Recall Test</th>\n",
              "      <td>0.933333</td>\n",
              "      <td>0.955556</td>\n",
              "      <td>0.933333</td>\n",
              "      <td>0.933333</td>\n",
              "      <td>0.933333</td>\n",
              "      <td>0.933333</td>\n",
              "    </tr>\n",
              "    <tr>\n",
              "      <th>Accuracy Train</th>\n",
              "      <td>0.980952</td>\n",
              "      <td>0.980952</td>\n",
              "      <td>1.000000</td>\n",
              "      <td>0.971429</td>\n",
              "      <td>1.000000</td>\n",
              "      <td>0.980952</td>\n",
              "    </tr>\n",
              "    <tr>\n",
              "      <th>Accuracy Test</th>\n",
              "      <td>0.933333</td>\n",
              "      <td>0.955556</td>\n",
              "      <td>0.933333</td>\n",
              "      <td>0.933333</td>\n",
              "      <td>0.933333</td>\n",
              "      <td>0.933333</td>\n",
              "    </tr>\n",
              "    <tr>\n",
              "      <th>F1 macro Train</th>\n",
              "      <td>0.980938</td>\n",
              "      <td>0.980952</td>\n",
              "      <td>1.000000</td>\n",
              "      <td>0.971379</td>\n",
              "      <td>1.000000</td>\n",
              "      <td>0.980938</td>\n",
              "    </tr>\n",
              "    <tr>\n",
              "      <th>F1 macro Test</th>\n",
              "      <td>0.933248</td>\n",
              "      <td>0.955556</td>\n",
              "      <td>0.933248</td>\n",
              "      <td>0.933248</td>\n",
              "      <td>0.933248</td>\n",
              "      <td>0.933248</td>\n",
              "    </tr>\n",
              "  </tbody>\n",
              "</table>\n",
              "</div>"
            ],
            "text/plain": [
              "                 Logistic regression  Logistic regression tuned  \\\n",
              "Precision Train             0.981955                   0.980952   \n",
              "Precision Test              0.934587                   0.955556   \n",
              "Recall Train                0.980952                   0.980952   \n",
              "Recall Test                 0.933333                   0.955556   \n",
              "Accuracy Train              0.980952                   0.980952   \n",
              "Accuracy Test               0.933333                   0.955556   \n",
              "F1 macro Train              0.980938                   0.980952   \n",
              "F1 macro Test               0.933248                   0.955556   \n",
              "\n",
              "                 Decision Tree  Decision Tree tuned  Random Forest  \\\n",
              "Precision Train       1.000000             0.973626       1.000000   \n",
              "Precision Test        0.934587             0.934587       0.934587   \n",
              "Recall Train          1.000000             0.971429       1.000000   \n",
              "Recall Test           0.933333             0.933333       0.933333   \n",
              "Accuracy Train        1.000000             0.971429       1.000000   \n",
              "Accuracy Test         0.933333             0.933333       0.933333   \n",
              "F1 macro Train        1.000000             0.971379       1.000000   \n",
              "F1 macro Test         0.933248             0.933248       0.933248   \n",
              "\n",
              "                 Random Forest tuned  \n",
              "Precision Train             0.981955  \n",
              "Precision Test              0.934587  \n",
              "Recall Train                0.980952  \n",
              "Recall Test                 0.933333  \n",
              "Accuracy Train              0.980952  \n",
              "Accuracy Test               0.933333  \n",
              "F1 macro Train              0.980938  \n",
              "F1 macro Test               0.933248  "
            ]
          },
          "execution_count": 49,
          "metadata": {},
          "output_type": "execute_result"
        }
      ],
      "source": [
        "# Updated Evaluation metric Score Chart\n",
        "score"
      ]
    },
    {
      "cell_type": "markdown",
      "metadata": {
        "id": "lHIyvCjC_4_G"
      },
      "source": [
        "### ML Model - 4 : SVM (Support Vector Machine)"
      ]
    },
    {
      "cell_type": "code",
      "execution_count": 50,
      "metadata": {
        "id": "e1TNdgXg_4_G"
      },
      "outputs": [],
      "source": [
        "# ML Model - 4 Implementation\n",
        "svm_model = SVC(kernel=\"linear\", random_state=0, probability=True)\n",
        "\n",
        "# Model is trained (fit) and predicted in the evaluate model"
      ]
    },
    {
      "cell_type": "markdown",
      "metadata": {
        "id": "zlBiexnN_4_G"
      },
      "source": [
        "#### 1. Explain the ML Model used and it's performance using Evaluation metric Score Chart."
      ]
    },
    {
      "cell_type": "code",
      "execution_count": 51,
      "metadata": {
        "colab": {
          "base_uri": "https://localhost:8080/"
        },
        "id": "l3Ic0Y-m_4_G",
        "outputId": "3dbc4d5f-6794-45a3-94dd-d7f395d27504"
      },
      "outputs": [
        {
          "name": "stdout",
          "output_type": "stream",
          "text": [
            "\n",
            "Confusion Matrix:\n"
          ]
        },
        {
          "data": {
            "image/png": "[encoded data removed]",
            "text/plain": [
              "<Figure size 1100x400 with 4 Axes>"
            ]
          },
          "metadata": {},
          "output_type": "display_data"
        },
        {
          "name": "stdout",
          "output_type": "stream",
          "text": [
            "\n",
            "Train Classification Report:\n",
            "|              |   precision |   recall |   f1-score |    support |\n",
            "|:-------------|------------:|---------:|-----------:|-----------:|\n",
            "| 0            |    1        | 1        |   1        |  33        |\n",
            "| 1            |    1        | 0.972222 |   0.985915 |  36        |\n",
            "| 2            |    0.972973 | 1        |   0.986301 |  36        |\n",
            "| accuracy     |    0.990476 | 0.990476 |   0.990476 |   0.990476 |\n",
            "| macro avg    |    0.990991 | 0.990741 |   0.990739 | 105        |\n",
            "| weighted avg |    0.990734 | 0.990476 |   0.990474 | 105        |\n",
            "\n",
            "Test Classification Report:\n",
            "|              |   precision |   recall |   f1-score |   support |\n",
            "|:-------------|------------:|---------:|-----------:|----------:|\n",
            "| 0            |    1        | 1        |   1        | 17        |\n",
            "| 1            |    1        | 0.928571 |   0.962963 | 14        |\n",
            "| 2            |    0.933333 | 1        |   0.965517 | 14        |\n",
            "| accuracy     |    0.977778 | 0.977778 |   0.977778 |  0.977778 |\n",
            "| macro avg    |    0.977778 | 0.97619  |   0.97616  | 45        |\n",
            "| weighted avg |    0.979259 | 0.977778 |   0.977749 | 45        |\n"
          ]
        }
      ],
      "source": [
        "# Visualizing evaluation Metric Score chart\n",
        "svm_score = evaluate_model(svm_model, x_train, x_test, y_train, y_test)"
      ]
    },
    {
      "cell_type": "code",
      "execution_count": 52,
      "metadata": {
        "colab": {
          "base_uri": "https://localhost:8080/"
        },
        "id": "hah2ym_FI9YW",
        "outputId": "75083ae9-e9ab-47b9-f307-bb4cdb75cf06"
      },
      "outputs": [
        {
          "data": {
            "text/html": [
              "<div>\n",
              "<style scoped>\n",
              "    .dataframe tbody tr th:only-of-type {\n",
              "        vertical-align: middle;\n",
              "    }\n",
              "\n",
              "    .dataframe tbody tr th {\n",
              "        vertical-align: top;\n",
              "    }\n",
              "\n",
              "    .dataframe thead th {\n",
              "        text-align: right;\n",
              "    }\n",
              "</style>\n",
              "<table border=\"1\" class=\"dataframe\">\n",
              "  <thead>\n",
              "    <tr style=\"text-align: right;\">\n",
              "      <th></th>\n",
              "      <th>Logistic regression</th>\n",
              "      <th>Logistic regression tuned</th>\n",
              "      <th>Decision Tree</th>\n",
              "      <th>Decision Tree tuned</th>\n",
              "      <th>Random Forest</th>\n",
              "      <th>Random Forest tuned</th>\n",
              "      <th>SVM</th>\n",
              "    </tr>\n",
              "  </thead>\n",
              "  <tbody>\n",
              "    <tr>\n",
              "      <th>Precision Train</th>\n",
              "      <td>0.981955</td>\n",
              "      <td>0.980952</td>\n",
              "      <td>1.000000</td>\n",
              "      <td>0.973626</td>\n",
              "      <td>1.000000</td>\n",
              "      <td>0.981955</td>\n",
              "      <td>0.990734</td>\n",
              "    </tr>\n",
              "    <tr>\n",
              "      <th>Precision Test</th>\n",
              "      <td>0.934587</td>\n",
              "      <td>0.955556</td>\n",
              "      <td>0.934587</td>\n",
              "      <td>0.934587</td>\n",
              "      <td>0.934587</td>\n",
              "      <td>0.934587</td>\n",
              "      <td>0.979259</td>\n",
              "    </tr>\n",
              "    <tr>\n",
              "      <th>Recall Train</th>\n",
              "      <td>0.980952</td>\n",
              "      <td>0.980952</td>\n",
              "      <td>1.000000</td>\n",
              "      <td>0.971429</td>\n",
              "      <td>1.000000</td>\n",
              "      <td>0.980952</td>\n",
              "      <td>0.990476</td>\n",
              "    </tr>\n",
              "    <tr>\n",
              "      <th>Recall Test</th>\n",
              "      <td>0.933333</td>\n",
              "      <td>0.955556</td>\n",
              "      <td>0.933333</td>\n",
              "      <td>0.933333</td>\n",
              "      <td>0.933333</td>\n",
              "      <td>0.933333</td>\n",
              "      <td>0.977778</td>\n",
              "    </tr>\n",
              "    <tr>\n",
              "      <th>Accuracy Train</th>\n",
              "      <td>0.980952</td>\n",
              "      <td>0.980952</td>\n",
              "      <td>1.000000</td>\n",
              "      <td>0.971429</td>\n",
              "      <td>1.000000</td>\n",
              "      <td>0.980952</td>\n",
              "      <td>0.990476</td>\n",
              "    </tr>\n",
              "    <tr>\n",
              "      <th>Accuracy Test</th>\n",
              "      <td>0.933333</td>\n",
              "      <td>0.955556</td>\n",
              "      <td>0.933333</td>\n",
              "      <td>0.933333</td>\n",
              "      <td>0.933333</td>\n",
              "      <td>0.933333</td>\n",
              "      <td>0.977778</td>\n",
              "    </tr>\n",
              "    <tr>\n",
              "      <th>F1 macro Train</th>\n",
              "      <td>0.980938</td>\n",
              "      <td>0.980952</td>\n",
              "      <td>1.000000</td>\n",
              "      <td>0.971379</td>\n",
              "      <td>1.000000</td>\n",
              "      <td>0.980938</td>\n",
              "      <td>0.990474</td>\n",
              "    </tr>\n",
              "    <tr>\n",
              "      <th>F1 macro Test</th>\n",
              "      <td>0.933248</td>\n",
              "      <td>0.955556</td>\n",
              "      <td>0.933248</td>\n",
              "      <td>0.933248</td>\n",
              "      <td>0.933248</td>\n",
              "      <td>0.933248</td>\n",
              "      <td>0.977749</td>\n",
              "    </tr>\n",
              "  </tbody>\n",
              "</table>\n",
              "</div>"
            ],
            "text/plain": [
              "                 Logistic regression  Logistic regression tuned  \\\n",
              "Precision Train             0.981955                   0.980952   \n",
              "Precision Test              0.934587                   0.955556   \n",
              "Recall Train                0.980952                   0.980952   \n",
              "Recall Test                 0.933333                   0.955556   \n",
              "Accuracy Train              0.980952                   0.980952   \n",
              "Accuracy Test               0.933333                   0.955556   \n",
              "F1 macro Train              0.980938                   0.980952   \n",
              "F1 macro Test               0.933248                   0.955556   \n",
              "\n",
              "                 Decision Tree  Decision Tree tuned  Random Forest  \\\n",
              "Precision Train       1.000000             0.973626       1.000000   \n",
              "Precision Test        0.934587             0.934587       0.934587   \n",
              "Recall Train          1.000000             0.971429       1.000000   \n",
              "Recall Test           0.933333             0.933333       0.933333   \n",
              "Accuracy Train        1.000000             0.971429       1.000000   \n",
              "Accuracy Test         0.933333             0.933333       0.933333   \n",
              "F1 macro Train        1.000000             0.971379       1.000000   \n",
              "F1 macro Test         0.933248             0.933248       0.933248   \n",
              "\n",
              "                 Random Forest tuned       SVM  \n",
              "Precision Train             0.981955  0.990734  \n",
              "Precision Test              0.934587  0.979259  \n",
              "Recall Train                0.980952  0.990476  \n",
              "Recall Test                 0.933333  0.977778  \n",
              "Accuracy Train              0.980952  0.990476  \n",
              "Accuracy Test               0.933333  0.977778  \n",
              "F1 macro Train              0.980938  0.990474  \n",
              "F1 macro Test               0.933248  0.977749  "
            ]
          },
          "execution_count": 52,
          "metadata": {},
          "output_type": "execute_result"
        }
      ],
      "source": [
        "# Updated Evaluation metric Score Chart\n",
        "score[\"SVM\"] = svm_score\n",
        "score"
      ]
    },
    {
      "cell_type": "markdown",
      "metadata": {
        "id": "ffEiQ19I_4_H"
      },
      "source": [
        "#### 2. Cross- Validation & Hyperparameter Tuning"
      ]
    },
    {
      "cell_type": "code",
      "execution_count": 53,
      "metadata": {
        "colab": {
          "base_uri": "https://localhost:8080/"
        },
        "id": "AU8Saxiv_4_H",
        "outputId": "364e107c-60e6-4687-c043-e2dee24268e0"
      },
      "outputs": [
        {
          "name": "stdout",
          "output_type": "stream",
          "text": [
            "Best hyperparameters:  {'kernel': 'rbf', 'degree': np.int64(3), 'C': np.float64(5.7)}\n"
          ]
        }
      ],
      "source": [
        "# ML Model - 4 Implementation with hyperparameter optimization techniques (i.e., GridSearch CV, RandomSearch CV, Bayesian Optimization etc.)\n",
        "# Define the hyperparameter grid\n",
        "param_grid = {\n",
        "    \"C\": np.arange(0.1, 10, 0.1),\n",
        "    \"kernel\": [\"linear\", \"poly\", \"rbf\", \"sigmoid\"],\n",
        "    \"degree\": np.arange(2, 6, 1),\n",
        "}\n",
        "\n",
        "# Initialize the model\n",
        "svm = SVC(random_state=0, probability=True)\n",
        "\n",
        "# Repeated stratified kfold\n",
        "rskf = RepeatedStratifiedKFold(n_splits=3, n_repeats=3, random_state=0)\n",
        "\n",
        "# Initialize RandomizedSearchCV with kfold cross-validation\n",
        "random_search = RandomizedSearchCV(svm, param_grid, n_iter=10, cv=rskf, n_jobs=-1)\n",
        "\n",
        "# Fit the RandomizedSearchCV to the training data\n",
        "random_search.fit(x_train, y_train)\n",
        "\n",
        "# Select the best hyperparameters\n",
        "best_params = random_search.best_params_\n",
        "print(\"Best hyperparameters: \", best_params)"
      ]
    },
    {
      "cell_type": "code",
      "execution_count": 54,
      "metadata": {
        "id": "VytDm6E-JP-m"
      },
      "outputs": [],
      "source": [
        "# Initialize model with best parameters\n",
        "svm_model2 = SVC(\n",
        "    C=best_params[\"C\"],\n",
        "    kernel=best_params[\"kernel\"],\n",
        "    degree=best_params[\"degree\"],\n",
        "    random_state=0,\n",
        "    probability=True,\n",
        ")"
      ]
    },
    {
      "cell_type": "code",
      "execution_count": 55,
      "metadata": {
        "colab": {
          "base_uri": "https://localhost:8080/",
          "height": 789
        },
        "id": "DiLNfk1RJGXv",
        "outputId": "c83cc630-9d46-4f21-a4f4-c072bd592efc"
      },
      "outputs": [
        {
          "name": "stdout",
          "output_type": "stream",
          "text": [
            "\n",
            "Confusion Matrix:\n"
          ]
        },
        {
          "data": {
            "image/png": "[encoded data removed]",
            "text/plain": [
              "<Figure size 1100x400 with 4 Axes>"
            ]
          },
          "metadata": {},
          "output_type": "display_data"
        },
        {
          "name": "stdout",
          "output_type": "stream",
          "text": [
            "\n",
            "Train Classification Report:\n",
            "|              |   precision |   recall |   f1-score |    support |\n",
            "|:-------------|------------:|---------:|-----------:|-----------:|\n",
            "| 0            |    1        | 1        |   1        |  33        |\n",
            "| 1            |    1        | 0.972222 |   0.985915 |  36        |\n",
            "| 2            |    0.972973 | 1        |   0.986301 |  36        |\n",
            "| accuracy     |    0.990476 | 0.990476 |   0.990476 |   0.990476 |\n",
            "| macro avg    |    0.990991 | 0.990741 |   0.990739 | 105        |\n",
            "| weighted avg |    0.990734 | 0.990476 |   0.990474 | 105        |\n",
            "\n",
            "Test Classification Report:\n",
            "|              |   precision |   recall |   f1-score |   support |\n",
            "|:-------------|------------:|---------:|-----------:|----------:|\n",
            "| 0            |    1        | 1        |   1        | 17        |\n",
            "| 1            |    1        | 0.928571 |   0.962963 | 14        |\n",
            "| 2            |    0.933333 | 1        |   0.965517 | 14        |\n",
            "| accuracy     |    0.977778 | 0.977778 |   0.977778 |  0.977778 |\n",
            "| macro avg    |    0.977778 | 0.97619  |   0.97616  | 45        |\n",
            "| weighted avg |    0.979259 | 0.977778 |   0.977749 | 45        |\n"
          ]
        }
      ],
      "source": [
        "# Visualizing evaluation Metric Score chart\n",
        "svm2_score = evaluate_model(svm_model2, x_train, x_test, y_train, y_test)"
      ]
    },
    {
      "cell_type": "code",
      "execution_count": 56,
      "metadata": {
        "id": "5jhEgQWyJG3P"
      },
      "outputs": [],
      "source": [
        "score[\"SVM tuned\"] = svm2_score"
      ]
    },
    {
      "cell_type": "code",
      "execution_count": 57,
      "metadata": {
        "colab": {
          "base_uri": "https://localhost:8080/",
          "height": 300
        },
        "id": "9Ei0SAaAKd6I",
        "outputId": "222405fd-8dee-4d81-f52e-5635d57d5901"
      },
      "outputs": [
        {
          "data": {
            "text/html": [
              "<div>\n",
              "<style scoped>\n",
              "    .dataframe tbody tr th:only-of-type {\n",
              "        vertical-align: middle;\n",
              "    }\n",
              "\n",
              "    .dataframe tbody tr th {\n",
              "        vertical-align: top;\n",
              "    }\n",
              "\n",
              "    .dataframe thead th {\n",
              "        text-align: right;\n",
              "    }\n",
              "</style>\n",
              "<table border=\"1\" class=\"dataframe\">\n",
              "  <thead>\n",
              "    <tr style=\"text-align: right;\">\n",
              "      <th></th>\n",
              "      <th>Logistic regression</th>\n",
              "      <th>Logistic regression tuned</th>\n",
              "      <th>Decision Tree</th>\n",
              "      <th>Decision Tree tuned</th>\n",
              "      <th>Random Forest</th>\n",
              "      <th>Random Forest tuned</th>\n",
              "      <th>SVM</th>\n",
              "      <th>SVM tuned</th>\n",
              "    </tr>\n",
              "  </thead>\n",
              "  <tbody>\n",
              "    <tr>\n",
              "      <th>Precision Train</th>\n",
              "      <td>0.981955</td>\n",
              "      <td>0.980952</td>\n",
              "      <td>1.000000</td>\n",
              "      <td>0.973626</td>\n",
              "      <td>1.000000</td>\n",
              "      <td>0.981955</td>\n",
              "      <td>0.990734</td>\n",
              "      <td>0.990734</td>\n",
              "    </tr>\n",
              "    <tr>\n",
              "      <th>Precision Test</th>\n",
              "      <td>0.934587</td>\n",
              "      <td>0.955556</td>\n",
              "      <td>0.934587</td>\n",
              "      <td>0.934587</td>\n",
              "      <td>0.934587</td>\n",
              "      <td>0.934587</td>\n",
              "      <td>0.979259</td>\n",
              "      <td>0.979259</td>\n",
              "    </tr>\n",
              "    <tr>\n",
              "      <th>Recall Train</th>\n",
              "      <td>0.980952</td>\n",
              "      <td>0.980952</td>\n",
              "      <td>1.000000</td>\n",
              "      <td>0.971429</td>\n",
              "      <td>1.000000</td>\n",
              "      <td>0.980952</td>\n",
              "      <td>0.990476</td>\n",
              "      <td>0.990476</td>\n",
              "    </tr>\n",
              "    <tr>\n",
              "      <th>Recall Test</th>\n",
              "      <td>0.933333</td>\n",
              "      <td>0.955556</td>\n",
              "      <td>0.933333</td>\n",
              "      <td>0.933333</td>\n",
              "      <td>0.933333</td>\n",
              "      <td>0.933333</td>\n",
              "      <td>0.977778</td>\n",
              "      <td>0.977778</td>\n",
              "    </tr>\n",
              "    <tr>\n",
              "      <th>Accuracy Train</th>\n",
              "      <td>0.980952</td>\n",
              "      <td>0.980952</td>\n",
              "      <td>1.000000</td>\n",
              "      <td>0.971429</td>\n",
              "      <td>1.000000</td>\n",
              "      <td>0.980952</td>\n",
              "      <td>0.990476</td>\n",
              "      <td>0.990476</td>\n",
              "    </tr>\n",
              "    <tr>\n",
              "      <th>Accuracy Test</th>\n",
              "      <td>0.933333</td>\n",
              "      <td>0.955556</td>\n",
              "      <td>0.933333</td>\n",
              "      <td>0.933333</td>\n",
              "      <td>0.933333</td>\n",
              "      <td>0.933333</td>\n",
              "      <td>0.977778</td>\n",
              "      <td>0.977778</td>\n",
              "    </tr>\n",
              "    <tr>\n",
              "      <th>F1 macro Train</th>\n",
              "      <td>0.980938</td>\n",
              "      <td>0.980952</td>\n",
              "      <td>1.000000</td>\n",
              "      <td>0.971379</td>\n",
              "      <td>1.000000</td>\n",
              "      <td>0.980938</td>\n",
              "      <td>0.990474</td>\n",
              "      <td>0.990474</td>\n",
              "    </tr>\n",
              "    <tr>\n",
              "      <th>F1 macro Test</th>\n",
              "      <td>0.933248</td>\n",
              "      <td>0.955556</td>\n",
              "      <td>0.933248</td>\n",
              "      <td>0.933248</td>\n",
              "      <td>0.933248</td>\n",
              "      <td>0.933248</td>\n",
              "      <td>0.977749</td>\n",
              "      <td>0.977749</td>\n",
              "    </tr>\n",
              "  </tbody>\n",
              "</table>\n",
              "</div>"
            ],
            "text/plain": [
              "                 Logistic regression  Logistic regression tuned  \\\n",
              "Precision Train             0.981955                   0.980952   \n",
              "Precision Test              0.934587                   0.955556   \n",
              "Recall Train                0.980952                   0.980952   \n",
              "Recall Test                 0.933333                   0.955556   \n",
              "Accuracy Train              0.980952                   0.980952   \n",
              "Accuracy Test               0.933333                   0.955556   \n",
              "F1 macro Train              0.980938                   0.980952   \n",
              "F1 macro Test               0.933248                   0.955556   \n",
              "\n",
              "                 Decision Tree  Decision Tree tuned  Random Forest  \\\n",
              "Precision Train       1.000000             0.973626       1.000000   \n",
              "Precision Test        0.934587             0.934587       0.934587   \n",
              "Recall Train          1.000000             0.971429       1.000000   \n",
              "Recall Test           0.933333             0.933333       0.933333   \n",
              "Accuracy Train        1.000000             0.971429       1.000000   \n",
              "Accuracy Test         0.933333             0.933333       0.933333   \n",
              "F1 macro Train        1.000000             0.971379       1.000000   \n",
              "F1 macro Test         0.933248             0.933248       0.933248   \n",
              "\n",
              "                 Random Forest tuned       SVM  SVM tuned  \n",
              "Precision Train             0.981955  0.990734   0.990734  \n",
              "Precision Test              0.934587  0.979259   0.979259  \n",
              "Recall Train                0.980952  0.990476   0.990476  \n",
              "Recall Test                 0.933333  0.977778   0.977778  \n",
              "Accuracy Train              0.980952  0.990476   0.990476  \n",
              "Accuracy Test               0.933333  0.977778   0.977778  \n",
              "F1 macro Train              0.980938  0.990474   0.990474  \n",
              "F1 macro Test               0.933248  0.977749   0.977749  "
            ]
          },
          "execution_count": 57,
          "metadata": {},
          "output_type": "execute_result"
        }
      ],
      "source": [
        "# Updated Evaluation metric Score Chart\n",
        "score"
      ]
    },
    {
      "cell_type": "markdown",
      "metadata": {
        "id": "2CnsMkMiM-8g"
      },
      "source": [
        "### ML Model - 5 : Xtreme Gradient Boosting"
      ]
    },
    {
      "cell_type": "code",
      "execution_count": 58,
      "metadata": {
        "id": "ENIrhtBEM-8g"
      },
      "outputs": [],
      "source": [
        "# ML Model - 5 Implementation\n",
        "xgb_model = xgb.XGBClassifier()\n",
        "\n",
        "# Model is trained (fit) and predicted in the evaluate model"
      ]
    },
    {
      "cell_type": "markdown",
      "metadata": {
        "id": "axoYmkZZM-8g"
      },
      "source": [
        "#### 1. Explain the ML Model used and it's performance using Evaluation metric Score Chart."
      ]
    },
    {
      "cell_type": "code",
      "execution_count": 59,
      "metadata": {
        "colab": {
          "base_uri": "https://localhost:8080/"
        },
        "id": "guHO5uEVM-8g",
        "outputId": "d33b3eac-7bcd-43e4-9e90-3f3a9b8d0283"
      },
      "outputs": [
        {
          "name": "stdout",
          "output_type": "stream",
          "text": [
            "\n",
            "Confusion Matrix:\n"
          ]
        },
        {
          "data": {
            "image/png": "[encoded data removed]",
            "text/plain": [
              "<Figure size 1100x400 with 4 Axes>"
            ]
          },
          "metadata": {},
          "output_type": "display_data"
        },
        {
          "name": "stdout",
          "output_type": "stream",
          "text": [
            "\n",
            "Train Classification Report:\n",
            "|              |   precision |   recall |   f1-score |   support |\n",
            "|:-------------|------------:|---------:|-----------:|----------:|\n",
            "| 0            |           1 |        1 |          1 |        33 |\n",
            "| 1            |           1 |        1 |          1 |        36 |\n",
            "| 2            |           1 |        1 |          1 |        36 |\n",
            "| accuracy     |           1 |        1 |          1 |         1 |\n",
            "| macro avg    |           1 |        1 |          1 |       105 |\n",
            "| weighted avg |           1 |        1 |          1 |       105 |\n",
            "\n",
            "Test Classification Report:\n",
            "|              |   precision |   recall |   f1-score |   support |\n",
            "|:-------------|------------:|---------:|-----------:|----------:|\n",
            "| 0            |    1        | 1        |   1        | 17        |\n",
            "| 1            |    0.866667 | 0.928571 |   0.896552 | 14        |\n",
            "| 2            |    0.923077 | 0.857143 |   0.888889 | 14        |\n",
            "| accuracy     |    0.933333 | 0.933333 |   0.933333 |  0.933333 |\n",
            "| macro avg    |    0.929915 | 0.928571 |   0.92848  | 45        |\n",
            "| weighted avg |    0.934587 | 0.933333 |   0.933248 | 45        |\n"
          ]
        }
      ],
      "source": [
        "# Visualizing evaluation Metric Score chart\n",
        "xgb_score = evaluate_model(xgb_model, x_train, x_test, y_train, y_test)"
      ]
    },
    {
      "cell_type": "code",
      "execution_count": 60,
      "metadata": {
        "colab": {
          "base_uri": "https://localhost:8080/"
        },
        "id": "VhxqIfx0M-8h",
        "outputId": "7563b06e-d68b-45cd-8a99-101b42c1abdc"
      },
      "outputs": [
        {
          "data": {
            "text/html": [
              "<div>\n",
              "<style scoped>\n",
              "    .dataframe tbody tr th:only-of-type {\n",
              "        vertical-align: middle;\n",
              "    }\n",
              "\n",
              "    .dataframe tbody tr th {\n",
              "        vertical-align: top;\n",
              "    }\n",
              "\n",
              "    .dataframe thead th {\n",
              "        text-align: right;\n",
              "    }\n",
              "</style>\n",
              "<table border=\"1\" class=\"dataframe\">\n",
              "  <thead>\n",
              "    <tr style=\"text-align: right;\">\n",
              "      <th></th>\n",
              "      <th>Logistic regression</th>\n",
              "      <th>Logistic regression tuned</th>\n",
              "      <th>Decision Tree</th>\n",
              "      <th>Decision Tree tuned</th>\n",
              "      <th>Random Forest</th>\n",
              "      <th>Random Forest tuned</th>\n",
              "      <th>SVM</th>\n",
              "      <th>SVM tuned</th>\n",
              "      <th>XGB</th>\n",
              "    </tr>\n",
              "  </thead>\n",
              "  <tbody>\n",
              "    <tr>\n",
              "      <th>Precision Train</th>\n",
              "      <td>0.981955</td>\n",
              "      <td>0.980952</td>\n",
              "      <td>1.000000</td>\n",
              "      <td>0.973626</td>\n",
              "      <td>1.000000</td>\n",
              "      <td>0.981955</td>\n",
              "      <td>0.990734</td>\n",
              "      <td>0.990734</td>\n",
              "      <td>1.000000</td>\n",
              "    </tr>\n",
              "    <tr>\n",
              "      <th>Precision Test</th>\n",
              "      <td>0.934587</td>\n",
              "      <td>0.955556</td>\n",
              "      <td>0.934587</td>\n",
              "      <td>0.934587</td>\n",
              "      <td>0.934587</td>\n",
              "      <td>0.934587</td>\n",
              "      <td>0.979259</td>\n",
              "      <td>0.979259</td>\n",
              "      <td>0.934587</td>\n",
              "    </tr>\n",
              "    <tr>\n",
              "      <th>Recall Train</th>\n",
              "      <td>0.980952</td>\n",
              "      <td>0.980952</td>\n",
              "      <td>1.000000</td>\n",
              "      <td>0.971429</td>\n",
              "      <td>1.000000</td>\n",
              "      <td>0.980952</td>\n",
              "      <td>0.990476</td>\n",
              "      <td>0.990476</td>\n",
              "      <td>1.000000</td>\n",
              "    </tr>\n",
              "    <tr>\n",
              "      <th>Recall Test</th>\n",
              "      <td>0.933333</td>\n",
              "      <td>0.955556</td>\n",
              "      <td>0.933333</td>\n",
              "      <td>0.933333</td>\n",
              "      <td>0.933333</td>\n",
              "      <td>0.933333</td>\n",
              "      <td>0.977778</td>\n",
              "      <td>0.977778</td>\n",
              "      <td>0.933333</td>\n",
              "    </tr>\n",
              "    <tr>\n",
              "      <th>Accuracy Train</th>\n",
              "      <td>0.980952</td>\n",
              "      <td>0.980952</td>\n",
              "      <td>1.000000</td>\n",
              "      <td>0.971429</td>\n",
              "      <td>1.000000</td>\n",
              "      <td>0.980952</td>\n",
              "      <td>0.990476</td>\n",
              "      <td>0.990476</td>\n",
              "      <td>1.000000</td>\n",
              "    </tr>\n",
              "    <tr>\n",
              "      <th>Accuracy Test</th>\n",
              "      <td>0.933333</td>\n",
              "      <td>0.955556</td>\n",
              "      <td>0.933333</td>\n",
              "      <td>0.933333</td>\n",
              "      <td>0.933333</td>\n",
              "      <td>0.933333</td>\n",
              "      <td>0.977778</td>\n",
              "      <td>0.977778</td>\n",
              "      <td>0.933333</td>\n",
              "    </tr>\n",
              "    <tr>\n",
              "      <th>F1 macro Train</th>\n",
              "      <td>0.980938</td>\n",
              "      <td>0.980952</td>\n",
              "      <td>1.000000</td>\n",
              "      <td>0.971379</td>\n",
              "      <td>1.000000</td>\n",
              "      <td>0.980938</td>\n",
              "      <td>0.990474</td>\n",
              "      <td>0.990474</td>\n",
              "      <td>1.000000</td>\n",
              "    </tr>\n",
              "    <tr>\n",
              "      <th>F1 macro Test</th>\n",
              "      <td>0.933248</td>\n",
              "      <td>0.955556</td>\n",
              "      <td>0.933248</td>\n",
              "      <td>0.933248</td>\n",
              "      <td>0.933248</td>\n",
              "      <td>0.933248</td>\n",
              "      <td>0.977749</td>\n",
              "      <td>0.977749</td>\n",
              "      <td>0.933248</td>\n",
              "    </tr>\n",
              "  </tbody>\n",
              "</table>\n",
              "</div>"
            ],
            "text/plain": [
              "                 Logistic regression  Logistic regression tuned  \\\n",
              "Precision Train             0.981955                   0.980952   \n",
              "Precision Test              0.934587                   0.955556   \n",
              "Recall Train                0.980952                   0.980952   \n",
              "Recall Test                 0.933333                   0.955556   \n",
              "Accuracy Train              0.980952                   0.980952   \n",
              "Accuracy Test               0.933333                   0.955556   \n",
              "F1 macro Train              0.980938                   0.980952   \n",
              "F1 macro Test               0.933248                   0.955556   \n",
              "\n",
              "                 Decision Tree  Decision Tree tuned  Random Forest  \\\n",
              "Precision Train       1.000000             0.973626       1.000000   \n",
              "Precision Test        0.934587             0.934587       0.934587   \n",
              "Recall Train          1.000000             0.971429       1.000000   \n",
              "Recall Test           0.933333             0.933333       0.933333   \n",
              "Accuracy Train        1.000000             0.971429       1.000000   \n",
              "Accuracy Test         0.933333             0.933333       0.933333   \n",
              "F1 macro Train        1.000000             0.971379       1.000000   \n",
              "F1 macro Test         0.933248             0.933248       0.933248   \n",
              "\n",
              "                 Random Forest tuned       SVM  SVM tuned       XGB  \n",
              "Precision Train             0.981955  0.990734   0.990734  1.000000  \n",
              "Precision Test              0.934587  0.979259   0.979259  0.934587  \n",
              "Recall Train                0.980952  0.990476   0.990476  1.000000  \n",
              "Recall Test                 0.933333  0.977778   0.977778  0.933333  \n",
              "Accuracy Train              0.980952  0.990476   0.990476  1.000000  \n",
              "Accuracy Test               0.933333  0.977778   0.977778  0.933333  \n",
              "F1 macro Train              0.980938  0.990474   0.990474  1.000000  \n",
              "F1 macro Test               0.933248  0.977749   0.977749  0.933248  "
            ]
          },
          "execution_count": 60,
          "metadata": {},
          "output_type": "execute_result"
        }
      ],
      "source": [
        "# Updated Evaluation metric Score Chart\n",
        "score[\"XGB\"] = xgb_score\n",
        "score"
      ]
    },
    {
      "cell_type": "markdown",
      "metadata": {
        "id": "YcglZXVVM-8h"
      },
      "source": [
        "#### 2. Cross- Validation & Hyperparameter Tuning"
      ]
    },
    {
      "cell_type": "code",
      "execution_count": 61,
      "metadata": {
        "colab": {
          "base_uri": "https://localhost:8080/"
        },
        "id": "h4epH9LEM-8h",
        "outputId": "8020c46c-901b-4482-f685-2649fe912791"
      },
      "outputs": [
        {
          "name": "stdout",
          "output_type": "stream",
          "text": [
            "Best hyperparameters:  {'n_estimators': np.int64(130), 'max_depth': np.int64(12), 'learning_rate': np.float64(0.09)}\n"
          ]
        }
      ],
      "source": [
        "# ML Model - 5 Implementation with hyperparameter optimization techniques (i.e., GridSearch CV, RandomSearch CV, Bayesian Optimization etc.)\n",
        "# Define the hyperparameter grid\n",
        "param_grid = {\n",
        "    \"learning_rate\": np.arange(0.01, 0.3, 0.01),\n",
        "    \"max_depth\": np.arange(3, 15, 1),\n",
        "    \"n_estimators\": np.arange(100, 200, 10),\n",
        "}\n",
        "\n",
        "# Initialize the model\n",
        "xgb2 = xgb.XGBClassifier(random_state=0)\n",
        "\n",
        "# Repeated stratified kfold\n",
        "rskf = RepeatedStratifiedKFold(n_splits=3, n_repeats=3, random_state=0)\n",
        "\n",
        "# Initialize RandomizedSearchCV\n",
        "random_search = RandomizedSearchCV(xgb2, param_grid, n_iter=10, cv=rskf)\n",
        "\n",
        "# Fit the RandomizedSearchCV to the training data\n",
        "random_search.fit(x_train, y_train)\n",
        "\n",
        "# Select the best hyperparameters\n",
        "best_params = random_search.best_params_\n",
        "print(\"Best hyperparameters: \", best_params)"
      ]
    },
    {
      "cell_type": "code",
      "execution_count": 62,
      "metadata": {
        "id": "EtNHi1dxM-8h"
      },
      "outputs": [],
      "source": [
        "# Initialize model with best parameters\n",
        "xgb_model2 = xgb.XGBClassifier(\n",
        "    learning_rate=best_params[\"learning_rate\"],\n",
        "    max_depth=best_params[\"max_depth\"],\n",
        "    n_estimators=best_params[\"n_estimators\"],\n",
        "    random_state=0,\n",
        ")"
      ]
    },
    {
      "cell_type": "code",
      "execution_count": 63,
      "metadata": {
        "colab": {
          "base_uri": "https://localhost:8080/",
          "height": 789
        },
        "id": "0XR-RyTbM-8i",
        "outputId": "f0e21bd6-81a2-4398-9515-2e48bf647232"
      },
      "outputs": [
        {
          "name": "stdout",
          "output_type": "stream",
          "text": [
            "\n",
            "Confusion Matrix:\n"
          ]
        },
        {
          "data": {
            "image/png": "[encoded data removed]",
            "text/plain": [
              "<Figure size 1100x400 with 4 Axes>"
            ]
          },
          "metadata": {},
          "output_type": "display_data"
        },
        {
          "name": "stdout",
          "output_type": "stream",
          "text": [
            "\n",
            "Train Classification Report:\n",
            "|              |   precision |   recall |   f1-score |   support |\n",
            "|:-------------|------------:|---------:|-----------:|----------:|\n",
            "| 0            |           1 |        1 |          1 |        33 |\n",
            "| 1            |           1 |        1 |          1 |        36 |\n",
            "| 2            |           1 |        1 |          1 |        36 |\n",
            "| accuracy     |           1 |        1 |          1 |         1 |\n",
            "| macro avg    |           1 |        1 |          1 |       105 |\n",
            "| weighted avg |           1 |        1 |          1 |       105 |\n",
            "\n",
            "Test Classification Report:\n",
            "|              |   precision |   recall |   f1-score |   support |\n",
            "|:-------------|------------:|---------:|-----------:|----------:|\n",
            "| 0            |    1        | 1        |   1        | 17        |\n",
            "| 1            |    0.866667 | 0.928571 |   0.896552 | 14        |\n",
            "| 2            |    0.923077 | 0.857143 |   0.888889 | 14        |\n",
            "| accuracy     |    0.933333 | 0.933333 |   0.933333 |  0.933333 |\n",
            "| macro avg    |    0.929915 | 0.928571 |   0.92848  | 45        |\n",
            "| weighted avg |    0.934587 | 0.933333 |   0.933248 | 45        |\n"
          ]
        }
      ],
      "source": [
        "# Visualizing evaluation Metric Score chart\n",
        "xgb2_score = evaluate_model(xgb_model2, x_train, x_test, y_train, y_test)"
      ]
    },
    {
      "cell_type": "code",
      "execution_count": 64,
      "metadata": {
        "id": "szQtnydCM-8i"
      },
      "outputs": [],
      "source": [
        "score[\"XGB tuned\"] = xgb2_score"
      ]
    },
    {
      "cell_type": "code",
      "execution_count": 65,
      "metadata": {
        "colab": {
          "base_uri": "https://localhost:8080/",
          "height": 422
        },
        "id": "aMKspbXUM-8i",
        "outputId": "a9b48f9d-988d-4225-e711-e515b03aa066"
      },
      "outputs": [
        {
          "data": {
            "text/html": [
              "<div>\n",
              "<style scoped>\n",
              "    .dataframe tbody tr th:only-of-type {\n",
              "        vertical-align: middle;\n",
              "    }\n",
              "\n",
              "    .dataframe tbody tr th {\n",
              "        vertical-align: top;\n",
              "    }\n",
              "\n",
              "    .dataframe thead th {\n",
              "        text-align: right;\n",
              "    }\n",
              "</style>\n",
              "<table border=\"1\" class=\"dataframe\">\n",
              "  <thead>\n",
              "    <tr style=\"text-align: right;\">\n",
              "      <th></th>\n",
              "      <th>Logistic regression</th>\n",
              "      <th>Logistic regression tuned</th>\n",
              "      <th>Decision Tree</th>\n",
              "      <th>Decision Tree tuned</th>\n",
              "      <th>Random Forest</th>\n",
              "      <th>Random Forest tuned</th>\n",
              "      <th>SVM</th>\n",
              "      <th>SVM tuned</th>\n",
              "      <th>XGB</th>\n",
              "      <th>XGB tuned</th>\n",
              "    </tr>\n",
              "  </thead>\n",
              "  <tbody>\n",
              "    <tr>\n",
              "      <th>Precision Train</th>\n",
              "      <td>0.981955</td>\n",
              "      <td>0.980952</td>\n",
              "      <td>1.000000</td>\n",
              "      <td>0.973626</td>\n",
              "      <td>1.000000</td>\n",
              "      <td>0.981955</td>\n",
              "      <td>0.990734</td>\n",
              "      <td>0.990734</td>\n",
              "      <td>1.000000</td>\n",
              "      <td>1.000000</td>\n",
              "    </tr>\n",
              "    <tr>\n",
              "      <th>Precision Test</th>\n",
              "      <td>0.934587</td>\n",
              "      <td>0.955556</td>\n",
              "      <td>0.934587</td>\n",
              "      <td>0.934587</td>\n",
              "      <td>0.934587</td>\n",
              "      <td>0.934587</td>\n",
              "      <td>0.979259</td>\n",
              "      <td>0.979259</td>\n",
              "      <td>0.934587</td>\n",
              "      <td>0.934587</td>\n",
              "    </tr>\n",
              "    <tr>\n",
              "      <th>Recall Train</th>\n",
              "      <td>0.980952</td>\n",
              "      <td>0.980952</td>\n",
              "      <td>1.000000</td>\n",
              "      <td>0.971429</td>\n",
              "      <td>1.000000</td>\n",
              "      <td>0.980952</td>\n",
              "      <td>0.990476</td>\n",
              "      <td>0.990476</td>\n",
              "      <td>1.000000</td>\n",
              "      <td>1.000000</td>\n",
              "    </tr>\n",
              "    <tr>\n",
              "      <th>Recall Test</th>\n",
              "      <td>0.933333</td>\n",
              "      <td>0.955556</td>\n",
              "      <td>0.933333</td>\n",
              "      <td>0.933333</td>\n",
              "      <td>0.933333</td>\n",
              "      <td>0.933333</td>\n",
              "      <td>0.977778</td>\n",
              "      <td>0.977778</td>\n",
              "      <td>0.933333</td>\n",
              "      <td>0.933333</td>\n",
              "    </tr>\n",
              "    <tr>\n",
              "      <th>Accuracy Train</th>\n",
              "      <td>0.980952</td>\n",
              "      <td>0.980952</td>\n",
              "      <td>1.000000</td>\n",
              "      <td>0.971429</td>\n",
              "      <td>1.000000</td>\n",
              "      <td>0.980952</td>\n",
              "      <td>0.990476</td>\n",
              "      <td>0.990476</td>\n",
              "      <td>1.000000</td>\n",
              "      <td>1.000000</td>\n",
              "    </tr>\n",
              "    <tr>\n",
              "      <th>Accuracy Test</th>\n",
              "      <td>0.933333</td>\n",
              "      <td>0.955556</td>\n",
              "      <td>0.933333</td>\n",
              "      <td>0.933333</td>\n",
              "      <td>0.933333</td>\n",
              "      <td>0.933333</td>\n",
              "      <td>0.977778</td>\n",
              "      <td>0.977778</td>\n",
              "      <td>0.933333</td>\n",
              "      <td>0.933333</td>\n",
              "    </tr>\n",
              "    <tr>\n",
              "      <th>F1 macro Train</th>\n",
              "      <td>0.980938</td>\n",
              "      <td>0.980952</td>\n",
              "      <td>1.000000</td>\n",
              "      <td>0.971379</td>\n",
              "      <td>1.000000</td>\n",
              "      <td>0.980938</td>\n",
              "      <td>0.990474</td>\n",
              "      <td>0.990474</td>\n",
              "      <td>1.000000</td>\n",
              "      <td>1.000000</td>\n",
              "    </tr>\n",
              "    <tr>\n",
              "      <th>F1 macro Test</th>\n",
              "      <td>0.933248</td>\n",
              "      <td>0.955556</td>\n",
              "      <td>0.933248</td>\n",
              "      <td>0.933248</td>\n",
              "      <td>0.933248</td>\n",
              "      <td>0.933248</td>\n",
              "      <td>0.977749</td>\n",
              "      <td>0.977749</td>\n",
              "      <td>0.933248</td>\n",
              "      <td>0.933248</td>\n",
              "    </tr>\n",
              "  </tbody>\n",
              "</table>\n",
              "</div>"
            ],
            "text/plain": [
              "                 Logistic regression  Logistic regression tuned  \\\n",
              "Precision Train             0.981955                   0.980952   \n",
              "Precision Test              0.934587                   0.955556   \n",
              "Recall Train                0.980952                   0.980952   \n",
              "Recall Test                 0.933333                   0.955556   \n",
              "Accuracy Train              0.980952                   0.980952   \n",
              "Accuracy Test               0.933333                   0.955556   \n",
              "F1 macro Train              0.980938                   0.980952   \n",
              "F1 macro Test               0.933248                   0.955556   \n",
              "\n",
              "                 Decision Tree  Decision Tree tuned  Random Forest  \\\n",
              "Precision Train       1.000000             0.973626       1.000000   \n",
              "Precision Test        0.934587             0.934587       0.934587   \n",
              "Recall Train          1.000000             0.971429       1.000000   \n",
              "Recall Test           0.933333             0.933333       0.933333   \n",
              "Accuracy Train        1.000000             0.971429       1.000000   \n",
              "Accuracy Test         0.933333             0.933333       0.933333   \n",
              "F1 macro Train        1.000000             0.971379       1.000000   \n",
              "F1 macro Test         0.933248             0.933248       0.933248   \n",
              "\n",
              "                 Random Forest tuned       SVM  SVM tuned       XGB  XGB tuned  \n",
              "Precision Train             0.981955  0.990734   0.990734  1.000000   1.000000  \n",
              "Precision Test              0.934587  0.979259   0.979259  0.934587   0.934587  \n",
              "Recall Train                0.980952  0.990476   0.990476  1.000000   1.000000  \n",
              "Recall Test                 0.933333  0.977778   0.977778  0.933333   0.933333  \n",
              "Accuracy Train              0.980952  0.990476   0.990476  1.000000   1.000000  \n",
              "Accuracy Test               0.933333  0.977778   0.977778  0.933333   0.933333  \n",
              "F1 macro Train              0.980938  0.990474   0.990474  1.000000   1.000000  \n",
              "F1 macro Test               0.933248  0.977749   0.977749  0.933248   0.933248  "
            ]
          },
          "execution_count": 65,
          "metadata": {},
          "output_type": "execute_result"
        }
      ],
      "source": [
        "# Updated Evaluation metric Score Chart\n",
        "score"
      ]
    },
    {
      "cell_type": "markdown",
      "metadata": {
        "id": "pVXGvXVb_6FF"
      },
      "source": [
        "### ML Model - 6 : Naive Bayes"
      ]
    },
    {
      "cell_type": "code",
      "execution_count": 66,
      "metadata": {
        "id": "aQ1kznd1_6FF"
      },
      "outputs": [],
      "source": [
        "# ML Model - 6 Implementation\n",
        "nb_model = GaussianNB()\n",
        "\n",
        "# Model is trained (fit) and predicted in the evaluate model"
      ]
    },
    {
      "cell_type": "markdown",
      "metadata": {
        "id": "1R6e5Trb_6FF"
      },
      "source": [
        "#### 1. Explain the ML Model used and it's performance using Evaluation metric Score Chart."
      ]
    },
    {
      "cell_type": "code",
      "execution_count": 67,
      "metadata": {
        "colab": {
          "base_uri": "https://localhost:8080/"
        },
        "id": "A7FEfxhp_6FF",
        "outputId": "7c5ed08f-ef69-400d-b3c8-9934d8b811a5"
      },
      "outputs": [
        {
          "name": "stdout",
          "output_type": "stream",
          "text": [
            "\n",
            "Confusion Matrix:\n"
          ]
        },
        {
          "data": {
            "image/png": "[encoded data removed]",
            "text/plain": [
              "<Figure size 1100x400 with 4 Axes>"
            ]
          },
          "metadata": {},
          "output_type": "display_data"
        },
        {
          "name": "stdout",
          "output_type": "stream",
          "text": [
            "\n",
            "Train Classification Report:\n",
            "|              |   precision |   recall |   f1-score |    support |\n",
            "|:-------------|------------:|---------:|-----------:|-----------:|\n",
            "| 0            |    1        | 1        |   1        |  33        |\n",
            "| 1            |    0.944444 | 0.944444 |   0.944444 |  36        |\n",
            "| 2            |    0.944444 | 0.944444 |   0.944444 |  36        |\n",
            "| accuracy     |    0.961905 | 0.961905 |   0.961905 |   0.961905 |\n",
            "| macro avg    |    0.962963 | 0.962963 |   0.962963 | 105        |\n",
            "| weighted avg |    0.961905 | 0.961905 |   0.961905 | 105        |\n",
            "\n",
            "Test Classification Report:\n",
            "|              |   precision |   recall |   f1-score |   support |\n",
            "|:-------------|------------:|---------:|-----------:|----------:|\n",
            "| 0            |    1        | 1        |   1        | 17        |\n",
            "| 1            |    0.857143 | 0.857143 |   0.857143 | 14        |\n",
            "| 2            |    0.857143 | 0.857143 |   0.857143 | 14        |\n",
            "| accuracy     |    0.911111 | 0.911111 |   0.911111 |  0.911111 |\n",
            "| macro avg    |    0.904762 | 0.904762 |   0.904762 | 45        |\n",
            "| weighted avg |    0.911111 | 0.911111 |   0.911111 | 45        |\n"
          ]
        }
      ],
      "source": [
        "# Visualizing evaluation Metric Score chart\n",
        "nb_score = evaluate_model(nb_model, x_train, x_test, y_train, y_test)"
      ]
    },
    {
      "cell_type": "code",
      "execution_count": 68,
      "metadata": {
        "colab": {
          "base_uri": "https://localhost:8080/"
        },
        "id": "Ck9Gav7DLYre",
        "outputId": "ed619d69-7d3a-498f-a468-7a5bdaf71543"
      },
      "outputs": [
        {
          "data": {
            "text/html": [
              "<div>\n",
              "<style scoped>\n",
              "    .dataframe tbody tr th:only-of-type {\n",
              "        vertical-align: middle;\n",
              "    }\n",
              "\n",
              "    .dataframe tbody tr th {\n",
              "        vertical-align: top;\n",
              "    }\n",
              "\n",
              "    .dataframe thead th {\n",
              "        text-align: right;\n",
              "    }\n",
              "</style>\n",
              "<table border=\"1\" class=\"dataframe\">\n",
              "  <thead>\n",
              "    <tr style=\"text-align: right;\">\n",
              "      <th></th>\n",
              "      <th>Logistic regression</th>\n",
              "      <th>Logistic regression tuned</th>\n",
              "      <th>Decision Tree</th>\n",
              "      <th>Decision Tree tuned</th>\n",
              "      <th>Random Forest</th>\n",
              "      <th>Random Forest tuned</th>\n",
              "      <th>SVM</th>\n",
              "      <th>SVM tuned</th>\n",
              "      <th>XGB</th>\n",
              "      <th>XGB tuned</th>\n",
              "      <th>Naive Bayes</th>\n",
              "    </tr>\n",
              "  </thead>\n",
              "  <tbody>\n",
              "    <tr>\n",
              "      <th>Precision Train</th>\n",
              "      <td>0.981955</td>\n",
              "      <td>0.980952</td>\n",
              "      <td>1.000000</td>\n",
              "      <td>0.973626</td>\n",
              "      <td>1.000000</td>\n",
              "      <td>0.981955</td>\n",
              "      <td>0.990734</td>\n",
              "      <td>0.990734</td>\n",
              "      <td>1.000000</td>\n",
              "      <td>1.000000</td>\n",
              "      <td>0.961905</td>\n",
              "    </tr>\n",
              "    <tr>\n",
              "      <th>Precision Test</th>\n",
              "      <td>0.934587</td>\n",
              "      <td>0.955556</td>\n",
              "      <td>0.934587</td>\n",
              "      <td>0.934587</td>\n",
              "      <td>0.934587</td>\n",
              "      <td>0.934587</td>\n",
              "      <td>0.979259</td>\n",
              "      <td>0.979259</td>\n",
              "      <td>0.934587</td>\n",
              "      <td>0.934587</td>\n",
              "      <td>0.911111</td>\n",
              "    </tr>\n",
              "    <tr>\n",
              "      <th>Recall Train</th>\n",
              "      <td>0.980952</td>\n",
              "      <td>0.980952</td>\n",
              "      <td>1.000000</td>\n",
              "      <td>0.971429</td>\n",
              "      <td>1.000000</td>\n",
              "      <td>0.980952</td>\n",
              "      <td>0.990476</td>\n",
              "      <td>0.990476</td>\n",
              "      <td>1.000000</td>\n",
              "      <td>1.000000</td>\n",
              "      <td>0.961905</td>\n",
              "    </tr>\n",
              "    <tr>\n",
              "      <th>Recall Test</th>\n",
              "      <td>0.933333</td>\n",
              "      <td>0.955556</td>\n",
              "      <td>0.933333</td>\n",
              "      <td>0.933333</td>\n",
              "      <td>0.933333</td>\n",
              "      <td>0.933333</td>\n",
              "      <td>0.977778</td>\n",
              "      <td>0.977778</td>\n",
              "      <td>0.933333</td>\n",
              "      <td>0.933333</td>\n",
              "      <td>0.911111</td>\n",
              "    </tr>\n",
              "    <tr>\n",
              "      <th>Accuracy Train</th>\n",
              "      <td>0.980952</td>\n",
              "      <td>0.980952</td>\n",
              "      <td>1.000000</td>\n",
              "      <td>0.971429</td>\n",
              "      <td>1.000000</td>\n",
              "      <td>0.980952</td>\n",
              "      <td>0.990476</td>\n",
              "      <td>0.990476</td>\n",
              "      <td>1.000000</td>\n",
              "      <td>1.000000</td>\n",
              "      <td>0.961905</td>\n",
              "    </tr>\n",
              "    <tr>\n",
              "      <th>Accuracy Test</th>\n",
              "      <td>0.933333</td>\n",
              "      <td>0.955556</td>\n",
              "      <td>0.933333</td>\n",
              "      <td>0.933333</td>\n",
              "      <td>0.933333</td>\n",
              "      <td>0.933333</td>\n",
              "      <td>0.977778</td>\n",
              "      <td>0.977778</td>\n",
              "      <td>0.933333</td>\n",
              "      <td>0.933333</td>\n",
              "      <td>0.911111</td>\n",
              "    </tr>\n",
              "    <tr>\n",
              "      <th>F1 macro Train</th>\n",
              "      <td>0.980938</td>\n",
              "      <td>0.980952</td>\n",
              "      <td>1.000000</td>\n",
              "      <td>0.971379</td>\n",
              "      <td>1.000000</td>\n",
              "      <td>0.980938</td>\n",
              "      <td>0.990474</td>\n",
              "      <td>0.990474</td>\n",
              "      <td>1.000000</td>\n",
              "      <td>1.000000</td>\n",
              "      <td>0.961905</td>\n",
              "    </tr>\n",
              "    <tr>\n",
              "      <th>F1 macro Test</th>\n",
              "      <td>0.933248</td>\n",
              "      <td>0.955556</td>\n",
              "      <td>0.933248</td>\n",
              "      <td>0.933248</td>\n",
              "      <td>0.933248</td>\n",
              "      <td>0.933248</td>\n",
              "      <td>0.977749</td>\n",
              "      <td>0.977749</td>\n",
              "      <td>0.933248</td>\n",
              "      <td>0.933248</td>\n",
              "      <td>0.911111</td>\n",
              "    </tr>\n",
              "  </tbody>\n",
              "</table>\n",
              "</div>"
            ],
            "text/plain": [
              "                 Logistic regression  Logistic regression tuned  \\\n",
              "Precision Train             0.981955                   0.980952   \n",
              "Precision Test              0.934587                   0.955556   \n",
              "Recall Train                0.980952                   0.980952   \n",
              "Recall Test                 0.933333                   0.955556   \n",
              "Accuracy Train              0.980952                   0.980952   \n",
              "Accuracy Test               0.933333                   0.955556   \n",
              "F1 macro Train              0.980938                   0.980952   \n",
              "F1 macro Test               0.933248                   0.955556   \n",
              "\n",
              "                 Decision Tree  Decision Tree tuned  Random Forest  \\\n",
              "Precision Train       1.000000             0.973626       1.000000   \n",
              "Precision Test        0.934587             0.934587       0.934587   \n",
              "Recall Train          1.000000             0.971429       1.000000   \n",
              "Recall Test           0.933333             0.933333       0.933333   \n",
              "Accuracy Train        1.000000             0.971429       1.000000   \n",
              "Accuracy Test         0.933333             0.933333       0.933333   \n",
              "F1 macro Train        1.000000             0.971379       1.000000   \n",
              "F1 macro Test         0.933248             0.933248       0.933248   \n",
              "\n",
              "                 Random Forest tuned       SVM  SVM tuned       XGB  \\\n",
              "Precision Train             0.981955  0.990734   0.990734  1.000000   \n",
              "Precision Test              0.934587  0.979259   0.979259  0.934587   \n",
              "Recall Train                0.980952  0.990476   0.990476  1.000000   \n",
              "Recall Test                 0.933333  0.977778   0.977778  0.933333   \n",
              "Accuracy Train              0.980952  0.990476   0.990476  1.000000   \n",
              "Accuracy Test               0.933333  0.977778   0.977778  0.933333   \n",
              "F1 macro Train              0.980938  0.990474   0.990474  1.000000   \n",
              "F1 macro Test               0.933248  0.977749   0.977749  0.933248   \n",
              "\n",
              "                 XGB tuned  Naive Bayes  \n",
              "Precision Train   1.000000     0.961905  \n",
              "Precision Test    0.934587     0.911111  \n",
              "Recall Train      1.000000     0.961905  \n",
              "Recall Test       0.933333     0.911111  \n",
              "Accuracy Train    1.000000     0.961905  \n",
              "Accuracy Test     0.933333     0.911111  \n",
              "F1 macro Train    1.000000     0.961905  \n",
              "F1 macro Test     0.933248     0.911111  "
            ]
          },
          "execution_count": 68,
          "metadata": {},
          "output_type": "execute_result"
        }
      ],
      "source": [
        "# Updated Evaluation metric Score Chart\n",
        "score[\"Naive Bayes\"] = nb_score\n",
        "score"
      ]
    },
    {
      "cell_type": "markdown",
      "metadata": {
        "id": "zhaPpYXo_6FF"
      },
      "source": [
        "#### 2. Cross- Validation & Hyperparameter Tuning"
      ]
    },
    {
      "cell_type": "code",
      "execution_count": 69,
      "metadata": {
        "colab": {
          "base_uri": "https://localhost:8080/"
        },
        "id": "VTUMYNH3_6FG",
        "outputId": "0c6961a6-e8cc-40c0-fa62-5e51afd163bd"
      },
      "outputs": [
        {
          "name": "stdout",
          "output_type": "stream",
          "text": [
            "Best hyperparameters:  {'var_smoothing': np.float64(0.012328467394420659)}\n"
          ]
        }
      ],
      "source": [
        "# ML Model - 6 Implementation with hyperparameter optimization techniques (i.e., GridSearch CV, RandomSearch CV, Bayesian Optimization etc.)\n",
        "# Define the hyperparameter grid\n",
        "param_grid = {\"var_smoothing\": np.logspace(0, -9, num=100)}\n",
        "\n",
        "# Initialize the model\n",
        "naive = GaussianNB()\n",
        "\n",
        "# repeated stratified kfold\n",
        "rskf = RepeatedStratifiedKFold(n_splits=4, n_repeats=4, random_state=0)\n",
        "\n",
        "# Initialize GridSearchCV\n",
        "GridSearch = GridSearchCV(naive, param_grid, cv=rskf, n_jobs=-1)\n",
        "\n",
        "# Fit the GridSearchCV to the training data\n",
        "GridSearch.fit(x_train, y_train)\n",
        "\n",
        "# Select the best hyperparameters\n",
        "best_params = GridSearch.best_params_\n",
        "print(\"Best hyperparameters: \", best_params)"
      ]
    },
    {
      "cell_type": "code",
      "execution_count": 70,
      "metadata": {
        "id": "A0qQ_EXBMKi6"
      },
      "outputs": [],
      "source": [
        "# Initiate model with best parameters\n",
        "nb_model2 = GaussianNB(var_smoothing=best_params[\"var_smoothing\"])"
      ]
    },
    {
      "cell_type": "code",
      "execution_count": 71,
      "metadata": {
        "colab": {
          "base_uri": "https://localhost:8080/",
          "height": 789
        },
        "id": "2hSfSTH8Mnb-",
        "outputId": "9b325178-a7f9-4b3c-a1c8-4aea75143ab4"
      },
      "outputs": [
        {
          "name": "stdout",
          "output_type": "stream",
          "text": [
            "\n",
            "Confusion Matrix:\n"
          ]
        },
        {
          "data": {
            "image/png": "[encoded data removed]",
            "text/plain": [
              "<Figure size 1100x400 with 4 Axes>"
            ]
          },
          "metadata": {},
          "output_type": "display_data"
        },
        {
          "name": "stdout",
          "output_type": "stream",
          "text": [
            "\n",
            "Train Classification Report:\n",
            "|              |   precision |   recall |   f1-score |    support |\n",
            "|:-------------|------------:|---------:|-----------:|-----------:|\n",
            "| 0            |    1        | 1        |   1        |  33        |\n",
            "| 1            |    0.972222 | 0.972222 |   0.972222 |  36        |\n",
            "| 2            |    0.972222 | 0.972222 |   0.972222 |  36        |\n",
            "| accuracy     |    0.980952 | 0.980952 |   0.980952 |   0.980952 |\n",
            "| macro avg    |    0.981481 | 0.981481 |   0.981481 | 105        |\n",
            "| weighted avg |    0.980952 | 0.980952 |   0.980952 | 105        |\n",
            "\n",
            "Test Classification Report:\n",
            "|              |   precision |   recall |   f1-score |   support |\n",
            "|:-------------|------------:|---------:|-----------:|----------:|\n",
            "| 0            |    1        | 1        |   1        | 17        |\n",
            "| 1            |    0.857143 | 0.857143 |   0.857143 | 14        |\n",
            "| 2            |    0.857143 | 0.857143 |   0.857143 | 14        |\n",
            "| accuracy     |    0.911111 | 0.911111 |   0.911111 |  0.911111 |\n",
            "| macro avg    |    0.904762 | 0.904762 |   0.904762 | 45        |\n",
            "| weighted avg |    0.911111 | 0.911111 |   0.911111 | 45        |\n"
          ]
        }
      ],
      "source": [
        "# Visualizing evaluation Metric Score chart\n",
        "nb2_score = evaluate_model(nb_model2, x_train, x_test, y_train, y_test)"
      ]
    },
    {
      "cell_type": "code",
      "execution_count": 72,
      "metadata": {
        "id": "Ns2M_He3MtzO"
      },
      "outputs": [],
      "source": [
        "score[\"Naive Bayes tuned\"] = nb2_score"
      ]
    },
    {
      "cell_type": "code",
      "execution_count": 73,
      "metadata": {
        "colab": {
          "base_uri": "https://localhost:8080/",
          "height": 456
        },
        "id": "nZaUzFFkM2AO",
        "outputId": "5d048eb0-5588-4b9f-f6d6-cdd77bb472bd"
      },
      "outputs": [
        {
          "data": {
            "text/html": [
              "<div>\n",
              "<style scoped>\n",
              "    .dataframe tbody tr th:only-of-type {\n",
              "        vertical-align: middle;\n",
              "    }\n",
              "\n",
              "    .dataframe tbody tr th {\n",
              "        vertical-align: top;\n",
              "    }\n",
              "\n",
              "    .dataframe thead th {\n",
              "        text-align: right;\n",
              "    }\n",
              "</style>\n",
              "<table border=\"1\" class=\"dataframe\">\n",
              "  <thead>\n",
              "    <tr style=\"text-align: right;\">\n",
              "      <th></th>\n",
              "      <th>Logistic regression</th>\n",
              "      <th>Logistic regression tuned</th>\n",
              "      <th>Decision Tree</th>\n",
              "      <th>Decision Tree tuned</th>\n",
              "      <th>Random Forest</th>\n",
              "      <th>Random Forest tuned</th>\n",
              "      <th>SVM</th>\n",
              "      <th>SVM tuned</th>\n",
              "      <th>XGB</th>\n",
              "      <th>XGB tuned</th>\n",
              "      <th>Naive Bayes</th>\n",
              "      <th>Naive Bayes tuned</th>\n",
              "    </tr>\n",
              "  </thead>\n",
              "  <tbody>\n",
              "    <tr>\n",
              "      <th>Precision Train</th>\n",
              "      <td>0.981955</td>\n",
              "      <td>0.980952</td>\n",
              "      <td>1.000000</td>\n",
              "      <td>0.973626</td>\n",
              "      <td>1.000000</td>\n",
              "      <td>0.981955</td>\n",
              "      <td>0.990734</td>\n",
              "      <td>0.990734</td>\n",
              "      <td>1.000000</td>\n",
              "      <td>1.000000</td>\n",
              "      <td>0.961905</td>\n",
              "      <td>0.980952</td>\n",
              "    </tr>\n",
              "    <tr>\n",
              "      <th>Precision Test</th>\n",
              "      <td>0.934587</td>\n",
              "      <td>0.955556</td>\n",
              "      <td>0.934587</td>\n",
              "      <td>0.934587</td>\n",
              "      <td>0.934587</td>\n",
              "      <td>0.934587</td>\n",
              "      <td>0.979259</td>\n",
              "      <td>0.979259</td>\n",
              "      <td>0.934587</td>\n",
              "      <td>0.934587</td>\n",
              "      <td>0.911111</td>\n",
              "      <td>0.911111</td>\n",
              "    </tr>\n",
              "    <tr>\n",
              "      <th>Recall Train</th>\n",
              "      <td>0.980952</td>\n",
              "      <td>0.980952</td>\n",
              "      <td>1.000000</td>\n",
              "      <td>0.971429</td>\n",
              "      <td>1.000000</td>\n",
              "      <td>0.980952</td>\n",
              "      <td>0.990476</td>\n",
              "      <td>0.990476</td>\n",
              "      <td>1.000000</td>\n",
              "      <td>1.000000</td>\n",
              "      <td>0.961905</td>\n",
              "      <td>0.980952</td>\n",
              "    </tr>\n",
              "    <tr>\n",
              "      <th>Recall Test</th>\n",
              "      <td>0.933333</td>\n",
              "      <td>0.955556</td>\n",
              "      <td>0.933333</td>\n",
              "      <td>0.933333</td>\n",
              "      <td>0.933333</td>\n",
              "      <td>0.933333</td>\n",
              "      <td>0.977778</td>\n",
              "      <td>0.977778</td>\n",
              "      <td>0.933333</td>\n",
              "      <td>0.933333</td>\n",
              "      <td>0.911111</td>\n",
              "      <td>0.911111</td>\n",
              "    </tr>\n",
              "    <tr>\n",
              "      <th>Accuracy Train</th>\n",
              "      <td>0.980952</td>\n",
              "      <td>0.980952</td>\n",
              "      <td>1.000000</td>\n",
              "      <td>0.971429</td>\n",
              "      <td>1.000000</td>\n",
              "      <td>0.980952</td>\n",
              "      <td>0.990476</td>\n",
              "      <td>0.990476</td>\n",
              "      <td>1.000000</td>\n",
              "      <td>1.000000</td>\n",
              "      <td>0.961905</td>\n",
              "      <td>0.980952</td>\n",
              "    </tr>\n",
              "    <tr>\n",
              "      <th>Accuracy Test</th>\n",
              "      <td>0.933333</td>\n",
              "      <td>0.955556</td>\n",
              "      <td>0.933333</td>\n",
              "      <td>0.933333</td>\n",
              "      <td>0.933333</td>\n",
              "      <td>0.933333</td>\n",
              "      <td>0.977778</td>\n",
              "      <td>0.977778</td>\n",
              "      <td>0.933333</td>\n",
              "      <td>0.933333</td>\n",
              "      <td>0.911111</td>\n",
              "      <td>0.911111</td>\n",
              "    </tr>\n",
              "    <tr>\n",
              "      <th>F1 macro Train</th>\n",
              "      <td>0.980938</td>\n",
              "      <td>0.980952</td>\n",
              "      <td>1.000000</td>\n",
              "      <td>0.971379</td>\n",
              "      <td>1.000000</td>\n",
              "      <td>0.980938</td>\n",
              "      <td>0.990474</td>\n",
              "      <td>0.990474</td>\n",
              "      <td>1.000000</td>\n",
              "      <td>1.000000</td>\n",
              "      <td>0.961905</td>\n",
              "      <td>0.980952</td>\n",
              "    </tr>\n",
              "    <tr>\n",
              "      <th>F1 macro Test</th>\n",
              "      <td>0.933248</td>\n",
              "      <td>0.955556</td>\n",
              "      <td>0.933248</td>\n",
              "      <td>0.933248</td>\n",
              "      <td>0.933248</td>\n",
              "      <td>0.933248</td>\n",
              "      <td>0.977749</td>\n",
              "      <td>0.977749</td>\n",
              "      <td>0.933248</td>\n",
              "      <td>0.933248</td>\n",
              "      <td>0.911111</td>\n",
              "      <td>0.911111</td>\n",
              "    </tr>\n",
              "  </tbody>\n",
              "</table>\n",
              "</div>"
            ],
            "text/plain": [
              "                 Logistic regression  Logistic regression tuned  \\\n",
              "Precision Train             0.981955                   0.980952   \n",
              "Precision Test              0.934587                   0.955556   \n",
              "Recall Train                0.980952                   0.980952   \n",
              "Recall Test                 0.933333                   0.955556   \n",
              "Accuracy Train              0.980952                   0.980952   \n",
              "Accuracy Test               0.933333                   0.955556   \n",
              "F1 macro Train              0.980938                   0.980952   \n",
              "F1 macro Test               0.933248                   0.955556   \n",
              "\n",
              "                 Decision Tree  Decision Tree tuned  Random Forest  \\\n",
              "Precision Train       1.000000             0.973626       1.000000   \n",
              "Precision Test        0.934587             0.934587       0.934587   \n",
              "Recall Train          1.000000             0.971429       1.000000   \n",
              "Recall Test           0.933333             0.933333       0.933333   \n",
              "Accuracy Train        1.000000             0.971429       1.000000   \n",
              "Accuracy Test         0.933333             0.933333       0.933333   \n",
              "F1 macro Train        1.000000             0.971379       1.000000   \n",
              "F1 macro Test         0.933248             0.933248       0.933248   \n",
              "\n",
              "                 Random Forest tuned       SVM  SVM tuned       XGB  \\\n",
              "Precision Train             0.981955  0.990734   0.990734  1.000000   \n",
              "Precision Test              0.934587  0.979259   0.979259  0.934587   \n",
              "Recall Train                0.980952  0.990476   0.990476  1.000000   \n",
              "Recall Test                 0.933333  0.977778   0.977778  0.933333   \n",
              "Accuracy Train              0.980952  0.990476   0.990476  1.000000   \n",
              "Accuracy Test               0.933333  0.977778   0.977778  0.933333   \n",
              "F1 macro Train              0.980938  0.990474   0.990474  1.000000   \n",
              "F1 macro Test               0.933248  0.977749   0.977749  0.933248   \n",
              "\n",
              "                 XGB tuned  Naive Bayes  Naive Bayes tuned  \n",
              "Precision Train   1.000000     0.961905           0.980952  \n",
              "Precision Test    0.934587     0.911111           0.911111  \n",
              "Recall Train      1.000000     0.961905           0.980952  \n",
              "Recall Test       0.933333     0.911111           0.911111  \n",
              "Accuracy Train    1.000000     0.961905           0.980952  \n",
              "Accuracy Test     0.933333     0.911111           0.911111  \n",
              "F1 macro Train    1.000000     0.961905           0.980952  \n",
              "F1 macro Test     0.933248     0.911111           0.911111  "
            ]
          },
          "execution_count": 73,
          "metadata": {},
          "output_type": "execute_result"
        }
      ],
      "source": [
        "# Updated Evaluation metric Score Chart\n",
        "score"
      ]
    },
    {
      "cell_type": "markdown",
      "metadata": {
        "id": "1NNpISRdaSng"
      },
      "source": [
        "### ML Model - 7 : Neural Network"
      ]
    },
    {
      "cell_type": "code",
      "execution_count": 74,
      "metadata": {
        "id": "zmPQ4B8CaSng"
      },
      "outputs": [],
      "source": [
        "# ML Model - 7 Implementation\n",
        "nn_model = MLPClassifier(random_state=0)\n",
        "\n",
        "# Model is trained (fit) and predicted in the evaluate model"
      ]
    },
    {
      "cell_type": "markdown",
      "metadata": {
        "id": "6IvVWbfDaSnh"
      },
      "source": [
        "#### 1. Explain the ML Model used and it's performance using Evaluation metric Score Chart."
      ]
    },
    {
      "cell_type": "code",
      "execution_count": 75,
      "metadata": {
        "colab": {
          "base_uri": "https://localhost:8080/"
        },
        "id": "r_he51ZUaSnh",
        "outputId": "a8f92095-f52b-426f-c9c0-0ee1b0c19b97"
      },
      "outputs": [
        {
          "name": "stdout",
          "output_type": "stream",
          "text": [
            "\n",
            "Confusion Matrix:\n"
          ]
        },
        {
          "data": {
            "image/png": "[encoded data removed]",
            "text/plain": [
              "<Figure size 1100x400 with 4 Axes>"
            ]
          },
          "metadata": {},
          "output_type": "display_data"
        },
        {
          "name": "stdout",
          "output_type": "stream",
          "text": [
            "\n",
            "Train Classification Report:\n",
            "|              |   precision |   recall |   f1-score |    support |\n",
            "|:-------------|------------:|---------:|-----------:|-----------:|\n",
            "| 0            |    1        | 1        |   1        |  33        |\n",
            "| 1            |    1        | 0.944444 |   0.971429 |  36        |\n",
            "| 2            |    0.947368 | 1        |   0.972973 |  36        |\n",
            "| accuracy     |    0.980952 | 0.980952 |   0.980952 |   0.980952 |\n",
            "| macro avg    |    0.982456 | 0.981481 |   0.981467 | 105        |\n",
            "| weighted avg |    0.981955 | 0.980952 |   0.980938 | 105        |\n",
            "\n",
            "Test Classification Report:\n",
            "|              |   precision |   recall |   f1-score |   support |\n",
            "|:-------------|------------:|---------:|-----------:|----------:|\n",
            "| 0            |    1        | 1        |   1        | 17        |\n",
            "| 1            |    1        | 0.928571 |   0.962963 | 14        |\n",
            "| 2            |    0.933333 | 1        |   0.965517 | 14        |\n",
            "| accuracy     |    0.977778 | 0.977778 |   0.977778 |  0.977778 |\n",
            "| macro avg    |    0.977778 | 0.97619  |   0.97616  | 45        |\n",
            "| weighted avg |    0.979259 | 0.977778 |   0.977749 | 45        |\n"
          ]
        }
      ],
      "source": [
        "# Visualizing evaluation Metric Score chart\n",
        "neural_score = evaluate_model(nn_model, x_train, x_test, y_train, y_test)"
      ]
    },
    {
      "cell_type": "code",
      "execution_count": 76,
      "metadata": {
        "colab": {
          "base_uri": "https://localhost:8080/"
        },
        "id": "tULE2aTOaSnh",
        "outputId": "c896e414-5889-4ba4-8ff8-e1f52452be74"
      },
      "outputs": [
        {
          "data": {
            "text/html": [
              "<div>\n",
              "<style scoped>\n",
              "    .dataframe tbody tr th:only-of-type {\n",
              "        vertical-align: middle;\n",
              "    }\n",
              "\n",
              "    .dataframe tbody tr th {\n",
              "        vertical-align: top;\n",
              "    }\n",
              "\n",
              "    .dataframe thead th {\n",
              "        text-align: right;\n",
              "    }\n",
              "</style>\n",
              "<table border=\"1\" class=\"dataframe\">\n",
              "  <thead>\n",
              "    <tr style=\"text-align: right;\">\n",
              "      <th></th>\n",
              "      <th>Logistic regression</th>\n",
              "      <th>Logistic regression tuned</th>\n",
              "      <th>Decision Tree</th>\n",
              "      <th>Decision Tree tuned</th>\n",
              "      <th>Random Forest</th>\n",
              "      <th>Random Forest tuned</th>\n",
              "      <th>SVM</th>\n",
              "      <th>SVM tuned</th>\n",
              "      <th>XGB</th>\n",
              "      <th>XGB tuned</th>\n",
              "      <th>Naive Bayes</th>\n",
              "      <th>Naive Bayes tuned</th>\n",
              "      <th>Neural Network</th>\n",
              "    </tr>\n",
              "  </thead>\n",
              "  <tbody>\n",
              "    <tr>\n",
              "      <th>Precision Train</th>\n",
              "      <td>0.981955</td>\n",
              "      <td>0.980952</td>\n",
              "      <td>1.000000</td>\n",
              "      <td>0.973626</td>\n",
              "      <td>1.000000</td>\n",
              "      <td>0.981955</td>\n",
              "      <td>0.990734</td>\n",
              "      <td>0.990734</td>\n",
              "      <td>1.000000</td>\n",
              "      <td>1.000000</td>\n",
              "      <td>0.961905</td>\n",
              "      <td>0.980952</td>\n",
              "      <td>0.981955</td>\n",
              "    </tr>\n",
              "    <tr>\n",
              "      <th>Precision Test</th>\n",
              "      <td>0.934587</td>\n",
              "      <td>0.955556</td>\n",
              "      <td>0.934587</td>\n",
              "      <td>0.934587</td>\n",
              "      <td>0.934587</td>\n",
              "      <td>0.934587</td>\n",
              "      <td>0.979259</td>\n",
              "      <td>0.979259</td>\n",
              "      <td>0.934587</td>\n",
              "      <td>0.934587</td>\n",
              "      <td>0.911111</td>\n",
              "      <td>0.911111</td>\n",
              "      <td>0.979259</td>\n",
              "    </tr>\n",
              "    <tr>\n",
              "      <th>Recall Train</th>\n",
              "      <td>0.980952</td>\n",
              "      <td>0.980952</td>\n",
              "      <td>1.000000</td>\n",
              "      <td>0.971429</td>\n",
              "      <td>1.000000</td>\n",
              "      <td>0.980952</td>\n",
              "      <td>0.990476</td>\n",
              "      <td>0.990476</td>\n",
              "      <td>1.000000</td>\n",
              "      <td>1.000000</td>\n",
              "      <td>0.961905</td>\n",
              "      <td>0.980952</td>\n",
              "      <td>0.980952</td>\n",
              "    </tr>\n",
              "    <tr>\n",
              "      <th>Recall Test</th>\n",
              "      <td>0.933333</td>\n",
              "      <td>0.955556</td>\n",
              "      <td>0.933333</td>\n",
              "      <td>0.933333</td>\n",
              "      <td>0.933333</td>\n",
              "      <td>0.933333</td>\n",
              "      <td>0.977778</td>\n",
              "      <td>0.977778</td>\n",
              "      <td>0.933333</td>\n",
              "      <td>0.933333</td>\n",
              "      <td>0.911111</td>\n",
              "      <td>0.911111</td>\n",
              "      <td>0.977778</td>\n",
              "    </tr>\n",
              "    <tr>\n",
              "      <th>Accuracy Train</th>\n",
              "      <td>0.980952</td>\n",
              "      <td>0.980952</td>\n",
              "      <td>1.000000</td>\n",
              "      <td>0.971429</td>\n",
              "      <td>1.000000</td>\n",
              "      <td>0.980952</td>\n",
              "      <td>0.990476</td>\n",
              "      <td>0.990476</td>\n",
              "      <td>1.000000</td>\n",
              "      <td>1.000000</td>\n",
              "      <td>0.961905</td>\n",
              "      <td>0.980952</td>\n",
              "      <td>0.980952</td>\n",
              "    </tr>\n",
              "    <tr>\n",
              "      <th>Accuracy Test</th>\n",
              "      <td>0.933333</td>\n",
              "      <td>0.955556</td>\n",
              "      <td>0.933333</td>\n",
              "      <td>0.933333</td>\n",
              "      <td>0.933333</td>\n",
              "      <td>0.933333</td>\n",
              "      <td>0.977778</td>\n",
              "      <td>0.977778</td>\n",
              "      <td>0.933333</td>\n",
              "      <td>0.933333</td>\n",
              "      <td>0.911111</td>\n",
              "      <td>0.911111</td>\n",
              "      <td>0.977778</td>\n",
              "    </tr>\n",
              "    <tr>\n",
              "      <th>F1 macro Train</th>\n",
              "      <td>0.980938</td>\n",
              "      <td>0.980952</td>\n",
              "      <td>1.000000</td>\n",
              "      <td>0.971379</td>\n",
              "      <td>1.000000</td>\n",
              "      <td>0.980938</td>\n",
              "      <td>0.990474</td>\n",
              "      <td>0.990474</td>\n",
              "      <td>1.000000</td>\n",
              "      <td>1.000000</td>\n",
              "      <td>0.961905</td>\n",
              "      <td>0.980952</td>\n",
              "      <td>0.980938</td>\n",
              "    </tr>\n",
              "    <tr>\n",
              "      <th>F1 macro Test</th>\n",
              "      <td>0.933248</td>\n",
              "      <td>0.955556</td>\n",
              "      <td>0.933248</td>\n",
              "      <td>0.933248</td>\n",
              "      <td>0.933248</td>\n",
              "      <td>0.933248</td>\n",
              "      <td>0.977749</td>\n",
              "      <td>0.977749</td>\n",
              "      <td>0.933248</td>\n",
              "      <td>0.933248</td>\n",
              "      <td>0.911111</td>\n",
              "      <td>0.911111</td>\n",
              "      <td>0.977749</td>\n",
              "    </tr>\n",
              "  </tbody>\n",
              "</table>\n",
              "</div>"
            ],
            "text/plain": [
              "                 Logistic regression  Logistic regression tuned  \\\n",
              "Precision Train             0.981955                   0.980952   \n",
              "Precision Test              0.934587                   0.955556   \n",
              "Recall Train                0.980952                   0.980952   \n",
              "Recall Test                 0.933333                   0.955556   \n",
              "Accuracy Train              0.980952                   0.980952   \n",
              "Accuracy Test               0.933333                   0.955556   \n",
              "F1 macro Train              0.980938                   0.980952   \n",
              "F1 macro Test               0.933248                   0.955556   \n",
              "\n",
              "                 Decision Tree  Decision Tree tuned  Random Forest  \\\n",
              "Precision Train       1.000000             0.973626       1.000000   \n",
              "Precision Test        0.934587             0.934587       0.934587   \n",
              "Recall Train          1.000000             0.971429       1.000000   \n",
              "Recall Test           0.933333             0.933333       0.933333   \n",
              "Accuracy Train        1.000000             0.971429       1.000000   \n",
              "Accuracy Test         0.933333             0.933333       0.933333   \n",
              "F1 macro Train        1.000000             0.971379       1.000000   \n",
              "F1 macro Test         0.933248             0.933248       0.933248   \n",
              "\n",
              "                 Random Forest tuned       SVM  SVM tuned       XGB  \\\n",
              "Precision Train             0.981955  0.990734   0.990734  1.000000   \n",
              "Precision Test              0.934587  0.979259   0.979259  0.934587   \n",
              "Recall Train                0.980952  0.990476   0.990476  1.000000   \n",
              "Recall Test                 0.933333  0.977778   0.977778  0.933333   \n",
              "Accuracy Train              0.980952  0.990476   0.990476  1.000000   \n",
              "Accuracy Test               0.933333  0.977778   0.977778  0.933333   \n",
              "F1 macro Train              0.980938  0.990474   0.990474  1.000000   \n",
              "F1 macro Test               0.933248  0.977749   0.977749  0.933248   \n",
              "\n",
              "                 XGB tuned  Naive Bayes  Naive Bayes tuned  Neural Network  \n",
              "Precision Train   1.000000     0.961905           0.980952        0.981955  \n",
              "Precision Test    0.934587     0.911111           0.911111        0.979259  \n",
              "Recall Train      1.000000     0.961905           0.980952        0.980952  \n",
              "Recall Test       0.933333     0.911111           0.911111        0.977778  \n",
              "Accuracy Train    1.000000     0.961905           0.980952        0.980952  \n",
              "Accuracy Test     0.933333     0.911111           0.911111        0.977778  \n",
              "F1 macro Train    1.000000     0.961905           0.980952        0.980938  \n",
              "F1 macro Test     0.933248     0.911111           0.911111        0.977749  "
            ]
          },
          "execution_count": 76,
          "metadata": {},
          "output_type": "execute_result"
        }
      ],
      "source": [
        "# Updated Evaluation metric Score Chart\n",
        "score[\"Neural Network\"] = neural_score\n",
        "score"
      ]
    },
    {
      "cell_type": "markdown",
      "metadata": {
        "id": "0bSwMgKcaSnh"
      },
      "source": [
        "#### 2. Cross- Validation & Hyperparameter Tuning"
      ]
    },
    {
      "cell_type": "code",
      "execution_count": 77,
      "metadata": {
        "colab": {
          "base_uri": "https://localhost:8080/"
        },
        "id": "ffpQHwZaaSni",
        "outputId": "5ddbba47-0b4c-42a8-d9e6-87e88c684960"
      },
      "outputs": [
        {
          "name": "stdout",
          "output_type": "stream",
          "text": [
            "Best hyperparameters:  {'hidden_layer_sizes': np.int64(60), 'alpha': np.float64(0.0014000000000000002)}\n"
          ]
        }
      ],
      "source": [
        "# ML Model - 7 Implementation with hyperparameter optimization techniques (i.e., GridSearch CV, RandomSearch CV, Bayesian Optimization etc.)\n",
        "# Define the hyperparameter grid\n",
        "param_grid = {\n",
        "    \"hidden_layer_sizes\": np.arange(10, 100, 10),\n",
        "    \"alpha\": np.arange(0.0001, 0.01, 0.0001),\n",
        "}\n",
        "\n",
        "# Initialize the model\n",
        "neural = MLPClassifier(random_state=0)\n",
        "\n",
        "# Repeated stratified kfold\n",
        "rskf = RepeatedStratifiedKFold(n_splits=3, n_repeats=3, random_state=0)\n",
        "\n",
        "# Initialize RandomizedSearchCV\n",
        "random_search = RandomizedSearchCV(neural, param_grid, n_iter=10, cv=rskf, n_jobs=-1)\n",
        "\n",
        "# Fit the RandomizedSearchCV to the training data\n",
        "random_search.fit(x_train, y_train)\n",
        "\n",
        "# Select the best hyperparameters\n",
        "best_params = random_search.best_params_\n",
        "print(\"Best hyperparameters: \", best_params)"
      ]
    },
    {
      "cell_type": "code",
      "execution_count": 78,
      "metadata": {
        "id": "9MhZA1MeaSni"
      },
      "outputs": [],
      "source": [
        "# Initiate model with best parameters\n",
        "nn_model2 = MLPClassifier(\n",
        "    hidden_layer_sizes=best_params[\"hidden_layer_sizes\"],\n",
        "    alpha=best_params[\"alpha\"],\n",
        "    random_state=0,\n",
        ")"
      ]
    },
    {
      "cell_type": "code",
      "execution_count": 79,
      "metadata": {
        "colab": {
          "base_uri": "https://localhost:8080/",
          "height": 789
        },
        "id": "GnbfV8jjaSni",
        "outputId": "8612e286-e740-4d7b-98f8-1f7143ea41e7"
      },
      "outputs": [
        {
          "name": "stdout",
          "output_type": "stream",
          "text": [
            "\n",
            "Confusion Matrix:\n"
          ]
        },
        {
          "data": {
            "image/png": "[encoded data removed]",
            "text/plain": [
              "<Figure size 1100x400 with 4 Axes>"
            ]
          },
          "metadata": {},
          "output_type": "display_data"
        },
        {
          "name": "stdout",
          "output_type": "stream",
          "text": [
            "\n",
            "Train Classification Report:\n",
            "|              |   precision |   recall |   f1-score |    support |\n",
            "|:-------------|------------:|---------:|-----------:|-----------:|\n",
            "| 0            |    1        | 1        |   1        |  33        |\n",
            "| 1            |    1        | 0.972222 |   0.985915 |  36        |\n",
            "| 2            |    0.972973 | 1        |   0.986301 |  36        |\n",
            "| accuracy     |    0.990476 | 0.990476 |   0.990476 |   0.990476 |\n",
            "| macro avg    |    0.990991 | 0.990741 |   0.990739 | 105        |\n",
            "| weighted avg |    0.990734 | 0.990476 |   0.990474 | 105        |\n",
            "\n",
            "Test Classification Report:\n",
            "|              |   precision |   recall |   f1-score |   support |\n",
            "|:-------------|------------:|---------:|-----------:|----------:|\n",
            "| 0            |    1        | 1        |   1        | 17        |\n",
            "| 1            |    1        | 0.785714 |   0.88     | 14        |\n",
            "| 2            |    0.823529 | 1        |   0.903226 | 14        |\n",
            "| accuracy     |    0.933333 | 0.933333 |   0.933333 |  0.933333 |\n",
            "| macro avg    |    0.941176 | 0.928571 |   0.927742 | 45        |\n",
            "| weighted avg |    0.945098 | 0.933333 |   0.932559 | 45        |\n"
          ]
        }
      ],
      "source": [
        "# Visualizing evaluation Metric Score chart\n",
        "neural2_score = evaluate_model(nn_model2, x_train, x_test, y_train, y_test)"
      ]
    },
    {
      "cell_type": "code",
      "execution_count": 80,
      "metadata": {
        "id": "aek02QwVaSni"
      },
      "outputs": [],
      "source": [
        "score[\"Neural Network tuned\"] = neural2_score"
      ]
    },
    {
      "cell_type": "code",
      "execution_count": 81,
      "metadata": {
        "colab": {
          "base_uri": "https://localhost:8080/",
          "height": 474
        },
        "id": "q0aoe5RmaSnj",
        "outputId": "29135d82-af46-4906-f18d-538b86cf46eb"
      },
      "outputs": [
        {
          "data": {
            "text/html": [
              "<div>\n",
              "<style scoped>\n",
              "    .dataframe tbody tr th:only-of-type {\n",
              "        vertical-align: middle;\n",
              "    }\n",
              "\n",
              "    .dataframe tbody tr th {\n",
              "        vertical-align: top;\n",
              "    }\n",
              "\n",
              "    .dataframe thead th {\n",
              "        text-align: right;\n",
              "    }\n",
              "</style>\n",
              "<table border=\"1\" class=\"dataframe\">\n",
              "  <thead>\n",
              "    <tr style=\"text-align: right;\">\n",
              "      <th></th>\n",
              "      <th>Logistic regression</th>\n",
              "      <th>Logistic regression tuned</th>\n",
              "      <th>Decision Tree</th>\n",
              "      <th>Decision Tree tuned</th>\n",
              "      <th>Random Forest</th>\n",
              "      <th>Random Forest tuned</th>\n",
              "      <th>SVM</th>\n",
              "      <th>SVM tuned</th>\n",
              "      <th>XGB</th>\n",
              "      <th>XGB tuned</th>\n",
              "      <th>Naive Bayes</th>\n",
              "      <th>Naive Bayes tuned</th>\n",
              "      <th>Neural Network</th>\n",
              "      <th>Neural Network tuned</th>\n",
              "    </tr>\n",
              "  </thead>\n",
              "  <tbody>\n",
              "    <tr>\n",
              "      <th>Precision Train</th>\n",
              "      <td>0.981955</td>\n",
              "      <td>0.980952</td>\n",
              "      <td>1.000000</td>\n",
              "      <td>0.973626</td>\n",
              "      <td>1.000000</td>\n",
              "      <td>0.981955</td>\n",
              "      <td>0.990734</td>\n",
              "      <td>0.990734</td>\n",
              "      <td>1.000000</td>\n",
              "      <td>1.000000</td>\n",
              "      <td>0.961905</td>\n",
              "      <td>0.980952</td>\n",
              "      <td>0.981955</td>\n",
              "      <td>0.990734</td>\n",
              "    </tr>\n",
              "    <tr>\n",
              "      <th>Precision Test</th>\n",
              "      <td>0.934587</td>\n",
              "      <td>0.955556</td>\n",
              "      <td>0.934587</td>\n",
              "      <td>0.934587</td>\n",
              "      <td>0.934587</td>\n",
              "      <td>0.934587</td>\n",
              "      <td>0.979259</td>\n",
              "      <td>0.979259</td>\n",
              "      <td>0.934587</td>\n",
              "      <td>0.934587</td>\n",
              "      <td>0.911111</td>\n",
              "      <td>0.911111</td>\n",
              "      <td>0.979259</td>\n",
              "      <td>0.945098</td>\n",
              "    </tr>\n",
              "    <tr>\n",
              "      <th>Recall Train</th>\n",
              "      <td>0.980952</td>\n",
              "      <td>0.980952</td>\n",
              "      <td>1.000000</td>\n",
              "      <td>0.971429</td>\n",
              "      <td>1.000000</td>\n",
              "      <td>0.980952</td>\n",
              "      <td>0.990476</td>\n",
              "      <td>0.990476</td>\n",
              "      <td>1.000000</td>\n",
              "      <td>1.000000</td>\n",
              "      <td>0.961905</td>\n",
              "      <td>0.980952</td>\n",
              "      <td>0.980952</td>\n",
              "      <td>0.990476</td>\n",
              "    </tr>\n",
              "    <tr>\n",
              "      <th>Recall Test</th>\n",
              "      <td>0.933333</td>\n",
              "      <td>0.955556</td>\n",
              "      <td>0.933333</td>\n",
              "      <td>0.933333</td>\n",
              "      <td>0.933333</td>\n",
              "      <td>0.933333</td>\n",
              "      <td>0.977778</td>\n",
              "      <td>0.977778</td>\n",
              "      <td>0.933333</td>\n",
              "      <td>0.933333</td>\n",
              "      <td>0.911111</td>\n",
              "      <td>0.911111</td>\n",
              "      <td>0.977778</td>\n",
              "      <td>0.933333</td>\n",
              "    </tr>\n",
              "    <tr>\n",
              "      <th>Accuracy Train</th>\n",
              "      <td>0.980952</td>\n",
              "      <td>0.980952</td>\n",
              "      <td>1.000000</td>\n",
              "      <td>0.971429</td>\n",
              "      <td>1.000000</td>\n",
              "      <td>0.980952</td>\n",
              "      <td>0.990476</td>\n",
              "      <td>0.990476</td>\n",
              "      <td>1.000000</td>\n",
              "      <td>1.000000</td>\n",
              "      <td>0.961905</td>\n",
              "      <td>0.980952</td>\n",
              "      <td>0.980952</td>\n",
              "      <td>0.990476</td>\n",
              "    </tr>\n",
              "    <tr>\n",
              "      <th>Accuracy Test</th>\n",
              "      <td>0.933333</td>\n",
              "      <td>0.955556</td>\n",
              "      <td>0.933333</td>\n",
              "      <td>0.933333</td>\n",
              "      <td>0.933333</td>\n",
              "      <td>0.933333</td>\n",
              "      <td>0.977778</td>\n",
              "      <td>0.977778</td>\n",
              "      <td>0.933333</td>\n",
              "      <td>0.933333</td>\n",
              "      <td>0.911111</td>\n",
              "      <td>0.911111</td>\n",
              "      <td>0.977778</td>\n",
              "      <td>0.933333</td>\n",
              "    </tr>\n",
              "    <tr>\n",
              "      <th>F1 macro Train</th>\n",
              "      <td>0.980938</td>\n",
              "      <td>0.980952</td>\n",
              "      <td>1.000000</td>\n",
              "      <td>0.971379</td>\n",
              "      <td>1.000000</td>\n",
              "      <td>0.980938</td>\n",
              "      <td>0.990474</td>\n",
              "      <td>0.990474</td>\n",
              "      <td>1.000000</td>\n",
              "      <td>1.000000</td>\n",
              "      <td>0.961905</td>\n",
              "      <td>0.980952</td>\n",
              "      <td>0.980938</td>\n",
              "      <td>0.990474</td>\n",
              "    </tr>\n",
              "    <tr>\n",
              "      <th>F1 macro Test</th>\n",
              "      <td>0.933248</td>\n",
              "      <td>0.955556</td>\n",
              "      <td>0.933248</td>\n",
              "      <td>0.933248</td>\n",
              "      <td>0.933248</td>\n",
              "      <td>0.933248</td>\n",
              "      <td>0.977749</td>\n",
              "      <td>0.977749</td>\n",
              "      <td>0.933248</td>\n",
              "      <td>0.933248</td>\n",
              "      <td>0.911111</td>\n",
              "      <td>0.911111</td>\n",
              "      <td>0.977749</td>\n",
              "      <td>0.932559</td>\n",
              "    </tr>\n",
              "  </tbody>\n",
              "</table>\n",
              "</div>"
            ],
            "text/plain": [
              "                 Logistic regression  Logistic regression tuned  \\\n",
              "Precision Train             0.981955                   0.980952   \n",
              "Precision Test              0.934587                   0.955556   \n",
              "Recall Train                0.980952                   0.980952   \n",
              "Recall Test                 0.933333                   0.955556   \n",
              "Accuracy Train              0.980952                   0.980952   \n",
              "Accuracy Test               0.933333                   0.955556   \n",
              "F1 macro Train              0.980938                   0.980952   \n",
              "F1 macro Test               0.933248                   0.955556   \n",
              "\n",
              "                 Decision Tree  Decision Tree tuned  Random Forest  \\\n",
              "Precision Train       1.000000             0.973626       1.000000   \n",
              "Precision Test        0.934587             0.934587       0.934587   \n",
              "Recall Train          1.000000             0.971429       1.000000   \n",
              "Recall Test           0.933333             0.933333       0.933333   \n",
              "Accuracy Train        1.000000             0.971429       1.000000   \n",
              "Accuracy Test         0.933333             0.933333       0.933333   \n",
              "F1 macro Train        1.000000             0.971379       1.000000   \n",
              "F1 macro Test         0.933248             0.933248       0.933248   \n",
              "\n",
              "                 Random Forest tuned       SVM  SVM tuned       XGB  \\\n",
              "Precision Train             0.981955  0.990734   0.990734  1.000000   \n",
              "Precision Test              0.934587  0.979259   0.979259  0.934587   \n",
              "Recall Train                0.980952  0.990476   0.990476  1.000000   \n",
              "Recall Test                 0.933333  0.977778   0.977778  0.933333   \n",
              "Accuracy Train              0.980952  0.990476   0.990476  1.000000   \n",
              "Accuracy Test               0.933333  0.977778   0.977778  0.933333   \n",
              "F1 macro Train              0.980938  0.990474   0.990474  1.000000   \n",
              "F1 macro Test               0.933248  0.977749   0.977749  0.933248   \n",
              "\n",
              "                 XGB tuned  Naive Bayes  Naive Bayes tuned  Neural Network  \\\n",
              "Precision Train   1.000000     0.961905           0.980952        0.981955   \n",
              "Precision Test    0.934587     0.911111           0.911111        0.979259   \n",
              "Recall Train      1.000000     0.961905           0.980952        0.980952   \n",
              "Recall Test       0.933333     0.911111           0.911111        0.977778   \n",
              "Accuracy Train    1.000000     0.961905           0.980952        0.980952   \n",
              "Accuracy Test     0.933333     0.911111           0.911111        0.977778   \n",
              "F1 macro Train    1.000000     0.961905           0.980952        0.980938   \n",
              "F1 macro Test     0.933248     0.911111           0.911111        0.977749   \n",
              "\n",
              "                 Neural Network tuned  \n",
              "Precision Train              0.990734  \n",
              "Precision Test               0.945098  \n",
              "Recall Train                 0.990476  \n",
              "Recall Test                  0.933333  \n",
              "Accuracy Train               0.990476  \n",
              "Accuracy Test                0.933333  \n",
              "F1 macro Train               0.990474  \n",
              "F1 macro Test                0.932559  "
            ]
          },
          "execution_count": 81,
          "metadata": {},
          "output_type": "execute_result"
        }
      ],
      "source": [
        "# Updated Evaluation metric Score Chart\n",
        "score"
      ]
    },
    {
      "cell_type": "markdown",
      "metadata": {
        "id": "CRsBoyiUaSnj"
      },
      "source": [
        "It appears that hyperparameter tuning improve the performance of the neural network model on the test set. The precision, recall, accuracy and F1 scores on the test set are increased for the tuned neural network model compare to untuned neural network model."
      ]
    },
    {
      "cell_type": "code",
      "execution_count": 82,
      "metadata": {
        "colab": {
          "base_uri": "https://localhost:8080/"
        },
        "id": "U6asxmA7aSnj",
        "outputId": "d52a3ca0-484a-4898-ebb6-833236c22a5b"
      },
      "outputs": [
        {
          "name": "stdout",
          "output_type": "stream",
          "text": [
            "|                 |   Logistic regression |   Logistic regression tuned |   Decision Tree |   Decision Tree tuned |   Random Forest |   Random Forest tuned |      SVM |   SVM tuned |      XGB |   XGB tuned |   Naive Bayes |   Naive Bayes tuned |   Neural Network |   Neural Network tuned |\n",
            "|:----------------|----------------------:|----------------------------:|----------------:|----------------------:|----------------:|----------------------:|---------:|------------:|---------:|------------:|--------------:|--------------------:|-----------------:|-----------------------:|\n",
            "| Precision Train |              0.981955 |                    0.980952 |        1        |              0.973626 |        1        |              0.981955 | 0.990734 |    0.990734 | 1        |    1        |      0.961905 |            0.980952 |         0.981955 |               0.990734 |\n",
            "| Precision Test  |              0.934587 |                    0.955556 |        0.934587 |              0.934587 |        0.934587 |              0.934587 | 0.979259 |    0.979259 | 0.934587 |    0.934587 |      0.911111 |            0.911111 |         0.979259 |               0.945098 |\n",
            "| Recall Train    |              0.980952 |                    0.980952 |        1        |              0.971429 |        1        |              0.980952 | 0.990476 |    0.990476 | 1        |    1        |      0.961905 |            0.980952 |         0.980952 |               0.990476 |\n",
            "| Recall Test     |              0.933333 |                    0.955556 |        0.933333 |              0.933333 |        0.933333 |              0.933333 | 0.977778 |    0.977778 | 0.933333 |    0.933333 |      0.911111 |            0.911111 |         0.977778 |               0.933333 |\n",
            "| Accuracy Train  |              0.980952 |                    0.980952 |        1        |              0.971429 |        1        |              0.980952 | 0.990476 |    0.990476 | 1        |    1        |      0.961905 |            0.980952 |         0.980952 |               0.990476 |\n",
            "| Accuracy Test   |              0.933333 |                    0.955556 |        0.933333 |              0.933333 |        0.933333 |              0.933333 | 0.977778 |    0.977778 | 0.933333 |    0.933333 |      0.911111 |            0.911111 |         0.977778 |               0.933333 |\n",
            "| F1 macro Train  |              0.980938 |                    0.980952 |        1        |              0.971379 |        1        |              0.980938 | 0.990474 |    0.990474 | 1        |    1        |      0.961905 |            0.980952 |         0.980938 |               0.990474 |\n",
            "| F1 macro Test   |              0.933248 |                    0.955556 |        0.933248 |              0.933248 |        0.933248 |              0.933248 | 0.977749 |    0.977749 | 0.933248 |    0.933248 |      0.911111 |            0.911111 |         0.977749 |               0.932559 |\n"
          ]
        }
      ],
      "source": [
        "print(score.to_markdown())"
      ]
    },
    {
      "cell_type": "markdown",
      "metadata": {
        "id": "UisOqWiDb6SZ"
      },
      "source": [
        "## ***Selection of best model***"
      ]
    },
    {
      "cell_type": "code",
      "execution_count": 83,
      "metadata": {
        "colab": {
          "base_uri": "https://localhost:8080/",
          "height": 175
        },
        "id": "fjJYcn8HHMRL",
        "outputId": "b6908ad1-89a1-4fda-963c-725ec94b4a1d"
      },
      "outputs": [
        {
          "data": {
            "text/html": [
              "<div>\n",
              "<style scoped>\n",
              "    .dataframe tbody tr th:only-of-type {\n",
              "        vertical-align: middle;\n",
              "    }\n",
              "\n",
              "    .dataframe tbody tr th {\n",
              "        vertical-align: top;\n",
              "    }\n",
              "\n",
              "    .dataframe thead th {\n",
              "        text-align: right;\n",
              "    }\n",
              "</style>\n",
              "<table border=\"1\" class=\"dataframe\">\n",
              "  <thead>\n",
              "    <tr style=\"text-align: right;\">\n",
              "      <th></th>\n",
              "      <th>Precision Train</th>\n",
              "      <th>Precision Test</th>\n",
              "      <th>Recall Train</th>\n",
              "      <th>Recall Test</th>\n",
              "      <th>Accuracy Train</th>\n",
              "      <th>Accuracy Test</th>\n",
              "      <th>F1 macro Train</th>\n",
              "      <th>F1 macro Test</th>\n",
              "    </tr>\n",
              "  </thead>\n",
              "  <tbody>\n",
              "    <tr>\n",
              "      <th>Decision Tree tuned</th>\n",
              "      <td>0.973626</td>\n",
              "      <td>0.934587</td>\n",
              "      <td>0.971429</td>\n",
              "      <td>0.933333</td>\n",
              "      <td>0.971429</td>\n",
              "      <td>0.933333</td>\n",
              "      <td>0.971379</td>\n",
              "      <td>0.933248</td>\n",
              "    </tr>\n",
              "    <tr>\n",
              "      <th>Naive Bayes</th>\n",
              "      <td>0.961905</td>\n",
              "      <td>0.911111</td>\n",
              "      <td>0.961905</td>\n",
              "      <td>0.911111</td>\n",
              "      <td>0.961905</td>\n",
              "      <td>0.911111</td>\n",
              "      <td>0.961905</td>\n",
              "      <td>0.911111</td>\n",
              "    </tr>\n",
              "  </tbody>\n",
              "</table>\n",
              "</div>"
            ],
            "text/plain": [
              "                     Precision Train  Precision Test  Recall Train  \\\n",
              "Decision Tree tuned         0.973626        0.934587      0.971429   \n",
              "Naive Bayes                 0.961905        0.911111      0.961905   \n",
              "\n",
              "                     Recall Test  Accuracy Train  Accuracy Test  \\\n",
              "Decision Tree tuned     0.933333        0.971429       0.933333   \n",
              "Naive Bayes             0.911111        0.961905       0.911111   \n",
              "\n",
              "                     F1 macro Train  F1 macro Test  \n",
              "Decision Tree tuned        0.971379       0.933248  \n",
              "Naive Bayes                0.961905       0.911111  "
            ]
          },
          "execution_count": 83,
          "metadata": {},
          "output_type": "execute_result"
        }
      ],
      "source": [
        "# Removing the overfitted models which have precision, recall, f1 scores for train as 1\n",
        "score_t = (\n",
        "    score.transpose()\n",
        ")  # taking transpose of the score dataframe to create new difference column\n",
        "remove_models = score_t[\n",
        "    score_t[\"Recall Train\"] >= 0.98\n",
        "].index  # creating a list of models which have 1 for train and score_t['Accuracy Train']==1.0 and score_t['Precision Train']==1.0 and score_t['F1 macro Train']==1.0\n",
        "remove_models\n",
        "\n",
        "adj = score_t.drop(remove_models)  # creating a new dataframe with required models\n",
        "adj"
      ]
    },
    {
      "cell_type": "code",
      "execution_count": 84,
      "metadata": {
        "id": "rma9TJDoilsO"
      },
      "outputs": [],
      "source": [
        "def select_best_model(df, metrics):\n",
        "    best_models = {}\n",
        "    for metric in metrics:\n",
        "        max_test = df[metric + \" Test\"].max()\n",
        "        best_model_test = df[df[metric + \" Test\"] == max_test].index[0]\n",
        "        best_model = best_model_test\n",
        "        best_models[metric] = best_model\n",
        "    return best_models"
      ]
    },
    {
      "cell_type": "code",
      "execution_count": 85,
      "metadata": {
        "colab": {
          "base_uri": "https://localhost:8080/"
        },
        "id": "WlQYp9uRc9cn",
        "outputId": "624efcaf-afc3-4c8a-fd83-fe4fbb448694"
      },
      "outputs": [
        {
          "name": "stdout",
          "output_type": "stream",
          "text": [
            "The best models are:\n",
            "Precision: Decision Tree tuned - 0.9346\n",
            "Recall: Decision Tree tuned - 0.9333\n",
            "Accuracy: Decision Tree tuned - 0.9333\n",
            "F1 macro: Decision Tree tuned - 0.9332\n"
          ]
        }
      ],
      "source": [
        "metrics = [\"Precision\", \"Recall\", \"Accuracy\", \"F1 macro\"]\n",
        "\n",
        "best_models = select_best_model(adj, metrics)\n",
        "print(\"The best models are:\")\n",
        "for metric, best_model in best_models.items():\n",
        "    print(f\"{metric}: {best_model} - {adj[metric+' Test'][best_model].round(4)}\")"
      ]
    },
    {
      "cell_type": "code",
      "execution_count": 86,
      "metadata": {
        "colab": {
          "base_uri": "https://localhost:8080/"
        },
        "id": "kS_pGstoU6El",
        "outputId": "7d9baa61-ef06-414c-bc40-aabd1052ff93"
      },
      "outputs": [
        {
          "name": "stdout",
          "output_type": "stream",
          "text": [
            "| Classification Model   |   Recall Train |   Recall Test |\n",
            "|:-----------------------|---------------:|--------------:|\n",
            "| Decision Tree tuned    |       0.971429 |      0.933333 |\n",
            "| Naive Bayes            |       0.961905 |      0.911111 |\n"
          ]
        }
      ],
      "source": [
        "# Take recall as the primary evaluation metric\n",
        "score_smpl = score.transpose()\n",
        "remove_overfitting_models = score_smpl[score_smpl[\"Recall Train\"] >= 0.98].index\n",
        "remove_overfitting_models\n",
        "new_score = score_smpl.drop(remove_overfitting_models)\n",
        "new_score = new_score.drop(\n",
        "    [\n",
        "        \"Precision Train\",\n",
        "        \"Precision Test\",\n",
        "        \"Accuracy Train\",\n",
        "        \"Accuracy Test\",\n",
        "        \"F1 macro Train\",\n",
        "        \"F1 macro Test\",\n",
        "    ],\n",
        "    axis=1,\n",
        ")\n",
        "new_score.index.name = \"Classification Model\"\n",
        "print(new_score.to_markdown())"
      ]
    },
    {
      "cell_type": "markdown",
      "metadata": {
        "id": "HvGl1hHyA_VK"
      },
      "source": [
        "### 3. Using the best model for predictions on user random input data."
      ]
    },
    {
      "cell_type": "code",
      "execution_count": 87,
      "metadata": {
        "id": "sCRRWimo6E8P"
      },
      "outputs": [],
      "source": [
        "# Define a list of category labels for reference.\n",
        "CATEGORY_LABELS = [\"Iris-Setosa\", \"Iris-Versicolor\", \"Iris-Virginica\"]"
      ]
    },
    {
      "cell_type": "code",
      "execution_count": 88,
      "metadata": {
        "colab": {
          "base_uri": "https://localhost:8080/"
        },
        "id": "SjxiBmCh7gJW",
        "outputId": "f09a36a2-7881-4658-fb9a-372f3c8efd21"
      },
      "outputs": [
        {
          "name": "stdout",
          "output_type": "stream",
          "text": [
            "Iris-Virginica\n"
          ]
        }
      ],
      "source": [
        "# In this example, it's a data point with Sepal Length, Sepal Width, Petal Length, and Petal Width.\n",
        "input_data = np.array([[5.9, 3, 5.1, 1.8]])\n",
        "\n",
        "# Use the tuned random forest model (rf_model2) to make a prediction.\n",
        "best_model_prediction = lr_model2.predict(input_data)\n",
        "best_model_prediction[0]\n",
        "\n",
        "# Display the predicted category label.\n",
        "print(CATEGORY_LABELS[int(best_model_prediction[0])])"
      ]
    }
  ],
  "metadata": {
    "colab": {
      "collapsed_sections": [
        "vncDsAP0Gaoa",
        "FJNUwmbgGyua",
        "w6K7xa23Elo4",
        "yQaldy8SH6Dl",
        "O_i_v8NEhb9l",
        "HhfV-JJviCcP",
        "Y3lxredqlCYt",
        "3RnN4peoiCZX",
        "x71ZqKXriCWQ",
        "7hBIi_osiCS2",
        "JlHwYmJAmNHm",
        "35m5QtbWiB9F",
        "PoPl-ycgm1ru",
        "H0kj-8xxnORC",
        "nA9Y7ga8ng1Z",
        "u3PMJOP6ngxN",
        "dauF4eBmngu3",
        "bKJF3rekwFvQ",
        "MSa1f5Uengrz",
        "GF8Ens_Soomf",
        "0wOQAZs5pc--",
        "KSlN3yHqYklG",
        "EM7whBJCYoAo",
        "4Of9eVA-YrdM",
        "bamQiAODYuh1",
        "OH-pJp9IphqM",
        "yLjJCtPM0KBk",
        "89xtkJwZ18nB",
        "rMDnDkt2B6du",
        "BhH2vgX9EjGr",
        "VfCC591jGiD4",
        "mWppNeqWwA-M",
        "pTi0g55fwA-W",
        "iv0m-lDQwA-W",
        "mwnxeO7jwA-X",
        "huCCA590wA-X",
        "VzKNBLqiwA-Y",
        "1GL-36pywA-Y",
        "nWFgbYYVwA-Z",
        "841njF38wA-Z",
        "AkBX0MHbwA-a",
        "Bgen1cFIwA-a",
        "JPT_4dYWwA-a",
        "LRvyaI9BwA-b",
        "c-26ctgmwA-c",
        "HO3sJ66GwA-c",
        "lHIyvCjC_4_G",
        "zlBiexnN_4_G",
        "ffEiQ19I_4_H",
        "Bbpe4TaP_4_H",
        "ifZ_nK19_4_H",
        "2CnsMkMiM-8g",
        "axoYmkZZM-8g",
        "YcglZXVVM-8h",
        "dOuC2Vx2M-8i",
        "N5YXAPbAM-8i",
        "pVXGvXVb_6FF",
        "1R6e5Trb_6FF",
        "zhaPpYXo_6FF",
        "ZYFMyHqX_6FG",
        "t4hU8F0I_6FG",
        "1NNpISRdaSng",
        "6IvVWbfDaSnh",
        "0bSwMgKcaSnh",
        "IXHnAaJfaSni",
        "BSoGk_2RaSnj",
        "UisOqWiDb6SZ",
        "h_CCil-SKHpo",
        "cBFFvTBNJzUa",
        "HvGl1hHyA_VK",
        "gCX9965dhzqZ"
      ],
      "include_colab_link": true,
      "provenance": []
    },
    "kernelspec": {
      "display_name": "Python 3",
      "name": "python3"
    },
    "language_info": {
      "codemirror_mode": {
        "name": "ipython",
        "version": 3
      },
      "file_extension": ".py",
      "mimetype": "text/x-python",
      "name": "python",
      "nbconvert_exporter": "python",
      "pygments_lexer": "ipython3",
      "version": "3.11.5"
    }
  },
  "nbformat": 4,
  "nbformat_minor": 0
}
